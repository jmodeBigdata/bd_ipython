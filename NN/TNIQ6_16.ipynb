{
 "metadata": {
  "name": "",
  "signature": "sha256:548a3bf26645d7b3f0b6a0d1cdfa46a95970ad4709317ffee31338c9d7232b84"
 },
 "nbformat": 3,
 "nbformat_minor": 0,
 "worksheets": [
  {
   "cells": [
    {
     "cell_type": "code",
     "collapsed": false,
     "input": [
      "#\u6570\u91cf\u306f\u3053\u3053\uff01\uff01\n",
      "\n",
      "#!/usr/bin/env python\n",
      "# coding: utf-8\n",
      "import pandas as pd\n",
      "temp=pd.read_csv(\"features2.csv\",names=('ShopID','Square','ShopType1','ShopType2','ShopType3','ShopType4','ShopRank','Category','PS'))\n",
      "temptarget = pd.read_csv(\"sales.csv\",header=0)\n",
      "\n",
      "\n",
      "#from __future__ import print_function\n",
      "import numpy as np\n",
      "from sklearn.cross_validation import train_test_split\n",
      "\n",
      "import six\n",
      "import sys\n",
      "import chainer\n",
      "import chainer.links as L\n",
      "from chainer import optimizers\n",
      "import chainer.functions as F\n",
      "from matplotlib import pyplot\n",
      "%matplotlib inline\n",
      "\n",
      "\n",
      "batchsize = 40\n",
      "n_epoch = 100\n",
      "\n",
      "# Prepare dataset\n",
      "target_list=[]\n",
      "for i in zip(temptarget['Quant']):\n",
      "    target_list.append([i])\n",
      "target = np.array(target_list)\n",
      "\n",
      "\n",
      "feature_lists = []\n",
      "#for i,j,k,l in zip(temp['ShopID'],temp['Square'],temp['ShopRank'],temp['ShopType'],temp['PS']):\n",
      "for i,j,k,l,m,n,o in zip(temp['Square'],temp['ShopType1'],temp['ShopType2'],temp['ShopType3'],temp['ShopType4'],temp['ShopRank'],temp['PS']):\n",
      "    feature_lists.append([i,j,k,l,m,n,o])\n",
      "features = np.array(feature_lists)\n",
      "\n",
      "target=target.astype(np.float32).reshape(len(target_list), 1)\n",
      "feature=features.astype(np.float32)\n",
      "\n",
      "\n",
      "x_train, x_test, y_train, y_test = train_test_split(feature, target, test_size=0.2)\n",
      "N_test = y_test.size  # test data size\n",
      "N = len(x_train)  # train data size\n",
      "in_units = x_train.shape[1]  \n",
      "\n",
      "\n",
      "n_units_2 = 90\n",
      "n_units_3 = 90\n",
      "n_units_4 = 90\n",
      "n_units_5 = 10\n",
      "\n",
      "model = chainer.Chain(\n",
      "    l1=L.Linear(in_units, n_units_2),\n",
      "    l2=L.Linear(n_units_2, n_units_3),\n",
      "    l3=L.Linear(n_units_3,  n_units_4),\n",
      "    l4=L.Linear(n_units_4,  n_units_5),\n",
      "    l5=L.Linear(n_units_5,  1))\n",
      "\n",
      "\n",
      "def forward(x):\n",
      "    h1 = F.relu(model.l1(x))\n",
      "    h2 = F.relu(model.l2(h1))\n",
      "    h3 = F.relu(model.l3(h2))\n",
      "    h4 = F.relu(model.l4(h3))\n",
      "    y = model.l5(h4)\n",
      "    return y\n",
      "    #return F.tanh(model.l5(h4))\n",
      "\n",
      "# Setup optimizer\u6700\u9069\u5316\u306e\u30bb\u30c3\u30c8\u30a2\u30c3\u30d7\n",
      "optimizer = optimizers.Adam()#\u52fe\u914d\u6cd5\u306e\u30a2\u30eb\u30b4\u30ea\u30ba\u30e0:Adam\n",
      "optimizer.setup(model)\n",
      "#optimizer.add_hokk(optimizer.WeightDecay())#\u6b63\u5247\u5316\u3092hook\u95a2\u6570\u3068\u3057\u3066\u767b\u9332\n",
      "\n",
      "# Learning loop\n",
      "LOSS = []\n",
      "Ylist = []\n",
      "for epoch in six.moves.range(1, n_epoch + 1):\n",
      "    print('epoch', epoch)\n",
      "    # training\n",
      "    perm = np.random.permutation(N)\n",
      "    sum_loss = 0.0\n",
      "    for i in six.moves.range(0, N, batchsize):\n",
      "        x = chainer.Variable(np.asarray(x_train[perm[i:i + batchsize]]))\n",
      "        t = chainer.Variable(np.asarray((y_train[perm[i:i + batchsize]])))\n",
      "        model.zerograds()#\u52fe\u914d\u3092\u30bc\u30ed\u521d\u671f\u5316\n",
      "        y = forward(x)\n",
      "        loss = F.mean_squared_error(y, t)#\u5e73\u57472\u4e57\u8aa4\u5dee\n",
      "        sum_loss += loss.data\n",
      "        loss.backward()#\u52fe\u914d\u8a08\u7b97\n",
      "        optimizer.update()#\u6700\u9069\u5316\u30eb\u30fc\u30c1\u30f3\u3092\u5b9f\u884c\n",
      "    print('train mean loss={}'.format(sum_loss / N))\n",
      "\n",
      "    # all test data\n",
      "    x = chainer.Variable(np.asarray(x_test))#\u7279\u5fb4\u91cf\n",
      "    t = chainer.Variable(np.asarray((y_test)))#\u6559\u5e2b\u30c7\u30fc\u30bf\n",
      "    y = forward(x)#\u51fa\u529b\n",
      "    loss = F.mean_squared_error(y, t)\n",
      "    LOSS.append(loss.data/N_test)\n",
      "    print(' test mean loss={}'.format(loss.data / N_test))\n",
      "Ylist.append(y.data)\n",
      "#print(\"Y = \", Ylist)\n",
      "pyplot.plot((LOSS))\n",
      "\n",
      "diff=[]\n",
      "diff.append(Ylist-y_test)\n",
      "print(diff)"
     ],
     "language": "python",
     "metadata": {},
     "outputs": [
      {
       "output_type": "stream",
       "stream": "stdout",
       "text": [
        "epoch 1\n",
        "train mean loss=2.380299676701942"
       ]
      },
      {
       "output_type": "stream",
       "stream": "stdout",
       "text": [
        "\n",
        " test mean loss=0.1352097193400065\n",
        "epoch 2\n",
        "train mean loss=1.4121545069711612"
       ]
      },
      {
       "output_type": "stream",
       "stream": "stdout",
       "text": [
        "\n",
        " test mean loss=0.12593752543131512\n",
        "epoch 3\n",
        "train mean loss=1.3883236049860406"
       ]
      },
      {
       "output_type": "stream",
       "stream": "stdout",
       "text": [
        "\n",
        " test mean loss=0.12542877197265626\n",
        "epoch 4\n",
        "train mean loss=1.3673213606528711"
       ]
      },
      {
       "output_type": "stream",
       "stream": "stdout",
       "text": [
        "\n",
        " test mean loss=0.12227395375569662\n",
        "epoch 5\n",
        "train mean loss=1.352099826505851"
       ]
      },
      {
       "output_type": "stream",
       "stream": "stdout",
       "text": [
        "\n",
        " test mean loss=0.12093467712402343\n",
        "epoch 6\n",
        "train mean loss=1.3353122824080141"
       ]
      },
      {
       "output_type": "stream",
       "stream": "stdout",
       "text": [
        "\n",
        " test mean loss=0.12206831614176432\n",
        "epoch 7\n",
        "train mean loss=1.3054563543010425"
       ]
      },
      {
       "output_type": "stream",
       "stream": "stdout",
       "text": [
        "\n",
        " test mean loss=0.1163750712076823\n",
        "epoch 8\n",
        "train mean loss=1.2677823126738446"
       ]
      },
      {
       "output_type": "stream",
       "stream": "stdout",
       "text": [
        "\n",
        " test mean loss=0.11563438415527344\n",
        "epoch 9\n",
        "train mean loss=1.2343800772523423"
       ]
      },
      {
       "output_type": "stream",
       "stream": "stdout",
       "text": [
        "\n",
        " test mean loss=0.11087706247965495\n",
        "epoch 10\n",
        "train mean loss=1.1687442267522459"
       ]
      },
      {
       "output_type": "stream",
       "stream": "stdout",
       "text": [
        "\n",
        " test mean loss=0.10273861567179363\n",
        "epoch 11\n",
        "train mean loss=1.1416470538382235"
       ]
      },
      {
       "output_type": "stream",
       "stream": "stdout",
       "text": [
        "\n",
        " test mean loss=0.1027622413635254\n",
        "epoch 12\n",
        "train mean loss=1.1288917262437892"
       ]
      },
      {
       "output_type": "stream",
       "stream": "stdout",
       "text": [
        "\n",
        " test mean loss=0.09976291020711263\n",
        "epoch 13\n",
        "train mean loss=1.1088362614678164"
       ]
      },
      {
       "output_type": "stream",
       "stream": "stdout",
       "text": [
        "\n",
        " test mean loss=0.09729094823201498\n",
        "epoch 14\n",
        "train mean loss=1.1039292127602098"
       ]
      },
      {
       "output_type": "stream",
       "stream": "stdout",
       "text": [
        "\n",
        " test mean loss=0.09858020782470703\n",
        "epoch 15\n",
        "train mean loss=1.1532186728410296"
       ]
      },
      {
       "output_type": "stream",
       "stream": "stdout",
       "text": [
        "\n",
        " test mean loss=0.10587204615275066\n",
        "epoch 16\n",
        "train mean loss=1.1219524055185195"
       ]
      },
      {
       "output_type": "stream",
       "stream": "stdout",
       "text": [
        "\n",
        " test mean loss=0.09846729914347331\n",
        "epoch 17\n",
        "train mean loss=1.0832063810881996"
       ]
      },
      {
       "output_type": "stream",
       "stream": "stdout",
       "text": [
        "\n",
        " test mean loss=0.09751495361328125\n",
        "epoch 18\n",
        "train mean loss=1.0816381811449656"
       ]
      },
      {
       "output_type": "stream",
       "stream": "stdout",
       "text": [
        "\n",
        " test mean loss=0.09431495030721028\n",
        "epoch 19\n",
        "train mean loss=1.0605481391451963"
       ]
      },
      {
       "output_type": "stream",
       "stream": "stdout",
       "text": [
        "\n",
        " test mean loss=0.09601588567097982\n",
        "epoch 20\n",
        "train mean loss=1.0584318905186783"
       ]
      },
      {
       "output_type": "stream",
       "stream": "stdout",
       "text": [
        "\n",
        " test mean loss=0.09349826176961264\n",
        "epoch 21\n",
        "train mean loss=1.0719969535977107"
       ]
      },
      {
       "output_type": "stream",
       "stream": "stdout",
       "text": [
        "\n",
        " test mean loss=0.0916518211364746\n",
        "epoch 22\n",
        "train mean loss=1.0429771617334453"
       ]
      },
      {
       "output_type": "stream",
       "stream": "stdout",
       "text": [
        "\n",
        " test mean loss=0.09077813466389974\n",
        "epoch 23\n",
        "train mean loss=1.025177312424005"
       ]
      },
      {
       "output_type": "stream",
       "stream": "stdout",
       "text": [
        "\n",
        " test mean loss=0.09616358439127604\n",
        "epoch 24\n",
        "train mean loss=1.0482971386990978"
       ]
      },
      {
       "output_type": "stream",
       "stream": "stdout",
       "text": [
        "\n",
        " test mean loss=0.09187312444051107\n",
        "epoch 25\n",
        "train mean loss=1.0265065581165487"
       ]
      },
      {
       "output_type": "stream",
       "stream": "stdout",
       "text": [
        "\n",
        " test mean loss=0.09011373519897461\n",
        "epoch 26\n",
        "train mean loss=1.0432973848178317"
       ]
      },
      {
       "output_type": "stream",
       "stream": "stdout",
       "text": [
        "\n",
        " test mean loss=0.09795067469278972\n",
        "epoch 27\n",
        "train mean loss=1.09303850171565"
       ]
      },
      {
       "output_type": "stream",
       "stream": "stdout",
       "text": [
        "\n",
        " test mean loss=0.08828866958618165\n",
        "epoch 28\n",
        "train mean loss=1.0414160565069785"
       ]
      },
      {
       "output_type": "stream",
       "stream": "stdout",
       "text": [
        "\n",
        " test mean loss=0.09267378489176432\n",
        "epoch 29\n",
        "train mean loss=1.0090822002797288"
       ]
      },
      {
       "output_type": "stream",
       "stream": "stdout",
       "text": [
        "\n",
        " test mean loss=0.09201434453328451\n",
        "epoch 30\n",
        "train mean loss=1.0098485513347644"
       ]
      },
      {
       "output_type": "stream",
       "stream": "stdout",
       "text": [
        "\n",
        " test mean loss=0.09032713572184245\n",
        "epoch 31\n",
        "train mean loss=1.015424397648648"
       ]
      },
      {
       "output_type": "stream",
       "stream": "stdout",
       "text": [
        "\n",
        " test mean loss=0.09199685414632161\n",
        "epoch 32\n",
        "train mean loss=0.9877640798520227"
       ]
      },
      {
       "output_type": "stream",
       "stream": "stdout",
       "text": [
        "\n",
        " test mean loss=0.08398036321004232\n",
        "epoch 33\n",
        "train mean loss=1.0107488361881791"
       ]
      },
      {
       "output_type": "stream",
       "stream": "stdout",
       "text": [
        "\n",
        " test mean loss=0.08374266306559244\n",
        "epoch 34\n",
        "train mean loss=1.0107526759298309"
       ]
      },
      {
       "output_type": "stream",
       "stream": "stdout",
       "text": [
        "\n",
        " test mean loss=0.0834980837504069\n",
        "epoch 35\n",
        "train mean loss=0.9892311233339234"
       ]
      },
      {
       "output_type": "stream",
       "stream": "stdout",
       "text": [
        "\n",
        " test mean loss=0.08329279581705729\n",
        "epoch 36\n",
        "train mean loss=0.9859894290970186"
       ]
      },
      {
       "output_type": "stream",
       "stream": "stdout",
       "text": [
        "\n",
        " test mean loss=0.08335478464762369\n",
        "epoch 37\n",
        "train mean loss=0.9773053443148614"
       ]
      },
      {
       "output_type": "stream",
       "stream": "stdout",
       "text": [
        "\n",
        " test mean loss=0.08147666295369466\n",
        "epoch 38\n",
        "train mean loss=0.9809648117059069"
       ]
      },
      {
       "output_type": "stream",
       "stream": "stdout",
       "text": [
        "\n",
        " test mean loss=0.08410616556803385\n",
        "epoch 39\n",
        "train mean loss=0.9595563887754744"
       ]
      },
      {
       "output_type": "stream",
       "stream": "stdout",
       "text": [
        "\n",
        " test mean loss=0.08706054051717123\n",
        "epoch 40\n",
        "train mean loss=1.0422895790488087"
       ]
      },
      {
       "output_type": "stream",
       "stream": "stdout",
       "text": [
        "\n",
        " test mean loss=0.08606358210245768\n",
        "epoch 41\n",
        "train mean loss=0.9787686667177964"
       ]
      },
      {
       "output_type": "stream",
       "stream": "stdout",
       "text": [
        "\n",
        " test mean loss=0.0809369150797526\n",
        "epoch 42\n",
        "train mean loss=1.0013430544911648"
       ]
      },
      {
       "output_type": "stream",
       "stream": "stdout",
       "text": [
        "\n",
        " test mean loss=0.08763111750284831\n",
        "epoch 43\n",
        "train mean loss=0.9675061300229212"
       ]
      },
      {
       "output_type": "stream",
       "stream": "stdout",
       "text": [
        "\n",
        " test mean loss=0.07909588495890299\n",
        "epoch 44\n",
        "train mean loss=0.9722906278043352"
       ]
      },
      {
       "output_type": "stream",
       "stream": "stdout",
       "text": [
        "\n",
        " test mean loss=0.10788814544677734\n",
        "epoch 45\n",
        "train mean loss=1.0233087142142916"
       ]
      },
      {
       "output_type": "stream",
       "stream": "stdout",
       "text": [
        "\n",
        " test mean loss=0.08115106582641601\n",
        "epoch 46\n",
        "train mean loss=1.000878851231857"
       ]
      },
      {
       "output_type": "stream",
       "stream": "stdout",
       "text": [
        "\n",
        " test mean loss=0.07965693791707357\n",
        "epoch 47\n",
        "train mean loss=0.9821961602850624"
       ]
      },
      {
       "output_type": "stream",
       "stream": "stdout",
       "text": [
        "\n",
        " test mean loss=0.07982463200887044\n",
        "epoch 48\n",
        "train mean loss=0.9700046299198559"
       ]
      },
      {
       "output_type": "stream",
       "stream": "stdout",
       "text": [
        "\n",
        " test mean loss=0.07922843297322592\n",
        "epoch 49\n",
        "train mean loss=0.9642625532830045"
       ]
      },
      {
       "output_type": "stream",
       "stream": "stdout",
       "text": [
        "\n",
        " test mean loss=0.08051554997762045\n",
        "epoch 50\n",
        "train mean loss=0.9337715548045837"
       ]
      },
      {
       "output_type": "stream",
       "stream": "stdout",
       "text": [
        "\n",
        " test mean loss=0.09454975128173829\n",
        "epoch 51\n",
        "train mean loss=0.9590452463739164"
       ]
      },
      {
       "output_type": "stream",
       "stream": "stdout",
       "text": [
        "\n",
        " test mean loss=0.07810564676920573\n",
        "epoch 52\n",
        "train mean loss=0.9451517078865563"
       ]
      },
      {
       "output_type": "stream",
       "stream": "stdout",
       "text": [
        "\n",
        " test mean loss=0.07731461842854817\n",
        "epoch 53\n",
        "train mean loss=0.961637870626382"
       ]
      },
      {
       "output_type": "stream",
       "stream": "stdout",
       "text": [
        "\n",
        " test mean loss=0.08392167409261067\n",
        "epoch 54\n",
        "train mean loss=0.9428853455957347"
       ]
      },
      {
       "output_type": "stream",
       "stream": "stdout",
       "text": [
        "\n",
        " test mean loss=0.08190520604451497\n",
        "epoch 55\n",
        "train mean loss=0.9385785007039523"
       ]
      },
      {
       "output_type": "stream",
       "stream": "stdout",
       "text": [
        "\n",
        " test mean loss=0.0766565195719401\n",
        "epoch 56\n",
        "train mean loss=0.928365197764083"
       ]
      },
      {
       "output_type": "stream",
       "stream": "stdout",
       "text": [
        "\n",
        " test mean loss=0.07707913716634114\n",
        "epoch 57\n",
        "train mean loss=0.9458825789972761"
       ]
      },
      {
       "output_type": "stream",
       "stream": "stdout",
       "text": [
        "\n",
        " test mean loss=0.08028209686279297\n",
        "epoch 58\n",
        "train mean loss=0.9450106793714096"
       ]
      },
      {
       "output_type": "stream",
       "stream": "stdout",
       "text": [
        "\n",
        " test mean loss=0.07698382059733073\n",
        "epoch 59\n",
        "train mean loss=0.9441495508191584"
       ]
      },
      {
       "output_type": "stream",
       "stream": "stdout",
       "text": [
        "\n",
        " test mean loss=0.07733662287394205\n",
        "epoch 60\n",
        "train mean loss=0.9303988571612226"
       ]
      },
      {
       "output_type": "stream",
       "stream": "stdout",
       "text": [
        "\n",
        " test mean loss=0.07534781773885091\n",
        "epoch 61\n",
        "train mean loss=0.9531399049874195"
       ]
      },
      {
       "output_type": "stream",
       "stream": "stdout",
       "text": [
        "\n",
        " test mean loss=0.07638436635335287\n",
        "epoch 62\n",
        "train mean loss=0.9381471769468841"
       ]
      },
      {
       "output_type": "stream",
       "stream": "stdout",
       "text": [
        "\n",
        " test mean loss=0.08081866582234701\n",
        "epoch 63\n",
        "train mean loss=0.9560074679003799"
       ]
      },
      {
       "output_type": "stream",
       "stream": "stdout",
       "text": [
        "\n",
        " test mean loss=0.07679801305135091\n",
        "epoch 64\n",
        "train mean loss=0.9480870339511682"
       ]
      },
      {
       "output_type": "stream",
       "stream": "stdout",
       "text": [
        "\n",
        " test mean loss=0.08109812418619791\n",
        "epoch 65\n",
        "train mean loss=0.9274582594521297"
       ]
      },
      {
       "output_type": "stream",
       "stream": "stdout",
       "text": [
        "\n",
        " test mean loss=0.077144775390625\n",
        "epoch 66\n",
        "train mean loss=0.9718115217440225"
       ]
      },
      {
       "output_type": "stream",
       "stream": "stdout",
       "text": [
        "\n",
        " test mean loss=0.08059720357259115\n",
        "epoch 67\n",
        "train mean loss=0.9278127917551706"
       ]
      },
      {
       "output_type": "stream",
       "stream": "stdout",
       "text": [
        "\n",
        " test mean loss=0.07479063034057618\n",
        "epoch 68\n",
        "train mean loss=0.9357551286100297"
       ]
      },
      {
       "output_type": "stream",
       "stream": "stdout",
       "text": [
        "\n",
        " test mean loss=0.07979449590047201\n",
        "epoch 69\n",
        "train mean loss=0.934231154269703"
       ]
      },
      {
       "output_type": "stream",
       "stream": "stdout",
       "text": [
        "\n",
        " test mean loss=0.08099422454833985\n",
        "epoch 70\n",
        "train mean loss=0.9382618933530985"
       ]
      },
      {
       "output_type": "stream",
       "stream": "stdout",
       "text": [
        "\n",
        " test mean loss=0.07614740371704101\n",
        "epoch 71\n",
        "train mean loss=0.9442732040958635"
       ]
      },
      {
       "output_type": "stream",
       "stream": "stdout",
       "text": [
        "\n",
        " test mean loss=0.07663307189941407\n",
        "epoch 72\n",
        "train mean loss=0.9381635822122819"
       ]
      },
      {
       "output_type": "stream",
       "stream": "stdout",
       "text": [
        "\n",
        " test mean loss=0.07568194071451823\n",
        "epoch 73\n",
        "train mean loss=0.9294157962393592"
       ]
      },
      {
       "output_type": "stream",
       "stream": "stdout",
       "text": [
        "\n",
        " test mean loss=0.0780107307434082\n",
        "epoch 74\n",
        "train mean loss=0.9397715806662912"
       ]
      },
      {
       "output_type": "stream",
       "stream": "stdout",
       "text": [
        "\n",
        " test mean loss=0.0814494260152181\n",
        "epoch 75\n",
        "train mean loss=0.9364591378279158"
       ]
      },
      {
       "output_type": "stream",
       "stream": "stdout",
       "text": [
        "\n",
        " test mean loss=0.0755497932434082\n",
        "epoch 76\n",
        "train mean loss=0.9283431233242682"
       ]
      },
      {
       "output_type": "stream",
       "stream": "stdout",
       "text": [
        "\n",
        " test mean loss=0.0830311393737793\n",
        "epoch 77\n",
        "train mean loss=0.9455335290295822"
       ]
      },
      {
       "output_type": "stream",
       "stream": "stdout",
       "text": [
        "\n",
        " test mean loss=0.07378642400105795\n",
        "epoch 78\n",
        "train mean loss=0.9392129499348764"
       ]
      },
      {
       "output_type": "stream",
       "stream": "stdout",
       "text": [
        "\n",
        " test mean loss=0.0810313606262207\n",
        "epoch 79\n",
        "train mean loss=0.9238436513267094"
       ]
      },
      {
       "output_type": "stream",
       "stream": "stdout",
       "text": [
        "\n",
        " test mean loss=0.07662969589233398\n",
        "epoch 80\n",
        "train mean loss=0.9469757950668685"
       ]
      },
      {
       "output_type": "stream",
       "stream": "stdout",
       "text": [
        "\n",
        " test mean loss=0.08574982325236002\n",
        "epoch 81\n",
        "train mean loss=0.9545715609507145"
       ]
      },
      {
       "output_type": "stream",
       "stream": "stdout",
       "text": [
        "\n",
        " test mean loss=0.08035006205240885\n",
        "epoch 82\n",
        "train mean loss=0.9402340451296591"
       ]
      },
      {
       "output_type": "stream",
       "stream": "stdout",
       "text": [
        "\n",
        " test mean loss=0.07418254216512045\n",
        "epoch 83\n",
        "train mean loss=0.9406886625508558"
       ]
      },
      {
       "output_type": "stream",
       "stream": "stdout",
       "text": [
        "\n",
        " test mean loss=0.07345127741495769\n",
        "epoch 84\n",
        "train mean loss=0.9394728391058199"
       ]
      },
      {
       "output_type": "stream",
       "stream": "stdout",
       "text": [
        "\n",
        " test mean loss=0.07584242502848307\n",
        "epoch 85\n",
        "train mean loss=0.927615303653337"
       ]
      },
      {
       "output_type": "stream",
       "stream": "stdout",
       "text": [
        "\n",
        " test mean loss=0.0754928461710612\n",
        "epoch 86\n",
        "train mean loss=0.9306698040248653"
       ]
      },
      {
       "output_type": "stream",
       "stream": "stdout",
       "text": [
        "\n",
        " test mean loss=0.07848497390747071\n",
        "epoch 87\n",
        "train mean loss=0.9501772908778825"
       ]
      },
      {
       "output_type": "stream",
       "stream": "stdout",
       "text": [
        "\n",
        " test mean loss=0.07745326360066732\n",
        "epoch 88\n",
        "train mean loss=0.9588844510802332"
       ]
      },
      {
       "output_type": "stream",
       "stream": "stdout",
       "text": [
        "\n",
        " test mean loss=0.07762179056803385\n",
        "epoch 89\n",
        "train mean loss=0.9434989970542332"
       ]
      },
      {
       "output_type": "stream",
       "stream": "stdout",
       "text": [
        "\n",
        " test mean loss=0.0766685422261556\n",
        "epoch 90\n",
        "train mean loss=0.9273190285673535"
       ]
      },
      {
       "output_type": "stream",
       "stream": "stdout",
       "text": [
        "\n",
        " test mean loss=0.07642975489298502\n",
        "epoch 91\n",
        "train mean loss=0.9275958246864742"
       ]
      },
      {
       "output_type": "stream",
       "stream": "stdout",
       "text": [
        "\n",
        " test mean loss=0.07418980916341146\n",
        "epoch 92\n",
        "train mean loss=0.9288868136880993"
       ]
      },
      {
       "output_type": "stream",
       "stream": "stdout",
       "text": [
        "\n",
        " test mean loss=0.07399932225545247\n",
        "epoch 93\n",
        "train mean loss=0.929435306213557"
       ]
      },
      {
       "output_type": "stream",
       "stream": "stdout",
       "text": [
        "\n",
        " test mean loss=0.0743101692199707\n",
        "epoch 94\n",
        "train mean loss=0.9321038727961067"
       ]
      },
      {
       "output_type": "stream",
       "stream": "stdout",
       "text": [
        "\n",
        " test mean loss=0.07414035797119141\n",
        "epoch 95\n",
        "train mean loss=0.9172728090496945"
       ]
      },
      {
       "output_type": "stream",
       "stream": "stdout",
       "text": [
        "\n",
        " test mean loss=0.07387106577555339\n",
        "epoch 96\n",
        "train mean loss=0.9213300806723719"
       ]
      },
      {
       "output_type": "stream",
       "stream": "stdout",
       "text": [
        "\n",
        " test mean loss=0.07765247344970704\n",
        "epoch 97\n",
        "train mean loss=0.9444067556692094"
       ]
      },
      {
       "output_type": "stream",
       "stream": "stdout",
       "text": [
        "\n",
        " test mean loss=0.07432277043660482\n",
        "epoch 98\n",
        "train mean loss=0.9221829547142675"
       ]
      },
      {
       "output_type": "stream",
       "stream": "stdout",
       "text": [
        "\n",
        " test mean loss=0.08121269226074218\n",
        "epoch 99\n",
        "train mean loss=0.9342711608873998"
       ]
      },
      {
       "output_type": "stream",
       "stream": "stdout",
       "text": [
        "\n",
        " test mean loss=0.08024693806966146\n",
        "epoch 100\n",
        "train mean loss=0.9233090622119975"
       ]
      },
      {
       "output_type": "stream",
       "stream": "stdout",
       "text": [
        "\n",
        " test mean loss=0.07507340749104818\n"
       ]
      },
      {
       "metadata": {},
       "output_type": "display_data",
       "png": "[encoded data removed]",
       "text": [
        "<matplotlib.figure.Figure at 0x1ddeac2fb00>"
       ]
      }
     ],
     "prompt_number": 66
    },
    {
     "cell_type": "code",
     "collapsed": false,
     "input": [
      "# -*- coding: utf-8 -*-\n",
      "w=0.4\n",
      "Y1=np.array(Ylist[0][20:40])\n",
      "Y2=np.array(y_test[20:40])\n",
      "X=np.arange(len(Y1))\n",
      "\n",
      "pyplot.bar(X,Y1,color='b',width=w,label=\"Y\")\n",
      "pyplot.bar(X+w,Y2,color='c',width=w,label=\"Actual\")\n",
      "pyplot.legend(loc=\"best\")\n",
      "pyplot.grid()"
     ],
     "language": "python",
     "metadata": {},
     "outputs": [
      {
       "metadata": {},
       "output_type": "display_data",
       "png": "[encoded data removed]",
       "text": [
        "<matplotlib.figure.Figure at 0x1ddeb5d2ac8>"
       ]
      }
     ],
     "prompt_number": 89
    },
    {
     "cell_type": "code",
     "collapsed": false,
     "input": [
      "diff=[]\n",
      "diff.append(Ylist[0]-y_test)\n",
      "pyplot.plot(diff[0][0:20])\n",
      "print(\"[\u5e73\u5747\u8aa4\u5dee=\",np.mean(diff[0]),\"\u8aa4\u5dee\u5206\u6563=\",np.var(diff[0]),\"]\")\n",
      "#print(diff[0])"
     ],
     "language": "python",
     "metadata": {},
     "outputs": [
      {
       "output_type": "stream",
       "stream": "stdout",
       "text": [
        "[\u5e73\u5747\u8aa4\u5dee= -0.470434 \u8aa4\u5dee\u5206\u6563= 44.8227 ]\n"
       ]
      },
      {
       "metadata": {},
       "output_type": "display_data",
       "png": "[encoded data removed]",
       "text": [
        "<matplotlib.figure.Figure at 0x1dded9fa9b0>"
       ]
      }
     ],
     "prompt_number": 86
    },
    {
     "cell_type": "code",
     "collapsed": false,
     "input": [],
     "language": "python",
     "metadata": {},
     "outputs": []
    }
   ],
   "metadata": {}
  }
 ]
}