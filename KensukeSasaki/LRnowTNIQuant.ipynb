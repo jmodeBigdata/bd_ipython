{
 "cells": [
  {
   "cell_type": "code",
   "execution_count": null,
   "metadata": {
    "collapsed": false
   },
   "outputs": [],
   "source": [
    "#数量はここ！！\n",
    "\n",
    "#!/usr/bin/env python\n",
    "# coding: utf-8\n",
    "import pandas as pd\n",
    "temp=pd.read_csv(\"features.csv\",names=('ShopID','Square','ShopType','ShopRank','Category','PS'))\n",
    "temptarget = pd.read_csv(\"sales.csv\",header=0)\n",
    "\n",
    "#コメント\n",
    "#from __future__ import print_function\n",
    "import numpy as np\n",
    "from sklearn.cross_validation import train_test_split\n",
    "\n",
    "import six\n",
    "import sys\n",
    "import chainer\n",
    "import chainer.links as L\n",
    "from chainer import optimizers\n",
    "import chainer.functions as F\n",
    "from matplotlib import pyplot\n",
    "%matplotlib inline\n",
    "\n",
    "\n",
    "batchsize = 40\n",
    "n_epoch = 100\n",
    "\n",
    "# Prepare dataset\n",
    "target_list=[]\n",
    "for i in zip(temptarget['Quant']):\n",
    "    target_list.append([i])\n",
    "target = np.array(target_list)\n",
    "\n",
    "\n",
    "feature_lists = []\n",
    "#for i,j,k,l in zip(temp['ShopID'],temp['Square'],temp['ShopRank'],temp['ShopType'],temp['PS']):\n",
    "for i,j,k,l in zip(temp['Square'],temp['ShopType'],temp['ShopRank'],temp['PS']):\n",
    "    feature_lists.append([i,j,k,l])\n",
    "features = np.array(feature_lists)\n",
    "\n",
    "target=target.astype(np.float32).reshape(len(target_list), 1)\n",
    "feature=features.astype(np.float32)\n",
    "\n",
    "\n",
    "x_train, x_test, y_train, y_test = train_test_split(feature, target, test_size=0.2)\n",
    "N_test = y_test.size  # test data size\n",
    "N = len(x_train)  # train data size\n",
    "in_units = x_train.shape[1]  \n",
    "\n",
    "\n",
    "n_units_2 = 90\n",
    "n_units_3 = 90\n",
    "n_units_4 = 90\n",
    "n_units_5 = 10\n",
    "\n",
    "model = chainer.Chain(\n",
    "    l1=L.Linear(in_units, n_units_2),\n",
    "    l2=L.Linear(n_units_2, n_units_3),\n",
    "    l3=L.Linear(n_units_3,  n_units_4),\n",
    "    l4=L.Linear(n_units_4,  n_units_5),\n",
    "    l5=L.Linear(n_units_5,  1))\n",
    "\n",
    "\n",
    "def forward(x):\n",
    "    h1 = F.relu(model.l1(x))\n",
    "    h2 = F.relu(model.l2(h1))\n",
    "    h3 = F.relu(model.l3(h2))\n",
    "    h4 = F.relu(model.l4(h3))\n",
    "    y = model.l5(h4)\n",
    "    return y\n",
    "    #return F.tanh(model.l5(h4))\n",
    "\n",
    "# Setup optimizer最適化のセットアップ\n",
    "optimizer = optimizers.Adam()#勾配法のアルゴリズム:Adam\n",
    "optimizer.setup(model)\n",
    "#optimizer.add_hokk(optimizer.WeightDecay())#正則化をhook関数として登録\n",
    "\n",
    "# Learning loop\n",
    "LOSS = []\n",
    "Ylist = []\n",
    "for epoch in six.moves.range(1, n_epoch + 1):\n",
    "    print('epoch', epoch)\n",
    "    # training\n",
    "    perm = np.random.permutation(N)\n",
    "    sum_loss = 0.0\n",
    "    for i in six.moves.range(0, N, batchsize):\n",
    "        x = chainer.Variable(np.asarray(x_train[perm[i:i + batchsize]]))\n",
    "        t = chainer.Variable(np.asarray((y_train[perm[i:i + batchsize]])))\n",
    "        model.zerograds()#勾配をゼロ初期化\n",
    "        y = forward(x)\n",
    "        loss = F.mean_squared_error(y, t)#平均2乗誤差\n",
    "        sum_loss += loss.data\n",
    "        loss.backward()#勾配計算\n",
    "        optimizer.update()#最適化ルーチンを実行\n",
    "    print('train mean loss={}'.format(sum_loss / N))\n",
    "\n",
    "    # all test data\n",
    "    x = chainer.Variable(np.asarray(x_test))#特徴量\n",
    "    t = chainer.Variable(np.asarray((y_test)))#教師データ\n",
    "    y = forward(x)#出力\n",
    "    loss = F.mean_squared_error(y, t)\n",
    "    LOSS.append(loss.data/N_test)\n",
    "    print(' test mean loss={}'.format(loss.data / N_test))\n",
    "Ylist.append(y.data)\n",
    "#print(\"Y = \", Ylist)\n",
    "pyplot.plot((LOSS))"
   ]
  },
  {
   "cell_type": "code",
   "execution_count": null,
   "metadata": {
    "collapsed": false
   },
   "outputs": [],
   "source": [
    "#パワポ用に結果画面出すためのコードです\n",
    "pyplot.plot(Ylist[0][0:20],\"ro\",markersize=10)\n",
    "pyplot.plot(y_test[0:20],\"bx\",markersize=10)\n",
    "pyplot.ylim=30\n",
    "pyplot.grid()\n",
    "\n",
    "#以下、結果のメモです\n",
    "#train mean loss=1.2835919822241277\n",
    "#test mean loss=0.08556671778361002\n",
    "#epoch40\n",
    "#train mean loss=1.0556385772533345\n",
    "#test mean loss=0.06668860117594401\n",
    "\n",
    "#n_units_2 = 90\n",
    "#n_units_3 = 70\n",
    "#n_units_4 = 30\n",
    "#n_units_5 = 10\n",
    "#batchsize = 40\n",
    "#n_epoch = 100\n",
    "#epoch 100\n",
    "#train mean loss=1.01585703345327\n",
    "#test mean loss=0.05284663200378418\n",
    "\n",
    "#n_units_2 = 90\n",
    "#n_units_3 = 90\n",
    "#n_units_4 = 90\n",
    "#n_units_5 = 10\n",
    "#epoch 100\n",
    "#train mean loss=1.0171331057403425\n",
    "#test mean loss=0.05391091028849284"
   ]
  },
  {
   "cell_type": "code",
   "execution_count": 3,
   "metadata": {
    "collapsed": false
   },
   "outputs": [
    {
     "data": {
      "image/png": "[encoded data removed]",
      "text/plain": [
       "<matplotlib.figure.Figure at 0x109fd1630>"
      ]
     },
     "metadata": {},
     "output_type": "display_data"
    }
   ],
   "source": [
    "#パワポ用に結果画面出すためのコードです\n",
    "pyplot.plot(Ylist[0][50:100])#出力(青)\n",
    "pyplot.plot(y_test[50:100])#正解データ(緑)\n",
    "pyplot.ylim=30\n",
    "#train mean loss=1.0372128349485472\n",
    "#test mean loss=0.0751815668741862"
   ]
  },
  {
   "cell_type": "code",
   "execution_count": 4,
   "metadata": {
    "collapsed": false
   },
   "outputs": [
    {
     "name": "stdout",
     "output_type": "stream",
     "text": [
      "[ 0.01346272]\n"
     ]
    }
   ],
   "source": [
    "#MAPE算出\n",
    "MAPE= (abs((Ylist[0]-y_test)/y_test))*(1/365)*100\n",
    "for i in MAPE:\n",
    "    sum =+ i\n",
    "print(sum)"
   ]
  },
  {
   "cell_type": "code",
   "execution_count": 5,
   "metadata": {
    "collapsed": false
   },
   "outputs": [
    {
     "data": {
      "image/png": "[encoded data removed]",
      "text/plain": [
       "<matplotlib.figure.Figure at 0x10a2340f0>"
      ]
     },
     "metadata": {},
     "output_type": "display_data"
    }
   ],
   "source": [
    "#パワポ用に結果画面出すためのコードです\n",
    "# -*- coding: utf-8 -*-\n",
    "import numpy as np\n",
    "w=0.4\n",
    "Y1=np.array(Ylist[0][100:120])\n",
    "Y2=np.array(y_test[100:120])\n",
    "X=np.arange(len(Y1))\n",
    "\n",
    "pyplot.bar(X,Y1,color='b',width=w,label=\"Y\")\n",
    "pyplot.bar(X+w,Y2,color='c',width=w,label=\"Actual\")\n",
    "pyplot.legend(loc=\"best\")\n",
    "pyplot.grid()\n",
    "pyplot.xlim=(0,20)\n",
    "pyplot.show()"
   ]
  },
  {
   "cell_type": "code",
   "execution_count": 6,
   "metadata": {
    "collapsed": false
   },
   "outputs": [
    {
     "name": "stdout",
     "output_type": "stream",
     "text": [
      "[平均誤差= 3.72894 誤差分散= 35.6125 ]\n"
     ]
    },
    {
     "data": {
      "image/png": "[encoded data removed]",
      "text/plain": [
       "<matplotlib.figure.Figure at 0x10a3189b0>"
      ]
     },
     "metadata": {},
     "output_type": "display_data"
    }
   ],
   "source": [
    "diff=[]\n",
    "diff.append(abs(Ylist[0]-y_test))\n",
    "pyplot.plot(diff[0][0:20])\n",
    "print(\"[平均誤差=\",np.mean(diff[0]),\"誤差分散=\",np.var(diff[0]),\"]\")\n",
    "#print(diff[0])\n",
    "pyplot.title=(\"Y-Actual\")\n",
    "pyplot.show()"
   ]
  },
  {
   "cell_type": "code",
   "execution_count": 8,
   "metadata": {
    "collapsed": false
   },
   "outputs": [
    {
     "data": {
      "text/plain": [
       "46.706139"
      ]
     },
     "execution_count": 8,
     "metadata": {},
     "output_type": "execute_result"
    }
   ],
   "source": [
    "np.max(np.abs(diff))"
   ]
  },
  {
   "cell_type": "code",
   "execution_count": null,
   "metadata": {
    "collapsed": false
   },
   "outputs": [],
   "source": []
  }
 ],
 "metadata": {
  "kernelspec": {
   "display_name": "Python 3",
   "language": "python",
   "name": "python3"
  },
  "language_info": {
   "codemirror_mode": {
    "name": "ipython",
    "version": 3
   },
   "file_extension": ".py",
   "mimetype": "text/x-python",
   "name": "python",
   "nbconvert_exporter": "python",
   "pygments_lexer": "ipython3",
   "version": "3.5.1"
  }
 },
 "nbformat": 4,
 "nbformat_minor": 0
}
