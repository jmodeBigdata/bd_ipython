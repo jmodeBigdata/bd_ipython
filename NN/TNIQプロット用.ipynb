{
 "metadata": {
  "name": "",
  "signature": "sha256:1fc9a7cb6b45f997ceaa2ab1e8818db4b1bfb664e49bffbcf6b6b2c7ac44902a"
 },
 "nbformat": 3,
 "nbformat_minor": 0,
 "worksheets": [
  {
   "cells": [
    {
     "cell_type": "code",
     "collapsed": false,
     "input": [
      "#\u6570\u91cf\u306f\u3053\u3053\uff01\uff01\n",
      "\n",
      "#!/usr/bin/env python\n",
      "# coding: utf-8\n",
      "import pandas as pd\n",
      "temp=pd.read_csv(\"features2.csv\",names=('ShopID','Square','ShopType1','ShopType2','ShopType3','ShopType4','ShopRank','Category','PS'))\n",
      "temptarget = pd.read_csv(\"sales.csv\",header=0)\n",
      "\n",
      "\n",
      "#from __future__ import print_function\n",
      "import numpy as np\n",
      "from sklearn.cross_validation import train_test_split\n",
      "\n",
      "import six\n",
      "import sys\n",
      "import chainer\n",
      "import chainer.links as L\n",
      "from chainer import optimizers\n",
      "import chainer.functions as F\n",
      "from matplotlib import pyplot\n",
      "\n",
      "\n",
      "batchsize = 40\n",
      "n_epoch = 100\n",
      "\n",
      "# Prepare dataset\n",
      "target_list=[]\n",
      "for i in zip(temptarget['Quant']):\n",
      "    target_list.append([i])\n",
      "target = np.array(target_list)\n",
      "\n",
      "\n",
      "feature_lists = []\n",
      "#for i,j,k,l in zip(temp['ShopID'],temp['Square'],temp['ShopRank'],temp['ShopType'],temp['PS']):\n",
      "for i,j,k,l,m,n,o in zip(temp['Square'],temp['ShopType1'],temp['ShopType2'],temp['ShopType3'],temp['ShopType4'],temp['ShopRank'],temp['PS']):\n",
      "    feature_lists.append([i,j,k,l,m,n,o])\n",
      "features = np.array(feature_lists)\n",
      "\n",
      "target=target.astype(np.float32).reshape(len(target_list), 1)\n",
      "feature=features.astype(np.float32)\n",
      "\n",
      "\n",
      "x_train, x_test, y_train, y_test = train_test_split(feature, target, test_size=0.2)\n",
      "N_test = y_test.size  # test data size\n",
      "N = len(x_train)  # train data size\n",
      "in_units = x_train.shape[1]  \n",
      "\n",
      "\n",
      "n_units_2 = 90\n",
      "n_units_3 = 90\n",
      "n_units_4 = 90\n",
      "n_units_5 = 10\n",
      "\n",
      "model = chainer.Chain(\n",
      "    l1=L.Linear(in_units, n_units_2),\n",
      "    l2=L.Linear(n_units_2, n_units_3),\n",
      "    l3=L.Linear(n_units_3,  n_units_4),\n",
      "    l4=L.Linear(n_units_4,  n_units_5),\n",
      "    l5=L.Linear(n_units_5,  1))\n",
      "\n",
      "\n",
      "def forward(x):\n",
      "    h1 = F.relu(model.l1(x))\n",
      "    h2 = F.relu(model.l2(h1))\n",
      "    h3 = F.relu(model.l3(h2))\n",
      "    h4 = F.relu(model.l4(h3))\n",
      "    y = model.l5(h4)\n",
      "    return y\n",
      "    #return F.tanh(model.l5(h4))\n",
      "\n",
      "# Setup optimizer\u6700\u9069\u5316\u306e\u30bb\u30c3\u30c8\u30a2\u30c3\u30d7\n",
      "optimizer = optimizers.Adam()#\u52fe\u914d\u6cd5\u306e\u30a2\u30eb\u30b4\u30ea\u30ba\u30e0:Adam\n",
      "optimizer.setup(model)\n",
      "#optimizer.add_hokk(optimizer.WeightDecay())#\u6b63\u5247\u5316\u3092hook\u95a2\u6570\u3068\u3057\u3066\u767b\u9332\n",
      "\n",
      "# Learning loop\n",
      "LOSS = []\n",
      "Ylist = []\n",
      "for epoch in six.moves.range(1, n_epoch + 1):\n",
      "    print('epoch', epoch)\n",
      "    # training\n",
      "    perm = np.random.permutation(N)\n",
      "    sum_loss = 0.0\n",
      "    for i in six.moves.range(0, N, batchsize):\n",
      "        x = chainer.Variable(np.asarray(x_train[perm[i:i + batchsize]]))\n",
      "        t = chainer.Variable(np.asarray((y_train[perm[i:i + batchsize]])))\n",
      "        model.zerograds()#\u52fe\u914d\u3092\u30bc\u30ed\u521d\u671f\u5316\n",
      "        y = forward(x)\n",
      "        loss = F.mean_squared_error(y, t)#\u5e73\u57472\u4e57\u8aa4\u5dee\n",
      "        sum_loss += loss.data\n",
      "        loss.backward()#\u52fe\u914d\u8a08\u7b97\n",
      "        optimizer.update()#\u6700\u9069\u5316\u30eb\u30fc\u30c1\u30f3\u3092\u5b9f\u884c\n",
      "    print('train mean loss={}'.format(sum_loss / N))\n",
      "\n",
      "    # all test data\n",
      "    x = chainer.Variable(np.asarray(x_test))#\u7279\u5fb4\u91cf\n",
      "    t = chainer.Variable(np.asarray((y_test)))#\u6559\u5e2b\u30c7\u30fc\u30bf\n",
      "    y = forward(x)#\u51fa\u529b\n",
      "    loss = F.mean_squared_error(y, t)\n",
      "    LOSS.append(loss.data/N_test)\n",
      "    print(' test mean loss={}'.format(loss.data / N_test))\n",
      "Ylist.append(y.data)\n",
      "#print(\"Y = \", Ylist)\n",
      "pyplot.plot((LOSS))\n",
      "\n",
      "diff=[]\n",
      "diff.append(Ylist-y_test)\n",
      "print(diff)"
     ],
     "language": "python",
     "metadata": {},
     "outputs": [
      {
       "output_type": "stream",
       "stream": "stdout",
       "text": [
        "epoch 1\n",
        "train mean loss=1.7088370802204724"
       ]
      },
      {
       "output_type": "stream",
       "stream": "stdout",
       "text": [
        "\n",
        " test mean loss=0.09103188196818034\n",
        "epoch 2\n",
        "train mean loss=1.5050773449667596"
       ]
      },
      {
       "output_type": "stream",
       "stream": "stdout",
       "text": [
        "\n",
        " test mean loss=0.09196690241495768\n",
        "epoch 3\n",
        "train mean loss=1.4821660565356007"
       ]
      },
      {
       "output_type": "stream",
       "stream": "stdout",
       "text": [
        "\n",
        " test mean loss=0.08790269215901693\n",
        "epoch 4\n",
        "train mean loss=1.4640209266373196"
       ]
      },
      {
       "output_type": "stream",
       "stream": "stdout",
       "text": [
        "\n",
        " test mean loss=0.0922506841023763\n",
        "epoch 5\n",
        "train mean loss=1.4358030695277186"
       ]
      },
      {
       "output_type": "stream",
       "stream": "stdout",
       "text": [
        "\n",
        " test mean loss=0.08430357615152995\n",
        "epoch 6\n",
        "train mean loss=1.373256487764881"
       ]
      },
      {
       "output_type": "stream",
       "stream": "stdout",
       "text": [
        "\n",
        " test mean loss=0.08002972920735676\n",
        "epoch 7\n",
        "train mean loss=1.2838367865253557"
       ]
      },
      {
       "output_type": "stream",
       "stream": "stdout",
       "text": [
        "\n",
        " test mean loss=0.07482060750325521\n",
        "epoch 8\n",
        "train mean loss=1.2691623803822882"
       ]
      },
      {
       "output_type": "stream",
       "stream": "stdout",
       "text": [
        "\n",
        " test mean loss=0.08263953526814778\n",
        "epoch 9\n",
        "train mean loss=1.2258831463838031"
       ]
      },
      {
       "output_type": "stream",
       "stream": "stdout",
       "text": [
        "\n",
        " test mean loss=0.07281741460164388\n",
        "epoch 10\n",
        "train mean loss=1.272510927286979"
       ]
      },
      {
       "output_type": "stream",
       "stream": "stdout",
       "text": [
        "\n",
        " test mean loss=0.07274386723836263\n",
        "epoch 11\n",
        "train mean loss=1.2179278605875745"
       ]
      },
      {
       "output_type": "stream",
       "stream": "stdout",
       "text": [
        "\n",
        " test mean loss=0.07505725224812826\n",
        "epoch 12\n",
        "train mean loss=1.203882145851838"
       ]
      },
      {
       "output_type": "stream",
       "stream": "stdout",
       "text": [
        "\n",
        " test mean loss=0.07048007965087891\n",
        "epoch 13\n",
        "train mean loss=1.196422904866494"
       ]
      },
      {
       "output_type": "stream",
       "stream": "stdout",
       "text": [
        "\n",
        " test mean loss=0.07301467259724935\n",
        "epoch 14\n",
        "train mean loss=1.1805408914271074"
       ]
      },
      {
       "output_type": "stream",
       "stream": "stdout",
       "text": [
        "\n",
        " test mean loss=0.07954209645589193\n",
        "epoch 15\n",
        "train mean loss=1.206703472853005"
       ]
      },
      {
       "output_type": "stream",
       "stream": "stdout",
       "text": [
        "\n",
        " test mean loss=0.07360387166341145\n",
        "epoch 16\n",
        "train mean loss=1.1465791815169009"
       ]
      },
      {
       "output_type": "stream",
       "stream": "stdout",
       "text": [
        "\n",
        " test mean loss=0.06887502670288086\n",
        "epoch 17\n",
        "train mean loss=1.1652443620650756"
       ]
      },
      {
       "output_type": "stream",
       "stream": "stdout",
       "text": [
        "\n",
        " test mean loss=0.06894280751546224\n",
        "epoch 18\n",
        "train mean loss=1.1686963633528944"
       ]
      },
      {
       "output_type": "stream",
       "stream": "stdout",
       "text": [
        "\n",
        " test mean loss=0.06803818384806315\n",
        "epoch 19\n",
        "train mean loss=1.1419660205292472"
       ]
      },
      {
       "output_type": "stream",
       "stream": "stdout",
       "text": [
        "\n",
        " test mean loss=0.06841288884480794\n",
        "epoch 20\n",
        "train mean loss=1.137692232040526"
       ]
      },
      {
       "output_type": "stream",
       "stream": "stdout",
       "text": [
        "\n",
        " test mean loss=0.08071744283040365\n",
        "epoch 21\n",
        "train mean loss=1.1904973761147883"
       ]
      },
      {
       "output_type": "stream",
       "stream": "stdout",
       "text": [
        "\n",
        " test mean loss=0.06871913274129232\n",
        "epoch 22\n",
        "train mean loss=1.1375322326017747"
       ]
      },
      {
       "output_type": "stream",
       "stream": "stdout",
       "text": [
        "\n",
        " test mean loss=0.06582784016927083\n",
        "epoch 23\n",
        "train mean loss=1.1193987073973846"
       ]
      },
      {
       "output_type": "stream",
       "stream": "stdout",
       "text": [
        "\n",
        " test mean loss=0.06729525883992513\n",
        "epoch 24\n",
        "train mean loss=1.149227765660924"
       ]
      },
      {
       "output_type": "stream",
       "stream": "stdout",
       "text": [
        "\n",
        " test mean loss=0.06570412317911783\n",
        "epoch 25\n",
        "train mean loss=1.1314150689790128"
       ]
      },
      {
       "output_type": "stream",
       "stream": "stdout",
       "text": [
        "\n",
        " test mean loss=0.06518297831217448\n",
        "epoch 26\n",
        "train mean loss=1.142152971106303"
       ]
      },
      {
       "output_type": "stream",
       "stream": "stdout",
       "text": [
        "\n",
        " test mean loss=0.06916789372762044\n",
        "epoch 27\n",
        "train mean loss=1.1372726964374142"
       ]
      },
      {
       "output_type": "stream",
       "stream": "stdout",
       "text": [
        "\n",
        " test mean loss=0.06482051849365235\n",
        "epoch 28\n",
        "train mean loss=1.115670642638117"
       ]
      },
      {
       "output_type": "stream",
       "stream": "stdout",
       "text": [
        "\n",
        " test mean loss=0.06515719095865885\n",
        "epoch 29\n",
        "train mean loss=1.10587115961594"
       ]
      },
      {
       "output_type": "stream",
       "stream": "stdout",
       "text": [
        "\n",
        " test mean loss=0.06630081176757813\n",
        "epoch 30\n",
        "train mean loss=1.106405418780805"
       ]
      },
      {
       "output_type": "stream",
       "stream": "stdout",
       "text": [
        "\n",
        " test mean loss=0.06350880940755209\n",
        "epoch 31\n",
        "train mean loss=1.1322314356604732"
       ]
      },
      {
       "output_type": "stream",
       "stream": "stdout",
       "text": [
        "\n",
        " test mean loss=0.06380657831827799\n",
        "epoch 32\n",
        "train mean loss=1.0964493765439427"
       ]
      },
      {
       "output_type": "stream",
       "stream": "stdout",
       "text": [
        "\n",
        " test mean loss=0.06362048467000325\n",
        "epoch 33\n",
        "train mean loss=1.1054303263465084"
       ]
      },
      {
       "output_type": "stream",
       "stream": "stdout",
       "text": [
        "\n",
        " test mean loss=0.0679554557800293\n",
        "epoch 34\n",
        "train mean loss=1.0900742390494687"
       ]
      },
      {
       "output_type": "stream",
       "stream": "stdout",
       "text": [
        "\n",
        " test mean loss=0.07616095225016276\n",
        "epoch 35\n",
        "train mean loss=1.1257195118915642"
       ]
      },
      {
       "output_type": "stream",
       "stream": "stdout",
       "text": [
        "\n",
        " test mean loss=0.0652625846862793\n",
        "epoch 36\n",
        "train mean loss=1.0788090556002796"
       ]
      },
      {
       "output_type": "stream",
       "stream": "stdout",
       "text": [
        "\n",
        " test mean loss=0.06250073750813802\n",
        "epoch 37\n",
        "train mean loss=1.083836239444658"
       ]
      },
      {
       "output_type": "stream",
       "stream": "stdout",
       "text": [
        "\n",
        " test mean loss=0.06691450754801433\n",
        "epoch 38\n",
        "train mean loss=1.0470647966926323"
       ]
      },
      {
       "output_type": "stream",
       "stream": "stdout",
       "text": [
        "\n",
        " test mean loss=0.06377705256144206\n",
        "epoch 39\n",
        "train mean loss=1.0825909447202886"
       ]
      },
      {
       "output_type": "stream",
       "stream": "stdout",
       "text": [
        "\n",
        " test mean loss=0.06098937352498372\n",
        "epoch 40\n",
        "train mean loss=1.0693511859532843"
       ]
      },
      {
       "output_type": "stream",
       "stream": "stdout",
       "text": [
        "\n",
        " test mean loss=0.07378549575805664\n",
        "epoch 41\n",
        "train mean loss=1.0515770629924155"
       ]
      },
      {
       "output_type": "stream",
       "stream": "stdout",
       "text": [
        "\n",
        " test mean loss=0.06263609568277995\n",
        "epoch 42\n",
        "train mean loss=1.0711730533264339"
       ]
      },
      {
       "output_type": "stream",
       "stream": "stdout",
       "text": [
        "\n",
        " test mean loss=0.06084784189860026\n",
        "epoch 43\n",
        "train mean loss=1.055324282930413"
       ]
      },
      {
       "output_type": "stream",
       "stream": "stdout",
       "text": [
        "\n",
        " test mean loss=0.06531514485677083\n",
        "epoch 44\n",
        "train mean loss=1.0518983635816936"
       ]
      },
      {
       "output_type": "stream",
       "stream": "stdout",
       "text": [
        "\n",
        " test mean loss=0.06237288157145182\n",
        "epoch 45\n",
        "train mean loss=1.0244890108064792"
       ]
      },
      {
       "output_type": "stream",
       "stream": "stdout",
       "text": [
        "\n",
        " test mean loss=0.06025967280069987\n",
        "epoch 46\n",
        "train mean loss=1.072728300154234"
       ]
      },
      {
       "output_type": "stream",
       "stream": "stdout",
       "text": [
        "\n",
        " test mean loss=0.06888112386067709\n",
        "epoch 47\n",
        "train mean loss=1.0156184105437813"
       ]
      },
      {
       "output_type": "stream",
       "stream": "stdout",
       "text": [
        "\n",
        " test mean loss=0.06030182520548503\n",
        "epoch 48\n",
        "train mean loss=1.044112597469888"
       ]
      },
      {
       "output_type": "stream",
       "stream": "stdout",
       "text": [
        "\n",
        " test mean loss=0.06006278991699219\n",
        "epoch 49\n",
        "train mean loss=1.0119091769763457"
       ]
      },
      {
       "output_type": "stream",
       "stream": "stdout",
       "text": [
        "\n",
        " test mean loss=0.0588412348429362\n",
        "epoch 50\n",
        "train mean loss=1.0190487595685773"
       ]
      },
      {
       "output_type": "stream",
       "stream": "stdout",
       "text": [
        "\n",
        " test mean loss=0.06149719874064127\n",
        "epoch 51\n",
        "train mean loss=1.0217230660858727"
       ]
      },
      {
       "output_type": "stream",
       "stream": "stdout",
       "text": [
        "\n",
        " test mean loss=0.07541800181070964\n",
        "epoch 52\n",
        "train mean loss=0.9990895662073197"
       ]
      },
      {
       "output_type": "stream",
       "stream": "stdout",
       "text": [
        "\n",
        " test mean loss=0.05915516535441081\n",
        "epoch 53\n",
        "train mean loss=1.0069561406143908"
       ]
      },
      {
       "output_type": "stream",
       "stream": "stdout",
       "text": [
        "\n",
        " test mean loss=0.07449629465738933\n",
        "epoch 54\n",
        "train mean loss=1.052305619683848"
       ]
      },
      {
       "output_type": "stream",
       "stream": "stdout",
       "text": [
        "\n",
        " test mean loss=0.06211949666341146\n",
        "epoch 55\n",
        "train mean loss=0.9965640471944615"
       ]
      },
      {
       "output_type": "stream",
       "stream": "stdout",
       "text": [
        "\n",
        " test mean loss=0.057756322224934896\n",
        "epoch 56\n",
        "train mean loss=1.0054357066756738"
       ]
      },
      {
       "output_type": "stream",
       "stream": "stdout",
       "text": [
        "\n",
        " test mean loss=0.06202639897664388\n",
        "epoch 57\n",
        "train mean loss=1.0038176421673908"
       ]
      },
      {
       "output_type": "stream",
       "stream": "stdout",
       "text": [
        "\n",
        " test mean loss=0.06911968231201172\n",
        "epoch 58\n",
        "train mean loss=1.0527749965965076"
       ]
      },
      {
       "output_type": "stream",
       "stream": "stdout",
       "text": [
        "\n",
        " test mean loss=0.058783531188964844\n",
        "epoch 59\n",
        "train mean loss=1.0061969600055753"
       ]
      },
      {
       "output_type": "stream",
       "stream": "stdout",
       "text": [
        "\n",
        " test mean loss=0.06080372492472331\n",
        "epoch 60\n",
        "train mean loss=1.0268181498322004"
       ]
      },
      {
       "output_type": "stream",
       "stream": "stdout",
       "text": [
        "\n",
        " test mean loss=0.058565101623535155\n",
        "epoch 61\n",
        "train mean loss=1.0090823334522574"
       ]
      },
      {
       "output_type": "stream",
       "stream": "stdout",
       "text": [
        "\n",
        " test mean loss=0.05987405776977539\n",
        "epoch 62\n",
        "train mean loss=1.0531853174557035"
       ]
      },
      {
       "output_type": "stream",
       "stream": "stdout",
       "text": [
        "\n",
        " test mean loss=0.06429423014322917\n",
        "epoch 63\n",
        "train mean loss=1.0096881913363611"
       ]
      },
      {
       "output_type": "stream",
       "stream": "stdout",
       "text": [
        "\n",
        " test mean loss=0.06058006922403971\n",
        "epoch 64\n",
        "train mean loss=0.9911311091160268"
       ]
      },
      {
       "output_type": "stream",
       "stream": "stdout",
       "text": [
        "\n",
        " test mean loss=0.059706141153971354\n",
        "epoch 65\n",
        "train mean loss=1.000351128651729"
       ]
      },
      {
       "output_type": "stream",
       "stream": "stdout",
       "text": [
        "\n",
        " test mean loss=0.0593806521097819\n",
        "epoch 66\n",
        "train mean loss=0.9909187861908073"
       ]
      },
      {
       "output_type": "stream",
       "stream": "stdout",
       "text": [
        "\n",
        " test mean loss=0.05781196594238281\n",
        "epoch 67\n",
        "train mean loss=0.9942423950487894"
       ]
      },
      {
       "output_type": "stream",
       "stream": "stdout",
       "text": [
        "\n",
        " test mean loss=0.059446468353271484\n",
        "epoch 68\n",
        "train mean loss=0.974291184883706"
       ]
      },
      {
       "output_type": "stream",
       "stream": "stdout",
       "text": [
        "\n",
        " test mean loss=0.058932228088378905\n",
        "epoch 69\n",
        "train mean loss=1.0085997804098699"
       ]
      },
      {
       "output_type": "stream",
       "stream": "stdout",
       "text": [
        "\n",
        " test mean loss=0.05791327158610026\n",
        "epoch 70\n",
        "train mean loss=0.9781865044005864"
       ]
      },
      {
       "output_type": "stream",
       "stream": "stdout",
       "text": [
        "\n",
        " test mean loss=0.06176717758178711\n",
        "epoch 71\n",
        "train mean loss=0.9908848540292973"
       ]
      },
      {
       "output_type": "stream",
       "stream": "stdout",
       "text": [
        "\n",
        " test mean loss=0.059202168782552085\n",
        "epoch 72\n",
        "train mean loss=1.018481959994508"
       ]
      },
      {
       "output_type": "stream",
       "stream": "stdout",
       "text": [
        "\n",
        " test mean loss=0.06186747868855794\n",
        "epoch 73\n",
        "train mean loss=1.018261495854965"
       ]
      },
      {
       "output_type": "stream",
       "stream": "stdout",
       "text": [
        "\n",
        " test mean loss=0.05851753870646159\n",
        "epoch 74\n",
        "train mean loss=0.9781589897635978"
       ]
      },
      {
       "output_type": "stream",
       "stream": "stdout",
       "text": [
        "\n",
        " test mean loss=0.06011635462443034\n",
        "epoch 75\n",
        "train mean loss=0.982715824535858"
       ]
      },
      {
       "output_type": "stream",
       "stream": "stdout",
       "text": [
        "\n",
        " test mean loss=0.06189451217651367\n",
        "epoch 76\n",
        "train mean loss=0.990319842743645"
       ]
      },
      {
       "output_type": "stream",
       "stream": "stdout",
       "text": [
        "\n",
        " test mean loss=0.05951971689860026\n",
        "epoch 77\n",
        "train mean loss=1.0068902146473384"
       ]
      },
      {
       "output_type": "stream",
       "stream": "stdout",
       "text": [
        "\n",
        " test mean loss=0.05988485336303711\n",
        "epoch 78\n",
        "train mean loss=0.9780744939806463"
       ]
      },
      {
       "output_type": "stream",
       "stream": "stdout",
       "text": [
        "\n",
        " test mean loss=0.05953712463378906\n",
        "epoch 79\n",
        "train mean loss=0.9893373355809825"
       ]
      },
      {
       "output_type": "stream",
       "stream": "stdout",
       "text": [
        "\n",
        " test mean loss=0.05878466924031576\n",
        "epoch 80\n",
        "train mean loss=0.9980076964371599"
       ]
      },
      {
       "output_type": "stream",
       "stream": "stdout",
       "text": [
        "\n",
        " test mean loss=0.0607208251953125\n",
        "epoch 81\n",
        "train mean loss=0.9928067482824672"
       ]
      },
      {
       "output_type": "stream",
       "stream": "stdout",
       "text": [
        "\n",
        " test mean loss=0.05904551823933919\n",
        "epoch 82\n",
        "train mean loss=0.9987457008250508"
       ]
      },
      {
       "output_type": "stream",
       "stream": "stdout",
       "text": [
        "\n",
        " test mean loss=0.058237196604410804\n",
        "epoch 83\n",
        "train mean loss=0.9862820683742076"
       ]
      },
      {
       "output_type": "stream",
       "stream": "stdout",
       "text": [
        "\n",
        " test mean loss=0.05977163314819336\n",
        "epoch 84\n",
        "train mean loss=0.9954958896231483"
       ]
      },
      {
       "output_type": "stream",
       "stream": "stdout",
       "text": [
        "\n",
        " test mean loss=0.06587371190388998\n",
        "epoch 85\n",
        "train mean loss=1.0067549658199308"
       ]
      },
      {
       "output_type": "stream",
       "stream": "stdout",
       "text": [
        "\n",
        " test mean loss=0.06266974131266276\n",
        "epoch 86\n",
        "train mean loss=0.9986107342438978"
       ]
      },
      {
       "output_type": "stream",
       "stream": "stdout",
       "text": [
        "\n",
        " test mean loss=0.07023573557535807\n",
        "epoch 87\n",
        "train mean loss=1.0111980464071868"
       ]
      },
      {
       "output_type": "stream",
       "stream": "stdout",
       "text": [
        "\n",
        " test mean loss=0.05871262232462565\n",
        "epoch 88\n",
        "train mean loss=0.9816448566266625"
       ]
      },
      {
       "output_type": "stream",
       "stream": "stdout",
       "text": [
        "\n",
        " test mean loss=0.058119799296061196\n",
        "epoch 89\n",
        "train mean loss=0.9900498137766245"
       ]
      },
      {
       "output_type": "stream",
       "stream": "stdout",
       "text": [
        "\n",
        " test mean loss=0.05911940892537435\n",
        "epoch 90\n",
        "train mean loss=0.9834678931353539"
       ]
      },
      {
       "output_type": "stream",
       "stream": "stdout",
       "text": [
        "\n",
        " test mean loss=0.0617008908589681\n",
        "epoch 91\n",
        "train mean loss=1.009190683615312"
       ]
      },
      {
       "output_type": "stream",
       "stream": "stdout",
       "text": [
        "\n",
        " test mean loss=0.05811712900797526\n",
        "epoch 92\n",
        "train mean loss=0.9695686353848049"
       ]
      },
      {
       "output_type": "stream",
       "stream": "stdout",
       "text": [
        "\n",
        " test mean loss=0.059116795857747394\n",
        "epoch 93\n",
        "train mean loss=1.0030281894551858"
       ]
      },
      {
       "output_type": "stream",
       "stream": "stdout",
       "text": [
        "\n",
        " test mean loss=0.06143520991007487\n",
        "epoch 94\n",
        "train mean loss=0.97295622539401"
       ]
      },
      {
       "output_type": "stream",
       "stream": "stdout",
       "text": [
        "\n",
        " test mean loss=0.06286614735921224\n",
        "epoch 95\n",
        "train mean loss=0.9993845167235564"
       ]
      },
      {
       "output_type": "stream",
       "stream": "stdout",
       "text": [
        "\n",
        " test mean loss=0.06296793619791667\n",
        "epoch 96\n",
        "train mean loss=1.002600290219751"
       ]
      },
      {
       "output_type": "stream",
       "stream": "stdout",
       "text": [
        "\n",
        " test mean loss=0.0605413818359375\n",
        "epoch 97\n",
        "train mean loss=0.9799476216464502"
       ]
      },
      {
       "output_type": "stream",
       "stream": "stdout",
       "text": [
        "\n",
        " test mean loss=0.06025054931640625\n",
        "epoch 98\n",
        "train mean loss=0.9885236967499428"
       ]
      },
      {
       "output_type": "stream",
       "stream": "stdout",
       "text": [
        "\n",
        " test mean loss=0.0599066162109375\n",
        "epoch 99\n",
        "train mean loss=1.0166207653823223"
       ]
      },
      {
       "output_type": "stream",
       "stream": "stdout",
       "text": [
        "\n",
        " test mean loss=0.05883810679117839\n",
        "epoch 100\n",
        "train mean loss=0.9939742014774833"
       ]
      },
      {
       "output_type": "stream",
       "stream": "stdout",
       "text": [
        "\n",
        " test mean loss=0.05988545735677083\n",
        "[array([[[  5.51270962e+00],\n",
        "        [  1.82468243e+01],\n",
        "        [  1.65515900e-01],\n",
        "        [ -4.61195517e+00],\n",
        "        [ -2.98723221e-01],\n",
        "        [  6.42219067e-01],\n",
        "        [ -4.61195517e+00],\n",
        "        [  6.57050133e-01],\n",
        "        [  1.64221907e+00],\n",
        "        [  6.42219067e-01],\n",
        "        [ -1.34294987e+00],\n",
        "        [ -2.34294987e+00],\n",
        "        [ -1.80715489e+00],\n",
        "        [ -4.96277571e-01],\n",
        "        [  2.19284511e+00],\n",
        "        [ -3.38281393e-02],\n",
        "        [ -2.86320210e+00],\n",
        "        [  6.57050133e-01],\n",
        "        [  2.13679790e+00],\n",
        "        [ -2.37531757e+01],\n",
        "        [ -3.61195517e+00],\n",
        "        [  6.57050133e-01],\n",
        "        [  2.38804483e+00],\n",
        "        [  1.92468243e+01],\n",
        "        [  1.32468243e+01],\n",
        "        [  2.38804483e+00],\n",
        "        [  2.85540438e+00],\n",
        "        [ -2.49764252e+00],\n",
        "        [ -2.49764252e+00],\n",
        "        [  2.24370599e-01],\n",
        "        [  4.78145409e+00],\n",
        "        [  3.83010769e+00],\n",
        "        [ -4.35778093e+00],\n",
        "        [ -8.29872322e+00],\n",
        "        [  2.19284511e+00],\n",
        "        [  2.16782951e+00],\n",
        "        [  1.65705013e+00],\n",
        "        [ -2.98723221e-01],\n",
        "        [  2.38804483e+00],\n",
        "        [  4.13679790e+00],\n",
        "        [ -6.21854591e+00],\n",
        "        [ -1.48729038e+00],\n",
        "        [ -8.32170486e-01],\n",
        "        [  6.42219067e-01],\n",
        "        [ -7.66781211e-01],\n",
        "        [ -8.29872322e+00],\n",
        "        [ -5.83560276e+00],\n",
        "        [  1.24624014e+00],\n",
        "        [ -1.58752394e+00],\n",
        "        [  6.57050133e-01],\n",
        "        [  1.64397240e-01],\n",
        "        [  2.33218789e-01],\n",
        "        [  2.41247606e+00],\n",
        "        [ -3.38281393e-02],\n",
        "        [  1.65705013e+00],\n",
        "        [  2.33218789e-01],\n",
        "        [ -4.61195517e+00],\n",
        "        [  1.38804483e+00],\n",
        "        [  2.38804483e+00],\n",
        "        [ -4.61195517e+00],\n",
        "        [ -2.49764252e+00],\n",
        "        [ -3.57780933e-01],\n",
        "        [ -7.75629401e-01],\n",
        "        [  6.16439724e+00],\n",
        "        [  6.57050133e-01],\n",
        "        [  6.42219067e-01],\n",
        "        [ -1.80715489e+00],\n",
        "        [ -1.22987232e+01],\n",
        "        [  8.30107689e-01],\n",
        "        [  2.33218789e-01],\n",
        "        [ -2.86893845e-02],\n",
        "        [ -1.83217049e+00],\n",
        "        [  1.22468243e+01],\n",
        "        [  2.19284511e+00],\n",
        "        [  1.41247606e+00],\n",
        "        [  8.97131062e+00],\n",
        "        [ -2.40286903e+01],\n",
        "        [ -5.87523937e-01],\n",
        "        [  2.24370599e-01],\n",
        "        [  1.64221907e+00],\n",
        "        [ -7.53759861e-01],\n",
        "        [ -3.83560276e+00],\n",
        "        [  1.65705013e+00],\n",
        "        [ -2.35778093e+00],\n",
        "        [  5.97131062e+00],\n",
        "        [  4.17762280e-01],\n",
        "        [ -2.18545914e-01],\n",
        "        [ -4.96277571e-01],\n",
        "        [  2.33218789e-01],\n",
        "        [ -7.61195517e+00],\n",
        "        [ -3.42949867e-01],\n",
        "        [  1.64221907e+00],\n",
        "        [ -2.35778093e+00],\n",
        "        [  6.57050133e-01],\n",
        "        [ -2.03382826e+00],\n",
        "        [  1.92468243e+01],\n",
        "        [  6.57050133e-01],\n",
        "        [ -3.57780933e-01],\n",
        "        [  4.13679790e+00],\n",
        "        [  1.19284511e+00],\n",
        "        [ -2.52987232e+01],\n",
        "        [  2.78145409e+00],\n",
        "        [  2.33218789e-01],\n",
        "        [ -3.38281393e-02],\n",
        "        [  6.57050133e-01],\n",
        "        [ -8.48729038e+00],\n",
        "        [  1.19284511e+00],\n",
        "        [  5.70127678e+00],\n",
        "        [ -7.66781211e-01],\n",
        "        [ -2.96759009e-01],\n",
        "        [ -4.61195517e+00],\n",
        "        [ -2.07151127e+00],\n",
        "        [  8.97131062e+00],\n",
        "        [  2.85540438e+00],\n",
        "        [  2.33218789e-01],\n",
        "        [ -2.35778093e+00],\n",
        "        [  1.15127096e+01],\n",
        "        [ -2.24872894e+01],\n",
        "        [ -2.35778093e+00],\n",
        "        [ -7.15112686e-02],\n",
        "        [  1.65705013e+00],\n",
        "        [ -3.02868938e+00],\n",
        "        [ -3.61195517e+00],\n",
        "        [  3.83010769e+00],\n",
        "        [ -6.86320210e+00],\n",
        "        [  1.65705013e+00],\n",
        "        [  2.46240139e-01],\n",
        "        [  9.28488731e-01],\n",
        "        [ -1.48729038e+00],\n",
        "        [  1.65705013e+00],\n",
        "        [  2.38804483e+00],\n",
        "        [  6.57050133e-01],\n",
        "        [  7.01276779e-01],\n",
        "        [ -1.51445961e+01],\n",
        "        [ -2.35778093e+00],\n",
        "        [ -3.38281393e-02],\n",
        "        [  2.85540438e+00],\n",
        "        [ -1.75375986e+00],\n",
        "        [ -2.80715489e+00],\n",
        "        [ -3.83560276e+00],\n",
        "        [ -8.32170486e-01],\n",
        "        [ -3.61195517e+00],\n",
        "        [  4.17762280e-01],\n",
        "        [  6.57050133e-01],\n",
        "        [ -3.42949867e-01],\n",
        "        [  4.44966555e-02],\n",
        "        [ -8.32150745e+00],\n",
        "        [ -1.03382814e+00],\n",
        "        [  8.30107689e-01],\n",
        "        [  4.78145409e+00],\n",
        "        [  2.85540438e+00],\n",
        "        [ -2.20286903e+01],\n",
        "        [ -2.18545914e-01],\n",
        "        [ -1.49764252e+00],\n",
        "        [  2.78145409e+00],\n",
        "        [  1.52468243e+01],\n",
        "        [  9.66171861e-01],\n",
        "        [  9.66171861e-01],\n",
        "        [ -6.86320210e+00],\n",
        "        [  2.33218789e-01],\n",
        "        [ -3.38281393e-02],\n",
        "        [ -1.83217049e+00],\n",
        "        [ -8.07154894e-01],\n",
        "        [  5.02357483e-01],\n",
        "        [  1.38804483e+00],\n",
        "        [ -3.57780933e-01],\n",
        "        [  3.67849255e+00],\n",
        "        [  6.57050133e-01],\n",
        "        [ -5.87523937e-01],\n",
        "        [  2.33218789e-01],\n",
        "        [  6.67849255e+00],\n",
        "        [ -2.37531757e+01],\n",
        "        [ -1.09454107e+00],\n",
        "        [ -1.83448410e+00],\n",
        "        [  9.66171861e-01],\n",
        "        [ -4.35778093e+00],\n",
        "        [  9.66171861e-01],\n",
        "        [  1.65705013e+00],\n",
        "        [  8.30107689e-01],\n",
        "        [ -5.86320210e+00],\n",
        "        [ -1.83217049e+00],\n",
        "        [ -3.57780933e-01],\n",
        "        [ -1.35778093e+00],\n",
        "        [ -3.63215065e+01],\n",
        "        [  5.97131062e+00],\n",
        "        [  6.57050133e-01],\n",
        "        [ -2.86320210e+00],\n",
        "        [ -1.34294987e+00],\n",
        "        [  2.24370599e-01],\n",
        "        [  2.16782951e+00],\n",
        "        [ -2.98723221e-01],\n",
        "        [ -4.61195517e+00],\n",
        "        [  2.33218789e-01],\n",
        "        [ -8.07154894e-01],\n",
        "        [  4.78145409e+00],\n",
        "        [  4.13679790e+00],\n",
        "        [  1.65705013e+00],\n",
        "        [  2.38804483e+00],\n",
        "        [ -1.24872904e+01],\n",
        "        [  2.33218789e-01],\n",
        "        [ -7.61195517e+00],\n",
        "        [  1.26784925e+01],\n",
        "        [  2.85540438e+00],\n",
        "        [ -1.11445961e+01],\n",
        "        [  2.85540438e+00],\n",
        "        [ -9.07151127e+00],\n",
        "        [  4.83010769e+00],\n",
        "        [  1.16782951e+00],\n",
        "        [  2.19284511e+00],\n",
        "        [  4.17762280e-01],\n",
        "        [  5.97131062e+00],\n",
        "        [  1.16782951e+00],\n",
        "        [  1.65705013e+00],\n",
        "        [  2.46240139e-01],\n",
        "        [  4.17762280e-01],\n",
        "        [  6.57050133e-01],\n",
        "        [ -2.75375986e+00],\n",
        "        [  2.24370599e-01],\n",
        "        [  5.02357483e-01],\n",
        "        [  8.16439724e+00],\n",
        "        [  8.97131062e+00],\n",
        "        [ -1.80715489e+00],\n",
        "        [ -5.87523937e-01],\n",
        "        [ -3.38281393e-02],\n",
        "        [ -7.61195517e+00],\n",
        "        [  2.38804483e+00],\n",
        "        [  2.38804483e+00],\n",
        "        [  2.78145409e+00],\n",
        "        [ -1.77562940e+00],\n",
        "        [ -7.66781211e-01],\n",
        "        [ -1.14459562e+00],\n",
        "        [ -1.48729038e+00],\n",
        "        [  2.24370599e-01],\n",
        "        [  9.66171861e-01],\n",
        "        [  1.65705013e+00],\n",
        "        [  4.78145409e+00],\n",
        "        [ -1.22987232e+01],\n",
        "        [ -3.83560276e+00],\n",
        "        [ -6.21854591e+00],\n",
        "        [  1.65515900e-01],\n",
        "        [ -6.86320210e+00],\n",
        "        [  1.41247606e+00],\n",
        "        [  7.97131062e+00],\n",
        "        [  1.64221907e+00],\n",
        "        [ -7.34294987e+00],\n",
        "        [ -1.48356028e+01],\n",
        "        [ -5.83560276e+00],\n",
        "        [  1.22468243e+01],\n",
        "        [ -3.83448410e+00],\n",
        "        [ -1.35778093e+00],\n",
        "        [  4.44966555e-02],\n",
        "        [ -2.86893845e-02],\n",
        "        [  8.30107689e-01],\n",
        "        [  6.57050133e-01],\n",
        "        [  1.92845106e-01],\n",
        "        [  2.46240139e-01],\n",
        "        [ -2.35778093e+00],\n",
        "        [  1.65705013e+00],\n",
        "        [  1.65705013e+00],\n",
        "        [  6.42219067e-01],\n",
        "        [  5.70127678e+00],\n",
        "        [  1.52468243e+01],\n",
        "        [ -1.76678121e+00],\n",
        "        [ -2.20286903e+01],\n",
        "        [  4.44966555e-02],\n",
        "        [  1.22468243e+01],\n",
        "        [  2.33218789e-01],\n",
        "        [  2.38804483e+00],\n",
        "        [  1.38804483e+00],\n",
        "        [  1.32468243e+01],\n",
        "        [  2.33218789e-01],\n",
        "        [ -3.42949867e-01],\n",
        "        [  3.67849255e+00],\n",
        "        [  1.64221907e+00],\n",
        "        [  5.02357483e-01],\n",
        "        [  2.46240139e-01],\n",
        "        [ -7.66781211e-01],\n",
        "        [ -8.48729038e+00],\n",
        "        [ -3.83217049e+00],\n",
        "        [  9.66171861e-01],\n",
        "        [  2.46240139e-01],\n",
        "        [ -5.87523937e-01],\n",
        "        [  6.42219067e-01],\n",
        "        [ -3.61195517e+00],\n",
        "        [ -5.87523937e-01],\n",
        "        [ -8.83560276e+00],\n",
        "        [  6.57050133e-01],\n",
        "        [ -1.34294987e+00],\n",
        "        [  1.24624014e+00],\n",
        "        [ -7.75629401e-01],\n",
        "        [  6.57050133e-01],\n",
        "        [ -4.61195517e+00],\n",
        "        [  1.50235748e+00],\n",
        "        [ -3.83217049e+00],\n",
        "        [ -3.57780933e-01],\n",
        "        [ -8.21854591e+00],\n",
        "        [ -1.86320210e+00],\n",
        "        [  8.30107689e-01],\n",
        "        [ -1.49764252e+00],\n",
        "        [  2.46240139e-01],\n",
        "        [  2.16782951e+00],\n",
        "        [  6.42219067e-01],\n",
        "        [  1.65705013e+00],\n",
        "        [ -6.11955166e-01],\n",
        "        [ -3.42949867e-01],\n",
        "        [  1.64221907e+00],\n",
        "        [  1.65705013e+00],\n",
        "        [  3.83010769e+00],\n",
        "        [  4.17762280e-01],\n",
        "        [  1.64221907e+00],\n",
        "        [  9.66171861e-01],\n",
        "        [  4.12476063e-01],\n",
        "        [  2.38804483e+00],\n",
        "        [ -9.48729038e+00],\n",
        "        [ -1.83217049e+00],\n",
        "        [  9.66171861e-01],\n",
        "        [  8.30107689e-01],\n",
        "        [ -3.83448410e+00],\n",
        "        [  5.02357483e-01],\n",
        "        [  2.85540438e+00],\n",
        "        [ -1.48356028e+01],\n",
        "        [ -2.24872894e+01],\n",
        "        [  1.65705013e+00],\n",
        "        [  6.42219067e-01],\n",
        "        [  2.33218789e-01],\n",
        "        [ -1.69892311e-01],\n",
        "        [  1.50235748e+00],\n",
        "        [ -2.35778093e+00],\n",
        "        [  1.65705013e+00],\n",
        "        [ -9.07151127e+00],\n",
        "        [  6.57050133e-01],\n",
        "        [ -5.14459562e+00],\n",
        "        [ -1.76678121e+00],\n",
        "        [  2.33218789e-01],\n",
        "        [ -2.52987232e+01],\n",
        "        [ -4.61195517e+00],\n",
        "        [  1.65515900e-01],\n",
        "        [ -2.16989231e+00],\n",
        "        [  1.64221907e+00],\n",
        "        [  1.16439724e+00],\n",
        "        [ -6.86320210e+00],\n",
        "        [ -2.16989231e+00],\n",
        "        [ -2.34294987e+00],\n",
        "        [ -7.34294987e+00],\n",
        "        [  2.19284511e+00],\n",
        "        [ -6.11955166e-01],\n",
        "        [  6.57050133e-01],\n",
        "        [ -8.29872322e+00],\n",
        "        [  2.38804483e+00],\n",
        "        [  5.51270962e+00],\n",
        "        [  2.38804483e+00],\n",
        "        [  5.51270962e+00],\n",
        "        [ -8.29872322e+00],\n",
        "        [ -5.14459562e+00],\n",
        "        [  1.38804483e+00],\n",
        "        [  1.65705013e+00],\n",
        "        [ -8.21854591e+00],\n",
        "        [  1.92468243e+01],\n",
        "        [  3.67849255e+00],\n",
        "        [  1.15127096e+01],\n",
        "        [ -4.86320210e+00],\n",
        "        [ -2.35778093e+00],\n",
        "        [  6.42219067e-01],\n",
        "        [  1.35127096e+01],\n",
        "        [ -4.80715466e+00],\n",
        "        [  5.02357483e-01],\n",
        "        [  2.33218789e-01],\n",
        "        [ -2.20286903e+01],\n",
        "        [  2.78145409e+00],\n",
        "        [  7.01276779e-01],\n",
        "        [ -1.77562940e+00],\n",
        "        [ -2.20286903e+01],\n",
        "        [ -6.11955166e-01],\n",
        "        [  2.33218789e-01],\n",
        "        [  1.64221907e+00],\n",
        "        [  1.65705013e+00],\n",
        "        [ -1.22987232e+01],\n",
        "        [  1.65705013e+00],\n",
        "        [  2.24370599e-01],\n",
        "        [ -5.48729038e+00],\n",
        "        [  1.22468243e+01],\n",
        "        [  1.65705013e+00],\n",
        "        [ -3.83217049e+00],\n",
        "        [ -4.75317574e+00],\n",
        "        [ -2.35778093e+00],\n",
        "        [ -1.51698923e+01],\n",
        "        [ -1.11445961e+01],\n",
        "        [  3.67849255e+00],\n",
        "        [ -7.34294987e+00],\n",
        "        [  1.45127096e+01],\n",
        "        [  1.38804483e+00],\n",
        "        [  1.16782951e+00],\n",
        "        [ -6.11955166e-01],\n",
        "        [  8.16439724e+00],\n",
        "        [  6.67849255e+00],\n",
        "        [  1.64221907e+00],\n",
        "        [ -2.34294987e+00],\n",
        "        [ -4.75317574e+00],\n",
        "        [ -2.35778093e+00],\n",
        "        [ -3.38281393e-02],\n",
        "        [  7.03240991e-01],\n",
        "        [ -8.29872322e+00],\n",
        "        [  2.13679790e+00],\n",
        "        [  1.50235748e+00],\n",
        "        [  9.66171861e-01],\n",
        "        [  9.66171861e-01],\n",
        "        [  4.17762280e-01],\n",
        "        [ -6.21854591e+00],\n",
        "        [ -2.49764252e+00],\n",
        "        [  1.64221907e+00],\n",
        "        [  6.42219067e-01],\n",
        "        [  3.38804483e+00],\n",
        "        [  4.17762280e-01],\n",
        "        [  2.19284511e+00],\n",
        "        [ -2.58752394e+00],\n",
        "        [  2.38804483e+00],\n",
        "        [  1.92848873e+00],\n",
        "        [ -1.34294987e+00],\n",
        "        [ -7.66781211e-01],\n",
        "        [  2.33218789e-01],\n",
        "        [ -8.48729038e+00],\n",
        "        [ -1.83448410e+00],\n",
        "        [  1.50235748e+00],\n",
        "        [ -4.34294987e+00],\n",
        "        [  5.70127678e+00],\n",
        "        [ -1.34294987e+00],\n",
        "        [  9.66171861e-01],\n",
        "        [ -3.83217049e+00],\n",
        "        [  1.35127096e+01],\n",
        "        [ -2.07151127e+00],\n",
        "        [ -8.83560276e+00],\n",
        "        [  4.13679790e+00],\n",
        "        [ -1.86320210e+00],\n",
        "        [ -2.52987232e+01],\n",
        "        [ -4.86320210e+00],\n",
        "        [  2.33218789e-01],\n",
        "        [ -1.34294987e+00],\n",
        "        [ -7.15112686e-02],\n",
        "        [  1.07012768e+01],\n",
        "        [  5.02357483e-01],\n",
        "        [ -3.38281393e-02],\n",
        "        [  1.65705013e+00],\n",
        "        [  1.41247606e+00],\n",
        "        [ -2.37531757e+01],\n",
        "        [ -8.21854591e+00],\n",
        "        [ -3.02868938e+00],\n",
        "        [  1.65705013e+00],\n",
        "        [ -2.49764252e+00],\n",
        "        [  2.33218789e-01],\n",
        "        [  1.65705013e+00],\n",
        "        [  9.66171861e-01],\n",
        "        [  1.50235748e+00],\n",
        "        [  2.33218789e-01],\n",
        "        [  9.66171861e-01],\n",
        "        [  4.44966555e-02],\n",
        "        [  1.65705013e+00],\n",
        "        [  4.44966555e-02],\n",
        "        [  1.64221907e+00],\n",
        "        [  2.33218789e-01],\n",
        "        [ -4.96277571e-01],\n",
        "        [ -3.42949867e-01],\n",
        "        [ -2.49764252e+00],\n",
        "        [  2.38804483e+00],\n",
        "        [ -1.69892311e-01],\n",
        "        [ -1.83448410e+00],\n",
        "        [  2.38804483e+00],\n",
        "        [ -4.34294987e+00],\n",
        "        [ -2.49764252e+00],\n",
        "        [  3.92848873e+00],\n",
        "        [  1.38804483e+00],\n",
        "        [  2.33218789e-01],\n",
        "        [ -1.34294987e+00],\n",
        "        [ -4.35778093e+00],\n",
        "        [ -8.83560276e+00],\n",
        "        [  7.97131062e+00],\n",
        "        [  8.97131062e+00],\n",
        "        [  1.65705013e+00],\n",
        "        [  1.65705013e+00],\n",
        "        [  2.33218789e-01],\n",
        "        [  5.97131062e+00],\n",
        "        [  1.65705013e+00],\n",
        "        [ -2.86320210e+00],\n",
        "        [  1.64221907e+00],\n",
        "        [ -1.34294987e+00],\n",
        "        [  1.24624014e+00],\n",
        "        [  2.24370599e-01],\n",
        "        [  1.65705013e+00],\n",
        "        [ -2.03382826e+00],\n",
        "        [ -4.75317574e+00],\n",
        "        [ -3.42949867e-01],\n",
        "        [ -2.52987232e+01],\n",
        "        [  4.44966555e-02],\n",
        "        [  1.24624014e+00],\n",
        "        [ -1.14459562e+00],\n",
        "        [  9.97131062e+00],\n",
        "        [ -6.11955166e-01],\n",
        "        [  2.33218789e-01],\n",
        "        [ -7.66781211e-01],\n",
        "        [  4.78145409e+00],\n",
        "        [  2.24370599e-01],\n",
        "        [  2.33218789e-01],\n",
        "        [  2.85540438e+00],\n",
        "        [ -1.14459562e+00],\n",
        "        [  1.45127096e+01],\n",
        "        [ -4.96277571e-01],\n",
        "        [  1.65705013e+00],\n",
        "        [ -8.32170486e-01],\n",
        "        [  2.38804483e+00],\n",
        "        [ -6.21854591e+00],\n",
        "        [  2.19284511e+00],\n",
        "        [ -2.75375986e+00],\n",
        "        [  2.38804483e+00],\n",
        "        [  1.65705013e+00],\n",
        "        [  6.67849255e+00],\n",
        "        [  2.38804483e+00],\n",
        "        [  3.83010769e+00],\n",
        "        [ -2.35778093e+00],\n",
        "        [ -5.83560276e+00],\n",
        "        [ -3.83448410e+00],\n",
        "        [  2.33218789e-01],\n",
        "        [  9.66171861e-01],\n",
        "        [ -1.58223772e+00],\n",
        "        [  2.33218789e-01],\n",
        "        [ -2.80715489e+00],\n",
        "        [  1.65705013e+00],\n",
        "        [  1.65705013e+00],\n",
        "        [  4.12476063e-01],\n",
        "        [  2.24370599e-01],\n",
        "        [ -2.80715489e+00],\n",
        "        [  1.38804483e+00],\n",
        "        [  2.85540438e+00],\n",
        "        [ -3.38281393e-02],\n",
        "        [ -3.02868938e+00],\n",
        "        [  2.38804483e+00],\n",
        "        [ -4.83448410e+00],\n",
        "        [  1.85540438e+00],\n",
        "        [ -4.75317574e+00],\n",
        "        [ -4.83448410e+00],\n",
        "        [ -1.58223772e+00],\n",
        "        [  1.64221907e+00],\n",
        "        [  7.97131062e+00],\n",
        "        [  9.97131062e+00],\n",
        "        [ -1.34294987e+00],\n",
        "        [  4.12476063e-01],\n",
        "        [  2.24370599e-01],\n",
        "        [  8.55404377e-01],\n",
        "        [  1.16782951e+00],\n",
        "        [ -1.51445961e+01],\n",
        "        [ -8.29872322e+00],\n",
        "        [ -2.35778093e+00],\n",
        "        [  6.67849255e+00],\n",
        "        [ -1.34294987e+00],\n",
        "        [ -4.34294987e+00],\n",
        "        [ -8.32150745e+00],\n",
        "        [  1.65705013e+00],\n",
        "        [ -1.69892311e-01],\n",
        "        [ -1.49764252e+00],\n",
        "        [  6.67849255e+00],\n",
        "        [  9.66171861e-01],\n",
        "        [ -3.38281393e-02],\n",
        "        [ -1.76678121e+00],\n",
        "        [  2.85540438e+00],\n",
        "        [  2.10430503e-01],\n",
        "        [ -3.42949867e-01],\n",
        "        [  4.17762280e-01],\n",
        "        [  2.33218789e-01],\n",
        "        [ -4.61195517e+00],\n",
        "        [ -1.75375986e+00],\n",
        "        [ -6.11955166e-01],\n",
        "        [  2.97131062e+00],\n",
        "        [  6.67849255e+00],\n",
        "        [  6.57050133e-01],\n",
        "        [ -1.34294987e+00],\n",
        "        [  2.78145409e+00],\n",
        "        [  1.92848873e+00],\n",
        "        [  3.88044834e-01],\n",
        "        [ -1.34294987e+00],\n",
        "        [ -6.35778093e+00],\n",
        "        [  4.16439724e+00],\n",
        "        [ -1.03215075e+01],\n",
        "        [ -2.96759009e-01],\n",
        "        [ -1.77562940e+00],\n",
        "        [ -1.83448410e+00],\n",
        "        [  1.15127096e+01],\n",
        "        [  2.41247606e+00],\n",
        "        [  1.38804483e+00],\n",
        "        [  8.30107689e-01],\n",
        "        [  1.19284511e+00],\n",
        "        [  1.19284511e+00],\n",
        "        [ -9.48729038e+00],\n",
        "        [  2.78145409e+00],\n",
        "        [  8.30107689e-01],\n",
        "        [  1.64221907e+00],\n",
        "        [ -8.34484100e-01],\n",
        "        [  1.64397240e-01],\n",
        "        [ -4.61195517e+00],\n",
        "        [  1.65705013e+00],\n",
        "        [  5.70127678e+00],\n",
        "        [  1.16439724e+00],\n",
        "        [ -2.29872322e+00]]], dtype=float32)]"
       ]
      },
      {
       "output_type": "stream",
       "stream": "stdout",
       "text": [
        "\n"
       ]
      }
     ],
     "prompt_number": 1
    },
    {
     "cell_type": "code",
     "collapsed": false,
     "input": [
      "# -*- coding: utf-8 -*-\n",
      "import numpy as np\n",
      "w=0.4\n",
      "Y1=np.array(Ylist[0][100:120])\n",
      "Y2=np.array(y_test[100:120])\n",
      "X=np.arange(len(Y1))\n",
      "\n",
      "pyplot.bar(X,Y1,color='b',width=w,label=\"Y\")\n",
      "pyplot.bar(X+w,Y2,color='c',width=w,label=\"Actual\")\n",
      "pyplot.legend(loc=\"best\")\n",
      "pyplot.grid()\n",
      "pyplot.xlim=(0,20)\n",
      "pyplot.show()"
     ],
     "language": "python",
     "metadata": {},
     "outputs": [
      {
       "ename": "NameError",
       "evalue": "name 'Ylist' is not defined",
       "output_type": "pyerr",
       "traceback": [
        "\u001b[1;31m---------------------------------------------------------------------------\u001b[0m\n\u001b[1;31mNameError\u001b[0m                                 Traceback (most recent call last)",
        "\u001b[1;32m<ipython-input-2-ea922ff0957f>\u001b[0m in \u001b[0;36m<module>\u001b[1;34m()\u001b[0m\n\u001b[0;32m      2\u001b[0m \u001b[1;32mimport\u001b[0m \u001b[0mnumpy\u001b[0m \u001b[1;32mas\u001b[0m \u001b[0mnp\u001b[0m\u001b[1;33m\u001b[0m\u001b[0m\n\u001b[0;32m      3\u001b[0m \u001b[0mw\u001b[0m\u001b[1;33m=\u001b[0m\u001b[1;36m0.4\u001b[0m\u001b[1;33m\u001b[0m\u001b[0m\n\u001b[1;32m----> 4\u001b[1;33m \u001b[0mY1\u001b[0m\u001b[1;33m=\u001b[0m\u001b[0mnp\u001b[0m\u001b[1;33m.\u001b[0m\u001b[0marray\u001b[0m\u001b[1;33m(\u001b[0m\u001b[0mYlist\u001b[0m\u001b[1;33m[\u001b[0m\u001b[1;36m0\u001b[0m\u001b[1;33m]\u001b[0m\u001b[1;33m[\u001b[0m\u001b[1;36m100\u001b[0m\u001b[1;33m:\u001b[0m\u001b[1;36m120\u001b[0m\u001b[1;33m]\u001b[0m\u001b[1;33m)\u001b[0m\u001b[1;33m\u001b[0m\u001b[0m\n\u001b[0m\u001b[0;32m      5\u001b[0m \u001b[0mY2\u001b[0m\u001b[1;33m=\u001b[0m\u001b[0mnp\u001b[0m\u001b[1;33m.\u001b[0m\u001b[0marray\u001b[0m\u001b[1;33m(\u001b[0m\u001b[0my_test\u001b[0m\u001b[1;33m[\u001b[0m\u001b[1;36m100\u001b[0m\u001b[1;33m:\u001b[0m\u001b[1;36m120\u001b[0m\u001b[1;33m]\u001b[0m\u001b[1;33m)\u001b[0m\u001b[1;33m\u001b[0m\u001b[0m\n\u001b[0;32m      6\u001b[0m \u001b[0mX\u001b[0m\u001b[1;33m=\u001b[0m\u001b[0mnp\u001b[0m\u001b[1;33m.\u001b[0m\u001b[0marange\u001b[0m\u001b[1;33m(\u001b[0m\u001b[0mlen\u001b[0m\u001b[1;33m(\u001b[0m\u001b[0mY1\u001b[0m\u001b[1;33m)\u001b[0m\u001b[1;33m)\u001b[0m\u001b[1;33m\u001b[0m\u001b[0m\n",
        "\u001b[1;31mNameError\u001b[0m: name 'Ylist' is not defined"
       ]
      }
     ],
     "prompt_number": 2
    },
    {
     "cell_type": "code",
     "collapsed": false,
     "input": [
      "diff=[]\n",
      "diff.append(Ylist[0]-y_test)\n",
      "pyplot.plot(diff[0][0:20])\n",
      "print(\"[\u5e73\u5747\u8aa4\u5dee=\",np.mean(diff[0]),\"\u8aa4\u5dee\u5206\u6563=\",np.var(diff[0]),\"]\")\n",
      "#print(diff[0])\n",
      "pyplot.title=(\"Y-Actual\")\n",
      "pyplot.show()"
     ],
     "language": "python",
     "metadata": {},
     "outputs": [
      {
       "output_type": "stream",
       "stream": "stdout",
       "text": [
        "[\u5e73\u5747\u8aa4\u5dee= -0.528108 \u8aa4\u5dee\u5206\u6563= 35.6524 ]\n"
       ]
      }
     ],
     "prompt_number": 11
    },
    {
     "cell_type": "code",
     "collapsed": false,
     "input": [
      "np.max(np.absolute(diff))"
     ],
     "language": "python",
     "metadata": {},
     "outputs": [
      {
       "metadata": {},
       "output_type": "pyout",
       "prompt_number": 20,
       "text": [
        "36.321507"
       ]
      }
     ],
     "prompt_number": 20
    },
    {
     "cell_type": "code",
     "collapsed": false,
     "input": [],
     "language": "python",
     "metadata": {},
     "outputs": []
    }
   ],
   "metadata": {}
  }
 ]
}