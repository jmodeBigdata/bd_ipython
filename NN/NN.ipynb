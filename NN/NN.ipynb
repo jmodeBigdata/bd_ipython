{
 "metadata": {
  "name": "",
  "signature": "sha256:670d095e104030a0cf7f5565a100807bb2bca30707a1f52fb09ea3ecb5d6c924"
 },
 "nbformat": 3,
 "nbformat_minor": 0,
 "worksheets": [
  {
   "cells": [
    {
     "cell_type": "code",
     "collapsed": false,
     "input": [
      "import numpy\n",
      "import math\n",
      "import random\n",
      "from matplotlib import pyplot\n",
      "%matplotlib inline\n",
      "\n",
      "class Neural:\n",
      "\n",
      "    # constructor\n",
      "    def __init__(self, n_input, n_hidden, n_output): #------------init\u95a2\u6570------------\n",
      "        self.hidden_weight = numpy.random.random_sample((n_hidden, n_input + 1)) #[n_hidden]\u884c[n_input+1]\u5217\u306e\u884c\u5217\u306b\u4e71\u6570\u3092\u751f\u6210\u3057\u3066\u884c\u5217\u4f5c\u6210\n",
      "        self.output_weight = numpy.random.random_sample((n_output, n_hidden + 1)) #[n_output]\u884c[n_hidden+1]\u5217\u306e\u884c\u5217\u306b\u4e71\u6570\u3092\u751f\u6210\u3057\u3066\u884c\u5217\u4f5c\u6210\n",
      "        self.hidden_momentum = numpy.zeros((n_hidden, n_input + 1)) #\u3059\u3079\u3066\u306e\u8981\u7d20\u304c0\u3067\u3042\u308b[n_hidden]*[n_input+1]\u884c\u5217\u3092\u751f\u6210\n",
      "        self.output_momentum = numpy.zeros((n_output, n_hidden + 1))#\u3059\u3079\u3066\u306e\u8981\u7d20\u304c0\u3067\u3042\u308b[n_hidden]*[n_input+1]\u884c\u5217\u3092\u751f\u6210\n",
      "\n",
      "\n",
      "# public method\n",
      "    def train(self, X, T, epsilon, mu, epoch): #------------\u8a13\u7df4\u95a2\u6570------------\n",
      "        self.error = numpy.zeros(epoch)\n",
      "        N = X.shape[0]\n",
      "        for epo in range(epoch):\n",
      "            for i in range(N):\n",
      "                x = X[i, :]\n",
      "                t = T[i, :]\n",
      "\n",
      "                self.__update_weight(x, t, epsilon, mu) #\u91cd\u307fW\u306e\u66f4\u65b0\n",
      "\n",
      "            self.error[epo] = self.__calc_error(X, T) #\u8aa4\u5dee\u3092\u8a08\u7b97\n",
      "\n",
      "\n",
      "    def predict(self, X):  #------------\u4e88\u6e2c\u95a2\u6570------------\n",
      "        N = X.shape[0] # a.shape[i]\u5404\u6b21\u5143\u306e\u8981\u7d20\u6570(\u884c\u6570\u3001\u5217\u6570)\n",
      "        C = numpy.zeros(N).astype('int') #N\u884c\u306e\u30bc\u30ed\u884c\u5217\u3092\u3001type=int\u306b\u6307\u5b9a\u3057\u3066\u4f5c\u6210\u3000\u2192C\n",
      "        Y = numpy.zeros((N, X.shape[1])) #N\u884c,(X.shape[1])\u5217\u306e\u884c\u5217\u3092\u4f5c\u6210\u3000\u2192Y\n",
      "        for i in range(N):\n",
      "            x = X[i, :]\n",
      "            z, y = self.__forward(x)\n",
      "\n",
      "            Y[i] = y\n",
      "            C[i] = y.argmax()#argmax()/\u914d\u5217Y\u4e2d\u3067\u6700\u5927\u5024\u3092\u3068\u308b\u8981\u7d20\u306e\u6dfb\u3048\u5b57\u3092\u8fd4\u3059\u95a2\u6570 \n",
      "\n",
      "        return (C, Y)\n",
      "\n",
      "\n",
      "    def error_graph(self): #------------\u8aa4\u5dee\u306e\u8868\u793a------------\n",
      "        pyplot.ylim(0.0, 2.0)\n",
      "        pyplot.plot(numpy.arange(0, self.error.shape[0]), self.error) #X\u8ef8:0~\u8aa4\u5dee\u914d\u5217\u306e\u30d8\u30c3\u30c0\u30fc\u6570\u3000Y\u8ef8:\u8a9e\u3055\u95a2\u6570\u306e\u5024\n",
      "            #start\uff5estop\u533a\u9593\u3092step\u9593\u9694\u3067\u30c7\u30fc\u30bf\u3092\u751f\u6210\u3059\u308b\u3002\n",
      "            #arange([start],stop,[step],[dtype])\n",
      "        pyplot.show()\n",
      "\n",
      "\n",
      "# private method\n",
      "    def __sigmoid(self, arr): #------------\u6d3b\u6027\u5316\u95a2\u6570\u306e\u5b9a\u7fa9------------\n",
      "        return numpy.vectorize(lambda x: 1.0 / (1.0 + math.exp(-x)))(arr)\n",
      "            #vectorize/\u4e00\u3064\u3057\u304b\u5f15\u6570\u3092\u53d6\u3089\u306a\u3044\u95a2\u6570\u306b\u5bfe\u3057\u3066\u3001\u914d\u5217\u3092\u5f15\u6570\u306b\u6307\u5b9a\u3059\u308b\u3053\u3068\u304c\u3067\u304d\u308b\uff01\n",
      "\n",
      "\n",
      "    def __forward(self, x): #------------forward\u95a2\u6570\u306e\u5b9a\u7fa9------------\n",
      "        # z: output in hidden layer, y: output in output layer\n",
      "        z = self.__sigmoid(self.hidden_weight.dot(numpy.r_[numpy.array([1]), x]))\n",
      "        y = self.__sigmoid(self.output_weight.dot(numpy.r_[numpy.array([1]), z]))\n",
      "\n",
      "        return (z, y)\n",
      "\n",
      "    def __update_weight(self, x, t, epsilon, mu): #------------\u91cd\u307f\u306e\u66f4\u65b0\u95a2\u6570------------\n",
      "        z, y = self.__forward(x)\n",
      "\n",
      "        # update output_weight ------------\u51fa\u529b\u5c64\u306e\u91cd\u307f\u66f4\u65b0------------\n",
      "        output_delta = (y - t) * y * (1.0 - y)\n",
      "        _output_weight = self.output_weight\n",
      "        self.output_weight -= epsilon * output_delta.reshape((-1, 1)) * numpy.r_[numpy.array([1]), z] - mu * self.output_momentum\n",
      "        self.output_momentum = self.output_weight - _output_weight\n",
      "\n",
      "        # update hidden_weight\u3000------------\u96a0\u308c\u5c64(\u4e2d\u9593\u5c64)\u306e\u91cd\u307f\u66f4\u65b0------------\n",
      "        hidden_delta = (self.output_weight[:, 1:].T.dot(output_delta)) * z * (1.0 - z)\n",
      "        _hidden_weight = self.hidden_weight\n",
      "        self.hidden_weight -= epsilon * hidden_delta.reshape((-1, 1)) * numpy.r_[numpy.array([1]), x] #numpy.array([1]\u3068x\u3092\u7d50\u5408)\n",
      "        self.hidden_momentum = self.hidden_weight - _hidden_weight\n",
      "\n",
      "\n",
      "    def __calc_error(self, X, T): #------------\u8aa4\u5dee\u8a08\u7b97\u95a2\u6570------------\n",
      "        N = X.shape[0] #\u5165\u529bX\u914d\u5217\u306e\u8981\u7d20\u6570\n",
      "        err = 0.0\n",
      "        for i in range(N): #\u5165\u529bX\u306e\u8981\u7d20\u6570\u3060\u3051\u7e70\u308a\u8fd4\u3057\n",
      "            x = X[i, :]\n",
      "            t = T[i, :]\n",
      "\n",
      "            z, y = self.__forward(x)\n",
      "            err += (y - t).dot((y - t).reshape((-1, 1))) / 2.0\n",
      "                #numpy.dot(v1,v2) \u2192\u30d9\u30af\u30c8\u30ebv1\u3068v2\u306e\u5185\u7a4d\u3092\u8a08\u7b97\n",
      "\n",
      "        return err"
     ],
     "language": "python",
     "metadata": {},
     "outputs": [],
     "prompt_number": 1
    },
    {
     "cell_type": "code",
     "collapsed": false,
     "input": [
      "\n",
      "\n",
      "if __name__ == '__main__':\n",
      "\n",
      "    X = numpy.array([[10,0],[10,0],[10,0],[10,0],[10,0],[10,0]])\n",
      "    T = numpy.array([[0,1],[0,1],[0,1],[1,0],[0,1],[1,0]])\n",
      "    N = X.shape[0] # number of data\n",
      "\n",
      "    input_size = X.shape[1]\n",
      "    hidden_size = 2\n",
      "    output_size = 2\n",
      "    epsilon = 0.1\n",
      "    mu = 0.9\n",
      "    epoch = 10000\n",
      "\n",
      "    nn = Neural(input_size, hidden_size, output_size) #NN\u3092\u69cb\u6210\n",
      "    nn.train(X, T, epsilon, mu, epoch) #\u5165\u529bX\u3068\u6559\u5e2bT\u3092\u4f7f\u3063\u3066\u3001\u5b66\u7fd2\n",
      "    nn.error_graph() #\u8aa4\u5dee\u30b0\u30e9\u30d5\u3092\u51fa\u529b\n",
      "\n",
      "    C, Y = nn.predict(X) #\u4e88\u6e2c\u5024\u3092\u30b2\u30c3\u30c8\n",
      "\n",
      "    for i in range(N):\n",
      "        x = X[i, :]\n",
      "        y = Y[i, :]\n",
      "        c = C[i]\n",
      "\n",
      "        print (x)\n",
      "        print (y)\n",
      "        print (c)\n",
      "        print (\"\")\n",
      "    print(N)"
     ],
     "language": "python",
     "metadata": {},
     "outputs": [
      {
       "ename": "ImportError",
       "evalue": "No module named 'neuralnetwork'",
       "output_type": "pyerr",
       "traceback": [
        "\u001b[1;31m---------------------------------------------------------------------------\u001b[0m\n\u001b[1;31mImportError\u001b[0m                               Traceback (most recent call last)",
        "\u001b[1;32m<ipython-input-14-154ea106f700>\u001b[0m in \u001b[0;36m<module>\u001b[1;34m()\u001b[0m\n\u001b[1;32m----> 1\u001b[1;33m \u001b[1;32mfrom\u001b[0m \u001b[0mneuralnetwork\u001b[0m \u001b[1;32mimport\u001b[0m \u001b[1;33m*\u001b[0m\u001b[1;33m\u001b[0m\u001b[0m\n\u001b[0m\u001b[0;32m      2\u001b[0m \u001b[1;33m\u001b[0m\u001b[0m\n\u001b[0;32m      3\u001b[0m \u001b[1;32mif\u001b[0m \u001b[0m__name__\u001b[0m \u001b[1;33m==\u001b[0m \u001b[1;34m'__main__'\u001b[0m\u001b[1;33m:\u001b[0m\u001b[1;33m\u001b[0m\u001b[0m\n\u001b[0;32m      4\u001b[0m \u001b[1;33m\u001b[0m\u001b[0m\n\u001b[0;32m      5\u001b[0m     \u001b[0mX\u001b[0m \u001b[1;33m=\u001b[0m \u001b[0mnumpy\u001b[0m\u001b[1;33m.\u001b[0m\u001b[0marray\u001b[0m\u001b[1;33m(\u001b[0m\u001b[1;33m[\u001b[0m\u001b[1;33m[\u001b[0m\u001b[1;36m10\u001b[0m\u001b[1;33m,\u001b[0m\u001b[1;36m0\u001b[0m\u001b[1;33m]\u001b[0m\u001b[1;33m,\u001b[0m\u001b[1;33m[\u001b[0m\u001b[1;36m10\u001b[0m\u001b[1;33m,\u001b[0m\u001b[1;36m0\u001b[0m\u001b[1;33m]\u001b[0m\u001b[1;33m,\u001b[0m\u001b[1;33m[\u001b[0m\u001b[1;36m10\u001b[0m\u001b[1;33m,\u001b[0m\u001b[1;36m0\u001b[0m\u001b[1;33m]\u001b[0m\u001b[1;33m,\u001b[0m\u001b[1;33m[\u001b[0m\u001b[1;36m10\u001b[0m\u001b[1;33m,\u001b[0m\u001b[1;36m0\u001b[0m\u001b[1;33m]\u001b[0m\u001b[1;33m,\u001b[0m\u001b[1;33m[\u001b[0m\u001b[1;36m10\u001b[0m\u001b[1;33m,\u001b[0m\u001b[1;36m0\u001b[0m\u001b[1;33m]\u001b[0m\u001b[1;33m,\u001b[0m\u001b[1;33m[\u001b[0m\u001b[1;36m10\u001b[0m\u001b[1;33m,\u001b[0m\u001b[1;36m0\u001b[0m\u001b[1;33m]\u001b[0m\u001b[1;33m]\u001b[0m\u001b[1;33m)\u001b[0m\u001b[1;33m\u001b[0m\u001b[0m\n",
        "\u001b[1;31mImportError\u001b[0m: No module named 'neuralnetwork'"
       ]
      }
     ],
     "prompt_number": 14
    },
    {
     "cell_type": "code",
     "collapsed": false,
     "input": [
      "\n"
     ],
     "language": "python",
     "metadata": {},
     "outputs": [],
     "prompt_number": 7
    },
    {
     "cell_type": "code",
     "collapsed": false,
     "input": [
      "a = numpy.array((1,2,3,4))\n",
      "print(a)\n",
      "aa = a.reshape((-1,2))\n",
      "print(aa)\n",
      "aaa = a.reshape((2,2))\n",
      "print(aaa)\n",
      "\n",
      "aaa = numpy.r_[aaa,aaa]\n",
      "print(aaa)"
     ],
     "language": "python",
     "metadata": {},
     "outputs": [
      {
       "output_type": "stream",
       "stream": "stdout",
       "text": [
        "[1 2 3 4]\n",
        "[[1 2]\n",
        " [3 4]]\n",
        "[[1 2]\n",
        " [3 4]]\n",
        "[[1 2]\n",
        " [3 4]\n",
        " [1 2]\n",
        " [3 4]]\n"
       ]
      }
     ],
     "prompt_number": 10
    },
    {
     "cell_type": "code",
     "collapsed": false,
     "input": [
      "\n",
      "import chainer\n",
      "import chainer.links as L\n",
      "import chainer.functions as F\n",
      "\n",
      "%run /Users/Kensuke/chainer/examples/mnist/train_mnist.py"
     ],
     "language": "python",
     "metadata": {},
     "outputs": [
      {
       "output_type": "stream",
       "stream": "stdout",
       "text": [
        "GPU: -1\n",
        "# unit: 1000\n",
        "# Minibatch-size: 100\n",
        "# epoch: 20\n",
        "Network type: simple\n",
        "\n",
        "load MNIST dataset\n",
        "Downloading train-images-idx3-ubyte.gz...\n",
        "Done"
       ]
      },
      {
       "output_type": "stream",
       "stream": "stdout",
       "text": [
        "\n",
        "Downloading train-labels-idx1-ubyte.gz...\n",
        "Done"
       ]
      },
      {
       "output_type": "stream",
       "stream": "stdout",
       "text": [
        "\n",
        "Downloading t10k-images-idx3-ubyte.gz...\n",
        "Done"
       ]
      },
      {
       "output_type": "stream",
       "stream": "stdout",
       "text": [
        "\n",
        "Downloading t10k-labels-idx1-ubyte.gz...\n",
        "Done"
       ]
      },
      {
       "output_type": "stream",
       "stream": "stdout",
       "text": [
        "\n",
        "Converting training data...\n",
        "Done"
       ]
      },
      {
       "output_type": "stream",
       "stream": "stdout",
       "text": [
        "\n",
        "Converting test data...\n",
        "Done"
       ]
      },
      {
       "output_type": "stream",
       "stream": "stdout",
       "text": [
        "\n",
        "Save output...\n",
        "Done"
       ]
      },
      {
       "output_type": "stream",
       "stream": "stdout",
       "text": [
        "\n",
        "Convert completed\n",
        "epoch"
       ]
      },
      {
       "output_type": "stream",
       "stream": "stdout",
       "text": [
        " 1\n"
       ]
      },
      {
       "ename": "TypeError",
       "evalue": "build_computational_graph() got an unexpected keyword argument 'variable_style'",
       "output_type": "pyerr",
       "traceback": [
        "\u001b[1;31m---------------------------------------------------------------------------\u001b[0m\n\u001b[1;31mTypeError\u001b[0m                                 Traceback (most recent call last)",
        "\u001b[1;32mC:\\Users\\Kensuke\\chainer\\examples\\mnist\\train_mnist.py\u001b[0m in \u001b[0;36m<module>\u001b[1;34m()\u001b[0m\n\u001b[0;32m    111\u001b[0m                     \u001b[1;33m(\u001b[0m\u001b[0mmodel\u001b[0m\u001b[1;33m.\u001b[0m\u001b[0mloss\u001b[0m\u001b[1;33m,\u001b[0m \u001b[1;33m)\u001b[0m\u001b[1;33m,\u001b[0m\u001b[1;33m\u001b[0m\u001b[0m\n\u001b[0;32m    112\u001b[0m                     \u001b[0mvariable_style\u001b[0m\u001b[1;33m=\u001b[0m\u001b[0mvariable_style\u001b[0m\u001b[1;33m,\u001b[0m\u001b[1;33m\u001b[0m\u001b[0m\n\u001b[1;32m--> 113\u001b[1;33m                     function_style=function_style)\n\u001b[0m\u001b[0;32m    114\u001b[0m                 \u001b[0mo\u001b[0m\u001b[1;33m.\u001b[0m\u001b[0mwrite\u001b[0m\u001b[1;33m(\u001b[0m\u001b[0mg\u001b[0m\u001b[1;33m.\u001b[0m\u001b[0mdump\u001b[0m\u001b[1;33m(\u001b[0m\u001b[1;33m)\u001b[0m\u001b[1;33m)\u001b[0m\u001b[1;33m\u001b[0m\u001b[0m\n\u001b[0;32m    115\u001b[0m             \u001b[0mprint\u001b[0m\u001b[1;33m(\u001b[0m\u001b[1;34m'graph generated'\u001b[0m\u001b[1;33m)\u001b[0m\u001b[1;33m\u001b[0m\u001b[0m\n",
        "\u001b[1;31mTypeError\u001b[0m: build_computational_graph() got an unexpected keyword argument 'variable_style'"
       ]
      }
     ],
     "prompt_number": 2
    },
    {
     "cell_type": "code",
     "collapsed": false,
     "input": [],
     "language": "python",
     "metadata": {},
     "outputs": []
    }
   ],
   "metadata": {}
  }
 ]
}