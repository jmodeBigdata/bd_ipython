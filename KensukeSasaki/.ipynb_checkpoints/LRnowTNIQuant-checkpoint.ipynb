{
 "metadata": {
  "name": "",
  "signature": "sha256:aa8d40e5893da7cc0bf232312a419dfe8690a38189bd5ff5d02b3e2b1d6b5c7c"
 },
 "nbformat": 3,
 "nbformat_minor": 0,
 "worksheets": [
  {
   "cells": [
    {
     "cell_type": "code",
     "collapsed": false,
     "input": [
      "#\u6570\u91cf\u306f\u3053\u3053\uff01\uff01\n",
      "\n",
      "#!/usr/bin/env python\n",
      "# coding: utf-8\n",
      "import pandas as pd\n",
      "temp=pd.read_csv(\"features.csv\",names=('ShopID','Square','ShopType','ShopRank','Category','PS'))\n",
      "temptarget = pd.read_csv(\"sales.csv\",header=0)\n",
      "\n",
      "\n",
      "#from __future__ import print_function\n",
      "import numpy as np\n",
      "from sklearn.cross_validation import train_test_split\n",
      "\n",
      "import six\n",
      "import sys\n",
      "import chainer\n",
      "import chainer.links as L\n",
      "from chainer import optimizers\n",
      "import chainer.functions as F\n",
      "from matplotlib import pyplot\n",
      "%matplotlib inline\n",
      "\n",
      "\n",
      "batchsize = 40\n",
      "n_epoch = 100\n",
      "\n",
      "# Prepare dataset\n",
      "target_list=[]\n",
      "for i in zip(temptarget['Quant']):\n",
      "    target_list.append([i])\n",
      "target = np.array(target_list)\n",
      "\n",
      "\n",
      "feature_lists = []\n",
      "#for i,j,k,l in zip(temp['ShopID'],temp['Square'],temp['ShopRank'],temp['ShopType'],temp['PS']):\n",
      "for i,j,k,l in zip(temp['Square'],temp['ShopType'],temp['ShopRank'],temp['PS']):\n",
      "    feature_lists.append([i,j,k,l])\n",
      "features = np.array(feature_lists)\n",
      "\n",
      "target=target.astype(np.float32).reshape(len(target_list), 1)\n",
      "feature=features.astype(np.float32)\n",
      "\n",
      "\n",
      "x_train, x_test, y_train, y_test = train_test_split(feature, target, test_size=0.2)\n",
      "N_test = y_test.size  # test data size\n",
      "N = len(x_train)  # train data size\n",
      "in_units = x_train.shape[1]  \n",
      "\n",
      "\n",
      "n_units_2 = 90\n",
      "n_units_3 = 90\n",
      "n_units_4 = 90\n",
      "n_units_5 = 10\n",
      "\n",
      "model = chainer.Chain(\n",
      "    l1=L.Linear(in_units, n_units_2),\n",
      "    l2=L.Linear(n_units_2, n_units_3),\n",
      "    l3=L.Linear(n_units_3,  n_units_4),\n",
      "    l4=L.Linear(n_units_4,  n_units_5),\n",
      "    l5=L.Linear(n_units_5,  1))\n",
      "\n",
      "\n",
      "def forward(x):\n",
      "    h1 = F.relu(model.l1(x))\n",
      "    h2 = F.relu(model.l2(h1))\n",
      "    h3 = F.relu(model.l3(h2))\n",
      "    h4 = F.relu(model.l4(h3))\n",
      "    y = model.l5(h4)\n",
      "    return y\n",
      "    #return F.tanh(model.l5(h4))\n",
      "\n",
      "# Setup optimizer\u6700\u9069\u5316\u306e\u30bb\u30c3\u30c8\u30a2\u30c3\u30d7\n",
      "optimizer = optimizers.Adam()#\u52fe\u914d\u6cd5\u306e\u30a2\u30eb\u30b4\u30ea\u30ba\u30e0:Adam\n",
      "optimizer.setup(model)\n",
      "#optimizer.add_hokk(optimizer.WeightDecay())#\u6b63\u5247\u5316\u3092hook\u95a2\u6570\u3068\u3057\u3066\u767b\u9332\n",
      "\n",
      "# Learning loop\n",
      "LOSS = []\n",
      "Ylist = []\n",
      "for epoch in six.moves.range(1, n_epoch + 1):\n",
      "    print('epoch', epoch)\n",
      "    # training\n",
      "    perm = np.random.permutation(N)\n",
      "    sum_loss = 0.0\n",
      "    for i in six.moves.range(0, N, batchsize):\n",
      "        x = chainer.Variable(np.asarray(x_train[perm[i:i + batchsize]]))\n",
      "        t = chainer.Variable(np.asarray((y_train[perm[i:i + batchsize]])))\n",
      "        model.zerograds()#\u52fe\u914d\u3092\u30bc\u30ed\u521d\u671f\u5316\n",
      "        y = forward(x)\n",
      "        loss = F.mean_squared_error(y, t)#\u5e73\u57472\u4e57\u8aa4\u5dee\n",
      "        sum_loss += loss.data\n",
      "        loss.backward()#\u52fe\u914d\u8a08\u7b97\n",
      "        optimizer.update()#\u6700\u9069\u5316\u30eb\u30fc\u30c1\u30f3\u3092\u5b9f\u884c\n",
      "    print('train mean loss={}'.format(sum_loss / N))\n",
      "\n",
      "    # all test data\n",
      "    x = chainer.Variable(np.asarray(x_test))#\u7279\u5fb4\u91cf\n",
      "    t = chainer.Variable(np.asarray((y_test)))#\u6559\u5e2b\u30c7\u30fc\u30bf\n",
      "    y = forward(x)#\u51fa\u529b\n",
      "    loss = F.mean_squared_error(y, t)\n",
      "    LOSS.append(loss.data/N_test)\n",
      "    print(' test mean loss={}'.format(loss.data / N_test))\n",
      "Ylist.append(y.data)\n",
      "#print(\"Y = \", Ylist)\n",
      "pyplot.plot((LOSS))"
     ],
     "language": "python",
     "metadata": {},
     "outputs": [
      {
       "output_type": "stream",
       "stream": "stdout",
       "text": [
        "epoch 1\n",
        "train mean loss=1.814971862608515"
       ]
      },
      {
       "output_type": "stream",
       "stream": "stdout",
       "text": [
        "\n",
        " test mean loss=0.14214383443196615\n",
        "epoch 2\n",
        "train mean loss=1.3829248976140978"
       ]
      },
      {
       "output_type": "stream",
       "stream": "stdout",
       "text": [
        "\n",
        " test mean loss=0.12790050506591796\n",
        "epoch 3\n",
        "train mean loss=1.3825050869202704"
       ]
      },
      {
       "output_type": "stream",
       "stream": "stdout",
       "text": [
        "\n",
        " test mean loss=0.1259656524658203\n",
        "epoch 4\n",
        "train mean loss=1.3751186543377603"
       ]
      },
      {
       "output_type": "stream",
       "stream": "stdout",
       "text": [
        "\n",
        " test mean loss=0.128516108194987\n",
        "epoch 5\n",
        "train mean loss=1.359043708092076"
       ]
      },
      {
       "output_type": "stream",
       "stream": "stdout",
       "text": [
        "\n",
        " test mean loss=0.12487817128499348\n",
        "epoch 6\n",
        "train mean loss=1.3441788032185091"
       ]
      },
      {
       "output_type": "stream",
       "stream": "stdout",
       "text": [
        "\n",
        " test mean loss=0.12282306671142579\n",
        "epoch 7\n",
        "train mean loss=1.3078240036417812"
       ]
      },
      {
       "output_type": "stream",
       "stream": "stdout",
       "text": [
        "\n",
        " test mean loss=0.12075057983398438\n",
        "epoch 8\n",
        "train mean loss=1.285889218876192"
       ]
      },
      {
       "output_type": "stream",
       "stream": "stdout",
       "text": [
        "\n",
        " test mean loss=0.12086805979410807\n",
        "epoch 9\n",
        "train mean loss=1.2423577374247226"
       ]
      },
      {
       "output_type": "stream",
       "stream": "stdout",
       "text": [
        "\n",
        " test mean loss=0.11739629109700521\n",
        "epoch 10\n",
        "train mean loss=1.183122395177144"
       ]
      },
      {
       "output_type": "stream",
       "stream": "stdout",
       "text": [
        "\n",
        " test mean loss=0.11301204681396484\n",
        "epoch 11\n",
        "train mean loss=1.196301697989015"
       ]
      },
      {
       "output_type": "stream",
       "stream": "stdout",
       "text": [
        "\n",
        " test mean loss=0.11076681772867839\n",
        "epoch 12\n",
        "train mean loss=1.1541374311093342"
       ]
      },
      {
       "output_type": "stream",
       "stream": "stdout",
       "text": [
        "\n",
        " test mean loss=0.11646892547607422\n",
        "epoch 13\n",
        "train mean loss=1.1007657883911641"
       ]
      },
      {
       "output_type": "stream",
       "stream": "stdout",
       "text": [
        "\n",
        " test mean loss=0.10474956512451172\n",
        "epoch 14\n",
        "train mean loss=1.138299027300219"
       ]
      },
      {
       "output_type": "stream",
       "stream": "stdout",
       "text": [
        "\n",
        " test mean loss=0.12396926879882812\n",
        "epoch 15\n",
        "train mean loss=1.1017021496825639"
       ]
      },
      {
       "output_type": "stream",
       "stream": "stdout",
       "text": [
        "\n",
        " test mean loss=0.1088119633992513\n",
        "epoch 16\n",
        "train mean loss=1.0951657249511109"
       ]
      },
      {
       "output_type": "stream",
       "stream": "stdout",
       "text": [
        "\n",
        " test mean loss=0.12748846689860027\n",
        "epoch 17\n",
        "train mean loss=1.124636793593756"
       ]
      },
      {
       "output_type": "stream",
       "stream": "stdout",
       "text": [
        "\n",
        " test mean loss=0.11680535634358724\n",
        "epoch 18\n",
        "train mean loss=1.089797889753996"
       ]
      },
      {
       "output_type": "stream",
       "stream": "stdout",
       "text": [
        "\n",
        " test mean loss=0.10239323933919271\n",
        "epoch 19\n",
        "train mean loss=1.0634394101472435"
       ]
      },
      {
       "output_type": "stream",
       "stream": "stdout",
       "text": [
        "\n",
        " test mean loss=0.10926687876383463\n",
        "epoch 20\n",
        "train mean loss=1.0637639162191603"
       ]
      },
      {
       "output_type": "stream",
       "stream": "stdout",
       "text": [
        "\n",
        " test mean loss=0.10357006072998047\n",
        "epoch 21\n",
        "train mean loss=1.0538894777349652"
       ]
      },
      {
       "output_type": "stream",
       "stream": "stdout",
       "text": [
        "\n",
        " test mean loss=0.10219210306803385\n",
        "epoch 22\n",
        "train mean loss=1.0506584384929343"
       ]
      },
      {
       "output_type": "stream",
       "stream": "stdout",
       "text": [
        "\n",
        " test mean loss=0.10298287709554037\n",
        "epoch 23\n",
        "train mean loss=1.0383844876498072"
       ]
      },
      {
       "output_type": "stream",
       "stream": "stdout",
       "text": [
        "\n",
        " test mean loss=0.10532905578613282\n",
        "epoch 24\n",
        "train mean loss=1.023255797016864"
       ]
      },
      {
       "output_type": "stream",
       "stream": "stdout",
       "text": [
        "\n",
        " test mean loss=0.10000132242838541\n",
        "epoch 25\n",
        "train mean loss=1.0214581058243009"
       ]
      },
      {
       "output_type": "stream",
       "stream": "stdout",
       "text": [
        "\n",
        " test mean loss=0.10017395655314128\n",
        "epoch 26\n",
        "train mean loss=1.0486216626598617"
       ]
      },
      {
       "output_type": "stream",
       "stream": "stdout",
       "text": [
        "\n",
        " test mean loss=0.11127944946289063\n",
        "epoch 27\n",
        "train mean loss=1.008368478610447"
       ]
      },
      {
       "output_type": "stream",
       "stream": "stdout",
       "text": [
        "\n",
        " test mean loss=0.10148745854695639\n",
        "epoch 28\n",
        "train mean loss=0.9857070154823726"
       ]
      },
      {
       "output_type": "stream",
       "stream": "stdout",
       "text": [
        "\n",
        " test mean loss=0.097246519724528\n",
        "epoch 29\n",
        "train mean loss=1.0092242901998045"
       ]
      },
      {
       "output_type": "stream",
       "stream": "stdout",
       "text": [
        "\n",
        " test mean loss=0.0981423823038737\n",
        "epoch 30\n",
        "train mean loss=1.0101203155199554"
       ]
      },
      {
       "output_type": "stream",
       "stream": "stdout",
       "text": [
        "\n",
        " test mean loss=0.09742621739705404\n",
        "epoch 31\n",
        "train mean loss=0.963917163969726"
       ]
      },
      {
       "output_type": "stream",
       "stream": "stdout",
       "text": [
        "\n",
        " test mean loss=0.10864875793457031\n",
        "epoch 32\n",
        "train mean loss=0.9877036405931467"
       ]
      },
      {
       "output_type": "stream",
       "stream": "stdout",
       "text": [
        "\n",
        " test mean loss=0.10239233652750651\n",
        "epoch 33\n",
        "train mean loss=0.9621040321181545"
       ]
      },
      {
       "output_type": "stream",
       "stream": "stdout",
       "text": [
        "\n",
        " test mean loss=0.09410305023193359\n",
        "epoch 34\n",
        "train mean loss=0.9891390524192769"
       ]
      },
      {
       "output_type": "stream",
       "stream": "stdout",
       "text": [
        "\n",
        " test mean loss=0.09504153569539388\n",
        "epoch 35\n",
        "train mean loss=0.9706229618958206"
       ]
      },
      {
       "output_type": "stream",
       "stream": "stdout",
       "text": [
        "\n",
        " test mean loss=0.09754267374674479\n",
        "epoch 36\n",
        "train mean loss=0.9820385026951639"
       ]
      },
      {
       "output_type": "stream",
       "stream": "stdout",
       "text": [
        "\n",
        " test mean loss=0.09358294169108072\n",
        "epoch 37\n",
        "train mean loss=0.9713670999718587"
       ]
      },
      {
       "output_type": "stream",
       "stream": "stdout",
       "text": [
        "\n",
        " test mean loss=0.09469158808390299\n",
        "epoch 38\n",
        "train mean loss=0.9515132228251844"
       ]
      },
      {
       "output_type": "stream",
       "stream": "stdout",
       "text": [
        "\n",
        " test mean loss=0.10333239237467448\n",
        "epoch 39\n",
        "train mean loss=0.9670710714721044"
       ]
      },
      {
       "output_type": "stream",
       "stream": "stdout",
       "text": [
        "\n",
        " test mean loss=0.10245861689249675\n",
        "epoch 40\n",
        "train mean loss=0.9779832187221665"
       ]
      },
      {
       "output_type": "stream",
       "stream": "stdout",
       "text": [
        "\n",
        " test mean loss=0.09494984944661458\n",
        "epoch 41\n",
        "train mean loss=0.9454457381209914"
       ]
      },
      {
       "output_type": "stream",
       "stream": "stdout",
       "text": [
        "\n",
        " test mean loss=0.10049173990885417\n",
        "epoch 42\n",
        "train mean loss=0.942842476166204"
       ]
      },
      {
       "output_type": "stream",
       "stream": "stdout",
       "text": [
        "\n",
        " test mean loss=0.09185056686401367\n",
        "epoch 43\n",
        "train mean loss=0.9441611507426902"
       ]
      },
      {
       "output_type": "stream",
       "stream": "stdout",
       "text": [
        "\n",
        " test mean loss=0.10270196278889974\n",
        "epoch 44\n",
        "train mean loss=0.9348277031952961"
       ]
      },
      {
       "output_type": "stream",
       "stream": "stdout",
       "text": [
        "\n",
        " test mean loss=0.095076478322347\n",
        "epoch 45\n",
        "train mean loss=0.9396503417876523"
       ]
      },
      {
       "output_type": "stream",
       "stream": "stdout",
       "text": [
        "\n",
        " test mean loss=0.09784653981526693\n",
        "epoch 46\n",
        "train mean loss=0.9324551381981339"
       ]
      },
      {
       "output_type": "stream",
       "stream": "stdout",
       "text": [
        "\n",
        " test mean loss=0.0929055658976237\n",
        "epoch 47\n",
        "train mean loss=0.9473295897531132"
       ]
      },
      {
       "output_type": "stream",
       "stream": "stdout",
       "text": [
        "\n",
        " test mean loss=0.1182000986735026\n",
        "epoch 48\n",
        "train mean loss=0.9451045027967789"
       ]
      },
      {
       "output_type": "stream",
       "stream": "stdout",
       "text": [
        "\n",
        " test mean loss=0.09580718358357747\n",
        "epoch 49\n",
        "train mean loss=0.9239592339506543"
       ]
      },
      {
       "output_type": "stream",
       "stream": "stdout",
       "text": [
        "\n",
        " test mean loss=0.0933472442626953\n",
        "epoch 50\n",
        "train mean loss=0.9358964441417902"
       ]
      },
      {
       "output_type": "stream",
       "stream": "stdout",
       "text": [
        "\n",
        " test mean loss=0.09000450134277344\n",
        "epoch 51\n",
        "train mean loss=0.9369104249420739"
       ]
      },
      {
       "output_type": "stream",
       "stream": "stdout",
       "text": [
        "\n",
        " test mean loss=0.09069037755330403\n",
        "epoch 52\n",
        "train mean loss=0.9238824208312454"
       ]
      },
      {
       "output_type": "stream",
       "stream": "stdout",
       "text": [
        "\n",
        " test mean loss=0.10532800674438476\n",
        "epoch 53\n",
        "train mean loss=0.9364940985981351"
       ]
      },
      {
       "output_type": "stream",
       "stream": "stdout",
       "text": [
        "\n",
        " test mean loss=0.09384368260701498\n",
        "epoch 54\n",
        "train mean loss=0.9585696673979606"
       ]
      },
      {
       "output_type": "stream",
       "stream": "stdout",
       "text": [
        "\n",
        " test mean loss=0.0911462148030599\n",
        "epoch 55\n",
        "train mean loss=0.9281476487115603"
       ]
      },
      {
       "output_type": "stream",
       "stream": "stdout",
       "text": [
        "\n",
        " test mean loss=0.09044745127360027\n",
        "epoch 56\n",
        "train mean loss=0.9498987841874473"
       ]
      },
      {
       "output_type": "stream",
       "stream": "stdout",
       "text": [
        "\n",
        " test mean loss=0.09121761322021485\n",
        "epoch 57\n",
        "train mean loss=0.9111266660908949"
       ]
      },
      {
       "output_type": "stream",
       "stream": "stdout",
       "text": [
        "\n",
        " test mean loss=0.09234486897786458\n",
        "epoch 58\n",
        "train mean loss=0.9295169169229982"
       ]
      },
      {
       "output_type": "stream",
       "stream": "stdout",
       "text": [
        "\n",
        " test mean loss=0.10308422088623047\n",
        "epoch 59\n",
        "train mean loss=0.9316508415193546"
       ]
      },
      {
       "output_type": "stream",
       "stream": "stdout",
       "text": [
        "\n",
        " test mean loss=0.09116072336832683\n",
        "epoch 60\n",
        "train mean loss=0.9213843860443357"
       ]
      },
      {
       "output_type": "stream",
       "stream": "stdout",
       "text": [
        "\n",
        " test mean loss=0.0881788953145345\n",
        "epoch 61\n",
        "train mean loss=0.9244247776809063"
       ]
      },
      {
       "output_type": "stream",
       "stream": "stdout",
       "text": [
        "\n",
        " test mean loss=0.09299832661946615\n",
        "epoch 62\n",
        "train mean loss=0.9452395685616509"
       ]
      },
      {
       "output_type": "stream",
       "stream": "stdout",
       "text": [
        "\n",
        " test mean loss=0.09442064921061198\n",
        "epoch 63\n",
        "train mean loss=0.9245729603435457"
       ]
      },
      {
       "output_type": "stream",
       "stream": "stdout",
       "text": [
        "\n",
        " test mean loss=0.10287268956502278\n",
        "epoch 64\n",
        "train mean loss=0.9168268687131754"
       ]
      },
      {
       "output_type": "stream",
       "stream": "stdout",
       "text": [
        "\n",
        " test mean loss=0.0909805425008138\n",
        "epoch 65\n",
        "train mean loss=0.9119090990207254"
       ]
      },
      {
       "output_type": "stream",
       "stream": "stdout",
       "text": [
        "\n",
        " test mean loss=0.08724952061971028\n",
        "epoch 66\n",
        "train mean loss=0.9011148589509087"
       ]
      },
      {
       "output_type": "stream",
       "stream": "stdout",
       "text": [
        "\n",
        " test mean loss=0.08649365743001303\n",
        "epoch 67\n",
        "train mean loss=0.9263236402421755"
       ]
      },
      {
       "output_type": "stream",
       "stream": "stdout",
       "text": [
        "\n",
        " test mean loss=0.08646694819132487\n",
        "epoch 68\n",
        "train mean loss=0.9260343008609849"
       ]
      },
      {
       "output_type": "stream",
       "stream": "stdout",
       "text": [
        "\n",
        " test mean loss=0.09679988225301107\n",
        "epoch 69\n",
        "train mean loss=0.9075491242529999"
       ]
      },
      {
       "output_type": "stream",
       "stream": "stdout",
       "text": [
        "\n",
        " test mean loss=0.09054271697998047\n",
        "epoch 70\n",
        "train mean loss=0.9549269066000045"
       ]
      },
      {
       "output_type": "stream",
       "stream": "stdout",
       "text": [
        "\n",
        " test mean loss=0.09081921895345052\n",
        "epoch 71\n",
        "train mean loss=0.9150517933961996"
       ]
      },
      {
       "output_type": "stream",
       "stream": "stdout",
       "text": [
        "\n",
        " test mean loss=0.08870538075764973\n",
        "epoch 72\n",
        "train mean loss=0.9220185653524331"
       ]
      },
      {
       "output_type": "stream",
       "stream": "stdout",
       "text": [
        "\n",
        " test mean loss=0.09095120747884114\n",
        "epoch 73\n",
        "train mean loss=0.902772412095382"
       ]
      },
      {
       "output_type": "stream",
       "stream": "stdout",
       "text": [
        "\n",
        " test mean loss=0.08532773335774739\n",
        "epoch 74\n",
        "train mean loss=0.9078598926841542"
       ]
      },
      {
       "output_type": "stream",
       "stream": "stdout",
       "text": [
        "\n",
        " test mean loss=0.0863113276163737\n",
        "epoch 75\n",
        "train mean loss=0.9102973812766352"
       ]
      },
      {
       "output_type": "stream",
       "stream": "stdout",
       "text": [
        "\n",
        " test mean loss=0.09105002085367839\n",
        "epoch 76\n",
        "train mean loss=0.9181275874587485"
       ]
      },
      {
       "output_type": "stream",
       "stream": "stdout",
       "text": [
        "\n",
        " test mean loss=0.09292389551798502\n",
        "epoch 77\n",
        "train mean loss=0.9198182723382057"
       ]
      },
      {
       "output_type": "stream",
       "stream": "stdout",
       "text": [
        "\n",
        " test mean loss=0.08890853881835938\n",
        "epoch 78\n",
        "train mean loss=0.9052592532343544"
       ]
      },
      {
       "output_type": "stream",
       "stream": "stdout",
       "text": [
        "\n",
        " test mean loss=0.09145228068033855\n",
        "epoch 79\n",
        "train mean loss=0.8969178863643059"
       ]
      },
      {
       "output_type": "stream",
       "stream": "stdout",
       "text": [
        "\n",
        " test mean loss=0.086233336130778\n",
        "epoch 80\n",
        "train mean loss=0.9483597410773674"
       ]
      },
      {
       "output_type": "stream",
       "stream": "stdout",
       "text": [
        "\n",
        " test mean loss=0.08785071055094401\n",
        "epoch 81\n",
        "train mean loss=0.8996386911631525"
       ]
      },
      {
       "output_type": "stream",
       "stream": "stdout",
       "text": [
        "\n",
        " test mean loss=0.08563263575236002\n",
        "epoch 82\n",
        "train mean loss=0.9084370117378314"
       ]
      },
      {
       "output_type": "stream",
       "stream": "stdout",
       "text": [
        "\n",
        " test mean loss=0.09306137084960937\n",
        "epoch 83\n",
        "train mean loss=0.9133994568383113"
       ]
      },
      {
       "output_type": "stream",
       "stream": "stdout",
       "text": [
        "\n",
        " test mean loss=0.08700695673624674\n",
        "epoch 84\n",
        "train mean loss=0.9227839192036242"
       ]
      },
      {
       "output_type": "stream",
       "stream": "stdout",
       "text": [
        "\n",
        " test mean loss=0.08557748794555664\n",
        "epoch 85\n",
        "train mean loss=0.9219007309201659"
       ]
      },
      {
       "output_type": "stream",
       "stream": "stdout",
       "text": [
        "\n",
        " test mean loss=0.08506889343261718\n",
        "epoch 86\n",
        "train mean loss=0.9463325584367098"
       ]
      },
      {
       "output_type": "stream",
       "stream": "stdout",
       "text": [
        "\n",
        " test mean loss=0.094136168162028\n",
        "epoch 87\n",
        "train mean loss=0.9353711301955445"
       ]
      },
      {
       "output_type": "stream",
       "stream": "stdout",
       "text": [
        "\n",
        " test mean loss=0.09006101608276368\n",
        "epoch 88\n",
        "train mean loss=0.9082189506667512"
       ]
      },
      {
       "output_type": "stream",
       "stream": "stdout",
       "text": [
        "\n",
        " test mean loss=0.08634461085001628\n",
        "epoch 89\n",
        "train mean loss=0.9242681276306305"
       ]
      },
      {
       "output_type": "stream",
       "stream": "stdout",
       "text": [
        "\n",
        " test mean loss=0.0850617790222168\n",
        "epoch 90\n",
        "train mean loss=0.9082743345374313"
       ]
      },
      {
       "output_type": "stream",
       "stream": "stdout",
       "text": [
        "\n",
        " test mean loss=0.08542179107666016\n",
        "epoch 91\n",
        "train mean loss=0.8948040686333463"
       ]
      },
      {
       "output_type": "stream",
       "stream": "stdout",
       "text": [
        "\n",
        " test mean loss=0.08856454849243164\n",
        "epoch 92\n",
        "train mean loss=0.9104434991687872"
       ]
      },
      {
       "output_type": "stream",
       "stream": "stdout",
       "text": [
        "\n",
        " test mean loss=0.08710048039754231\n",
        "epoch 93\n",
        "train mean loss=0.8973890211543425"
       ]
      },
      {
       "output_type": "stream",
       "stream": "stdout",
       "text": [
        "\n",
        " test mean loss=0.08893559137980143\n",
        "epoch 94\n",
        "train mean loss=0.9433048835840261"
       ]
      },
      {
       "output_type": "stream",
       "stream": "stdout",
       "text": [
        "\n",
        " test mean loss=0.08522342681884766\n",
        "epoch 95\n",
        "train mean loss=0.9311616020234439"
       ]
      },
      {
       "output_type": "stream",
       "stream": "stdout",
       "text": [
        "\n",
        " test mean loss=0.08664978663126628\n",
        "epoch 96\n",
        "train mean loss=0.9008666319169318"
       ]
      },
      {
       "output_type": "stream",
       "stream": "stdout",
       "text": [
        "\n",
        " test mean loss=0.08429580052693685\n",
        "epoch 97\n",
        "train mean loss=0.9182845147861546"
       ]
      },
      {
       "output_type": "stream",
       "stream": "stdout",
       "text": [
        "\n",
        " test mean loss=0.10756885528564453\n",
        "epoch 98\n",
        "train mean loss=0.9447212028423912"
       ]
      },
      {
       "output_type": "stream",
       "stream": "stdout",
       "text": [
        "\n",
        " test mean loss=0.0867050552368164\n",
        "epoch 99\n",
        "train mean loss=0.901253126819415"
       ]
      },
      {
       "output_type": "stream",
       "stream": "stdout",
       "text": [
        "\n",
        " test mean loss=0.09379004796346029\n",
        "epoch 100\n",
        "train mean loss=0.9010253425636308"
       ]
      },
      {
       "output_type": "stream",
       "stream": "stdout",
       "text": [
        "\n",
        " test mean loss=0.08509349822998047\n"
       ]
      },
      {
       "metadata": {},
       "output_type": "pyout",
       "prompt_number": 6,
       "text": [
        "[<matplotlib.lines.Line2D at 0x263514c0438>]"
       ]
      },
      {
       "metadata": {},
       "output_type": "display_data",
       "png": "[encoded data removed]",
       "text": [
        "<matplotlib.figure.Figure at 0x2634e389f60>"
       ]
      }
     ],
     "prompt_number": 6
    },
    {
     "cell_type": "code",
     "collapsed": false,
     "input": [
      "pyplot.plot(Ylist[0][0:50])\n",
      "pyplot.plot(y_test[0:50])\n"
     ],
     "language": "python",
     "metadata": {},
     "outputs": [
      {
       "metadata": {},
       "output_type": "pyout",
       "prompt_number": 2,
       "text": [
        "[<matplotlib.lines.Line2D at 0x163fef89908>]"
       ]
      },
      {
       "metadata": {},
       "output_type": "display_data",
       "png": "[encoded data removed]",
       "text": [
        "<matplotlib.figure.Figure at 0x163fef89940>"
       ]
      }
     ],
     "prompt_number": 2
    },
    {
     "cell_type": "code",
     "collapsed": false,
     "input": [
      "pyplot.plot(Ylist[0][0:20],\"ro\",markersize=10)\n",
      "pyplot.plot(y_test[0:20],\"bx\",markersize=10)\n",
      "pyplot.ylim=30\n",
      "pyplot.grid()\n",
      "#train mean loss=1.2835919822241277\n",
      "#test mean loss=0.08556671778361002\n",
      "#epoch40\n",
      "#train mean loss=1.0556385772533345\n",
      "#test mean loss=0.06668860117594401\n",
      "\n",
      "#n_units_2 = 90\n",
      "#n_units_3 = 70\n",
      "#n_units_4 = 30\n",
      "#n_units_5 = 10\n",
      "#batchsize = 40\n",
      "#n_epoch = 100\n",
      "#epoch 100\n",
      "#train mean loss=1.01585703345327\n",
      "#test mean loss=0.05284663200378418\n",
      "\n",
      "#n_units_2 = 90\n",
      "#n_units_3 = 90\n",
      "#n_units_4 = 90\n",
      "#n_units_5 = 10\n",
      "#epoch 100\n",
      "#train mean loss=1.0171331057403425\n",
      "#test mean loss=0.05391091028849284"
     ],
     "language": "python",
     "metadata": {},
     "outputs": [
      {
       "metadata": {},
       "output_type": "display_data",
       "png": "[encoded data removed]",
       "text": [
        "<matplotlib.figure.Figure at 0x16383919c18>"
       ]
      }
     ],
     "prompt_number": 27
    },
    {
     "cell_type": "code",
     "collapsed": false,
     "input": [
      "pyplot.plot(Ylist[0][50:100])#\u51fa\u529b(\u9752)\n",
      "pyplot.plot(y_test[50:100])#\u6b63\u89e3\u30c7\u30fc\u30bf(\u7dd1)\n",
      "pyplot.ylim=30\n",
      "#train mean loss=1.0372128349485472\n",
      "#test mean loss=0.0751815668741862"
     ],
     "language": "python",
     "metadata": {},
     "outputs": [
      {
       "metadata": {},
       "output_type": "display_data",
       "png": "[encoded data removed]",
       "text": [
        "<matplotlib.figure.Figure at 0x163825db9b0>"
       ]
      }
     ],
     "prompt_number": 17
    },
    {
     "cell_type": "code",
     "collapsed": false,
     "input": [
      "MAPE= sum(abs(Ylist[0]-y_test)/(y_test))*1/365*100\n",
      "print(MAPE)"
     ],
     "language": "python",
     "metadata": {},
     "outputs": [
      {
       "output_type": "stream",
       "stream": "stdout",
       "text": [
        "[ inf]\n"
       ]
      }
     ],
     "prompt_number": 10
    },
    {
     "cell_type": "code",
     "collapsed": false,
     "input": [
      "np.mean(abs(Ylist[0]-(y_test)))"
     ],
     "language": "python",
     "metadata": {},
     "outputs": [
      {
       "metadata": {},
       "output_type": "pyout",
       "prompt_number": 25,
       "text": [
        "3.810149"
       ]
      }
     ],
     "prompt_number": 25
    },
    {
     "cell_type": "code",
     "collapsed": false,
     "input": [],
     "language": "python",
     "metadata": {},
     "outputs": []
    }
   ],
   "metadata": {}
  }
 ]
}