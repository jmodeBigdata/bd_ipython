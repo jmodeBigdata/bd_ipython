{
 "metadata": {
  "name": "",
  "signature": "sha256:c07041f5a7ea5488e6abf5f31975a1fa0f9914927bc132c0905d3d88a8aa0b62"
 },
 "nbformat": 3,
 "nbformat_minor": 0,
 "worksheets": [
  {
   "cells": [
    {
     "cell_type": "code",
     "collapsed": false,
     "input": [],
     "language": "python",
     "metadata": {},
     "outputs": [],
     "prompt_number": 22
    },
    {
     "cell_type": "code",
     "collapsed": false,
     "input": [
      "#!/usr/bin/env python\n",
      "# coding: utf-8\n",
      "import pandas as pd\n",
      "temp=pd.read_csv(\"Univ2.csv\",header=None)\n",
      "temptarget = pd.read_csv(\"Univ3.csv\",header=None)\n",
      "\n",
      "\n",
      "#from __future__ import print_function\n",
      "import numpy as np\n",
      "from sklearn.cross_validation import train_test_split\n",
      "\n",
      "import six\n",
      "import sys\n",
      "import chainer\n",
      "import chainer.links as L\n",
      "from chainer import optimizers\n",
      "import chainer.functions as F\n",
      "from matplotlib import pyplot\n",
      "#%matplotlib inline\n",
      "\n",
      "\n",
      "batchsize = 40\n",
      "n_epoch = 20\n",
      "\n",
      "# Prepare dataset\n",
      "target_list=[]\n",
      "for i in zip(temptarget[0]):\n",
      "    target_list.append(i)\n",
      "target = np.array(target_list)\n",
      "\n",
      "feature_lists = []\n",
      "for i,j in zip(temp[0],temp[1]):\n",
      "    feature_lists.append([i,j])\n",
      "features = np.array(feature_lists)\n",
      "\n",
      "target=target.astype(np.float32).reshape(len(target_list), 1)\n",
      "feature=features.astype(np.float32)\n",
      "\n",
      "x_train, x_test, y_train, y_test = train_test_split(feature, target, test_size=0.15)\n",
      "N_test = y_test.size  # test data size\n",
      "N = len(x_train)  # train data size\n",
      "in_units = x_train.shape[1]  \n",
      "\n",
      "\n",
      "n_units_2 = 90\n",
      "n_units_3 = 50\n",
      "n_units_4 = 30\n",
      "n_units_5 = 10\n",
      "\n",
      "model = chainer.Chain(\n",
      "    l1=L.Linear(in_units, n_units_2),\n",
      "    l2=L.Linear(n_units_2, n_units_3),\n",
      "    l3=L.Linear(n_units_3,  n_units_4),\n",
      "    l4=L.Linear(n_units_4,  n_units_5),\n",
      "    l5=L.Linear(n_units_5,  1))\n",
      "\n",
      "\n",
      "def forward(x):\n",
      "    h1 = F.relu(model.l1(x))\n",
      "    h2 = F.relu(model.l2(h1))\n",
      "    h3 = F.relu(model.l3(h2))\n",
      "    h4 = F.relu(model.l4(h3))\n",
      "    return F.tanh(model.l5(h4))\n",
      "\n",
      "# Setup optimizer\u6700\u9069\u5316\u306e\u30bb\u30c3\u30c8\u30a2\u30c3\u30d7\n",
      "optimizer = optimizers.Adam()#\u52fe\u914d\u6cd5\u306e\u30a2\u30eb\u30b4\u30ea\u30ba\u30e0:Adam\n",
      "optimizer.setup(model)\n",
      "#optimizer.add_hokk(optimizer.WeightDecay())#\u6b63\u5247\u5316\u3092hook\u95a2\u6570\u3068\u3057\u3066\u767b\u9332\n",
      "\n",
      "# Learning loop\n",
      "LOSS = []\n",
      "for epoch in six.moves.range(1, n_epoch + 1):\n",
      "    print('epoch', epoch)\n",
      "    # training\n",
      "    perm = np.random.permutation(N)\n",
      "    sum_loss = 0.0\n",
      "    for i in six.moves.range(0, N, batchsize):\n",
      "        x = chainer.Variable(np.asarray(x_train[perm[i:i + batchsize]]))\n",
      "        t = chainer.Variable(np.asarray(y_train[perm[i:i + batchsize]]))\n",
      "        model.zerograds()#\u52fe\u914d\u3092\u30bc\u30ed\u521d\u671f\u5316\n",
      "        y = forward(x)\n",
      "        loss = F.mean_squared_error(y, t)#\u5e73\u57472\u4e57\u8aa4\u5dee\n",
      "        sum_loss += loss.data\n",
      "        loss.backward()#\u52fe\u914d\u8a08\u7b97\n",
      "        optimizer.update()#\u6700\u9069\u5316\u30eb\u30fc\u30c1\u30f3\u3092\u5b9f\u884c\n",
      "    print('train mean loss={}'.format(sum_loss / N))\n",
      "\n",
      "    # all test data\n",
      "    x = chainer.Variable(np.asarray(x_test))\n",
      "    t = chainer.Variable(np.asarray(y_test))\n",
      "    y = forward(x)\n",
      "    loss = F.mean_squared_error(y, t)\n",
      "    LOSS.append(loss.data/N_test)\n",
      "    print(' test mean loss={}'.format(loss.data / N_test))\n",
      "print(LOSS)\n",
      "pyplot.plot(LOSS)"
     ],
     "language": "python",
     "metadata": {},
     "outputs": [
      {
       "output_type": "stream",
       "stream": "stdout",
       "text": [
        "epoch 1\n",
        "train mean loss=9408.646599264706"
       ]
      },
      {
       "output_type": "stream",
       "stream": "stdout",
       "text": [
        "\n",
        " test mean loss=6224.340104166667\n",
        "epoch 2\n",
        "train mean loss=9424.615716911765\n",
        " test mean loss=6222.210416666667\n",
        "epoch 3\n",
        "train mean loss=9391.18262867647"
       ]
      },
      {
       "output_type": "stream",
       "stream": "stdout",
       "text": [
        "\n",
        " test mean loss=6221.893229166667\n",
        "epoch 4\n",
        "train mean loss=9360.640257352941\n",
        " test mean loss=6221.824479166667\n",
        "epoch 5\n",
        "train mean loss=9353.346599264705"
       ]
      },
      {
       "output_type": "stream",
       "stream": "stdout",
       "text": [
        "\n",
        " test mean loss=6221.802083333333\n",
        "epoch 6\n",
        "train mean loss=9332.221139705882\n",
        " test mean loss=6221.793229166667\n",
        "epoch 7\n",
        "train mean loss=9413.926102941177"
       ]
      },
      {
       "output_type": "stream",
       "stream": "stdout",
       "text": [
        "\n",
        " test mean loss=6221.788020833334\n",
        "epoch 8\n",
        "train mean loss=9365.354779411764\n",
        " test mean loss=6221.784375\n",
        "epoch 9\n",
        "train mean loss=9315.418290441177"
       ]
      },
      {
       "output_type": "stream",
       "stream": "stdout",
       "text": [
        "\n",
        " test mean loss=6221.781770833333\n",
        "epoch 10\n",
        "train mean loss=9401.935294117648\n",
        " test mean loss=6221.7796875\n",
        "epoch 11\n",
        "train mean loss=9425.918290441177"
       ]
      },
      {
       "output_type": "stream",
       "stream": "stdout",
       "text": [
        "\n",
        " test mean loss=6221.777604166667\n",
        "epoch 12\n",
        "train mean loss=9429.948621323529\n",
        " test mean loss=6221.7765625\n",
        "epoch 13\n",
        "train mean loss=9441.817738970589"
       ]
      },
      {
       "output_type": "stream",
       "stream": "stdout",
       "text": [
        "\n",
        " test mean loss=6221.776041666667\n",
        "epoch 14\n",
        "train mean loss=9427.3640625\n",
        " test mean loss=6221.775520833334\n",
        "epoch 15\n",
        "train mean loss=9379.771783088236"
       ]
      },
      {
       "output_type": "stream",
       "stream": "stdout",
       "text": [
        "\n",
        " test mean loss=6221.774479166666\n",
        "epoch 16\n",
        "train mean loss=9404.600459558824\n",
        " test mean loss=6221.774479166666\n",
        "epoch 17\n",
        "train mean loss=9365.337959558823"
       ]
      },
      {
       "output_type": "stream",
       "stream": "stdout",
       "text": [
        "\n",
        " test mean loss=6221.773958333333\n",
        "epoch 18\n",
        "train mean loss=9378.502297794117"
       ]
      },
      {
       "output_type": "stream",
       "stream": "stdout",
       "text": [
        "\n",
        " test mean loss=6221.7734375\n",
        "epoch 19\n",
        "train mean loss=9371.246323529413\n",
        " test mean loss=6221.7734375\n",
        "epoch 20\n",
        "train mean loss=9415.419577205883"
       ]
      },
      {
       "output_type": "stream",
       "stream": "stdout",
       "text": [
        "\n",
        " test mean loss=6221.7734375\n",
        "[6224.3401041666666, 6222.2104166666668, 6221.893229166667, 6221.8244791666666, 6221.802083333333, 6221.7932291666666, 6221.7880208333336, 6221.7843750000002, 6221.7817708333332, 6221.7796875000004, 6221.7776041666666, 6221.7765625000002, 6221.776041666667, 6221.7755208333338, 6221.7744791666664, 6221.7744791666664, 6221.7739583333332, 6221.7734375, 6221.7734375, 6221.7734375]\n"
       ]
      },
      {
       "metadata": {},
       "output_type": "pyout",
       "prompt_number": 41,
       "text": [
        "[<matplotlib.lines.Line2D at 0x294dd64bb70>]"
       ]
      },
      {
       "metadata": {},
       "output_type": "display_data",
       "png": "[encoded data removed]",
       "text": [
        "<matplotlib.figure.Figure at 0x294dd605f98>"
       ]
      }
     ],
     "prompt_number": 41
    },
    {
     "cell_type": "code",
     "collapsed": false,
     "input": [
      "#\u81ea\u5206\u306e\u3067\u306f\u306a\u3044\u3084\u3064\u2193\n",
      "\n",
      "\n",
      "#!/usr/bin/env python\n",
      "# coding: utf-8\n",
      "import pandas as pd\n",
      "temp=pd.read_csv(\"Univ2.csv\",header=None)\n",
      "temptarget = pd.read_csv(\"Univ3.csv\",header=None)\n",
      "\n",
      "\n",
      "#from __future__ import print_function\n",
      "import numpy as np\n",
      "from sklearn.cross_validation import train_test_split\n",
      "\n",
      "import six\n",
      "import sys\n",
      "import chainer\n",
      "import chainer.links as L\n",
      "from chainer import optimizers\n",
      "import chainer.functions as F\n",
      "\n",
      "batchsize = 40\n",
      "n_epoch = 100\n",
      "\n",
      "# Prepare dataset\n",
      "target_list=[]\n",
      "for i in zip(temptarget[0]):\n",
      "    target_list.append(i)\n",
      "target = np.array(target_list)\n",
      "\n",
      "feature_lists = []\n",
      "for i,j in zip(temp[0],temp[1]):\n",
      "    feature_lists.append([i,j])\n",
      "features = np.array(feature_lists)\n",
      "\n",
      "target=target.astype(np.float32).reshape(len(target_list), 1)\n",
      "feature=features.astype(np.float32)\n",
      "\n",
      "x_train, x_test, y_train, y_test = train_test_split(feature, target, test_size=0.15)\n",
      "N_test = y_test.size  # test data size\n",
      "N = len(x_train)  # train data size\n",
      "in_units = x_train.shape[1]  \n",
      "\n",
      "\n",
      "n_units_2 = 90\n",
      "n_units_3 = 50\n",
      "n_units_4 = 30\n",
      "n_units_5 = 10\n",
      "\n",
      "model = chainer.Chain(\n",
      "    l1=L.Linear(in_units, n_units_2),\n",
      "    l2=L.Linear(n_units_2, n_units_3),\n",
      "    l3=L.Linear(n_units_3,  n_units_4),\n",
      "    l4=L.Linear(n_units_4,  n_units_5),\n",
      "    l5=L.Linear(n_units_5,  1))\n",
      "\n",
      "\n",
      "def forward(x):\n",
      "    h1 = F.relu(model.l1(x))\n",
      "    h2 = F.relu(model.l2(h1))\n",
      "    h3 = F.relu(model.l3(h2))\n",
      "    h4 = F.relu(model.l4(h3))\n",
      "    return F.tanh(model.l5(h4))\n",
      "\n",
      "# Setup optimizer\n",
      "optimizer = optimizers.Adam()\n",
      "optimizer.setup(model)\n",
      "\n",
      "# Learning loop\n",
      "for epoch in six.moves.range(1, n_epoch + 1):\n",
      "   for epoch in range(1, n_epoch + 1):\n",
      "    print('epoch', epoch)\n",
      "    # training\n",
      "    perm = np.random.permutation(N)\n",
      "    sum_loss = 0\n",
      "    for i in range(0, N, batchsize):\n",
      "        x = chainer.Variable(np.asarray(x_train[perm[i:i + batchsize]]))\n",
      "        t = chainer.Variable(np.asarray(y_train[perm[i:i + batchsize]]))\n",
      "        optimizer.zero_grads()\n",
      "        loss, pred = forward(x, t)\n",
      "        loss.backward()\n",
      "        optimizer.update()\n",
      "        sum_loss += float(cuda.to_cpu(loss.data)) * batchsize\n",
      "    \n",
      "    print('train mean loss={}'.format(sum_loss / N))\n",
      "    sum_loss     = 0\n",
      "    preds = []\n",
      "    for i in range(0, N_test, batchsize):\n",
      "        x_batch = chainer.Variable(np.asarray(x_test[i:i+batchsize]))\n",
      "        y_batch = chainer.Variable(np.asarray(y_test[i:i+batchsize]))\n",
      "        loss,pred = forward(x_batch, y_batch, train=False)\n",
      "        preds.extend(cuda.to_cpu(pred.data))\n",
      "        sum_loss     += float(cuda.to_cpu(loss.data)) * batchsize\n",
      "    print(' test mean loss={}'.format(sum_loss / N_test))"
     ],
     "language": "python",
     "metadata": {},
     "outputs": [
      {
       "output_type": "stream",
       "stream": "stdout",
       "text": [
        "epoch 1\n"
       ]
      },
      {
       "ename": "TypeError",
       "evalue": "forward() takes 1 positional argument but 2 were given",
       "output_type": "pyerr",
       "traceback": [
        "\u001b[1;31m---------------------------------------------------------------------------\u001b[0m\n\u001b[1;31mTypeError\u001b[0m                                 Traceback (most recent call last)",
        "\u001b[1;32m<ipython-input-29-7c6e560f03b6>\u001b[0m in \u001b[0;36m<module>\u001b[1;34m()\u001b[0m\n\u001b[0;32m     78\u001b[0m         \u001b[0mt\u001b[0m \u001b[1;33m=\u001b[0m \u001b[0mchainer\u001b[0m\u001b[1;33m.\u001b[0m\u001b[0mVariable\u001b[0m\u001b[1;33m(\u001b[0m\u001b[0mnp\u001b[0m\u001b[1;33m.\u001b[0m\u001b[0masarray\u001b[0m\u001b[1;33m(\u001b[0m\u001b[0my_train\u001b[0m\u001b[1;33m[\u001b[0m\u001b[0mperm\u001b[0m\u001b[1;33m[\u001b[0m\u001b[0mi\u001b[0m\u001b[1;33m:\u001b[0m\u001b[0mi\u001b[0m \u001b[1;33m+\u001b[0m \u001b[0mbatchsize\u001b[0m\u001b[1;33m]\u001b[0m\u001b[1;33m]\u001b[0m\u001b[1;33m)\u001b[0m\u001b[1;33m)\u001b[0m\u001b[1;33m\u001b[0m\u001b[0m\n\u001b[0;32m     79\u001b[0m         \u001b[0moptimizer\u001b[0m\u001b[1;33m.\u001b[0m\u001b[0mzero_grads\u001b[0m\u001b[1;33m(\u001b[0m\u001b[1;33m)\u001b[0m\u001b[1;33m\u001b[0m\u001b[0m\n\u001b[1;32m---> 80\u001b[1;33m         \u001b[0mloss\u001b[0m\u001b[1;33m,\u001b[0m \u001b[0mpred\u001b[0m \u001b[1;33m=\u001b[0m \u001b[0mforward\u001b[0m\u001b[1;33m(\u001b[0m\u001b[0mx\u001b[0m\u001b[1;33m,\u001b[0m \u001b[0mt\u001b[0m\u001b[1;33m)\u001b[0m\u001b[1;33m\u001b[0m\u001b[0m\n\u001b[0m\u001b[0;32m     81\u001b[0m         \u001b[0mloss\u001b[0m\u001b[1;33m.\u001b[0m\u001b[0mbackward\u001b[0m\u001b[1;33m(\u001b[0m\u001b[1;33m)\u001b[0m\u001b[1;33m\u001b[0m\u001b[0m\n\u001b[0;32m     82\u001b[0m         \u001b[0moptimizer\u001b[0m\u001b[1;33m.\u001b[0m\u001b[0mupdate\u001b[0m\u001b[1;33m(\u001b[0m\u001b[1;33m)\u001b[0m\u001b[1;33m\u001b[0m\u001b[0m\n",
        "\u001b[1;31mTypeError\u001b[0m: forward() takes 1 positional argument but 2 were given"
       ]
      }
     ],
     "prompt_number": 29
    },
    {
     "cell_type": "code",
     "collapsed": false,
     "input": [],
     "language": "python",
     "metadata": {},
     "outputs": [],
     "prompt_number": 27
    },
    {
     "cell_type": "code",
     "collapsed": false,
     "input": [],
     "language": "python",
     "metadata": {},
     "outputs": []
    }
   ],
   "metadata": {}
  }
 ]
}