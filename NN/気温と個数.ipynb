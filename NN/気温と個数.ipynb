{
 "metadata": {
  "name": "",
  "signature": "sha256:c1f9d8d30d55ee1d89bf32256a8ac9e1e34692a052ebe902d5e13d98ba798fff"
 },
 "nbformat": 3,
 "nbformat_minor": 0,
 "worksheets": [
  {
   "cells": [
    {
     "cell_type": "code",
     "collapsed": false,
     "input": [
      "#!/usr/bin/env python\n",
      "# coding: utf-8\n",
      "import pandas as pd\n",
      "temptarget=pd.read_csv(\"daily_sales_cout.csv\")\n",
      "temp = pd.read_csv(\"temperture.csv\")\n",
      "\n",
      "#from __future__ import print_function\n",
      "import numpy as np\n",
      "from sklearn.cross_validation import train_test_split\n",
      "\n",
      "import six\n",
      "import sys\n",
      "import chainer\n",
      "import chainer.links as L\n",
      "from chainer import optimizers\n",
      "import chainer.functions as F\n",
      "from matplotlib import pyplot\n",
      "%matplotlib inline\n",
      "\n",
      "\n",
      "batchsize = 40\n",
      "n_epoch = 200\n",
      "\n",
      "# Prepare dataset\n",
      "target_list=[]\n",
      "for i in zip(temptarget['quant']):\n",
      "    target_list.append([i])\n",
      "target = np.array(target_list)\n",
      "\n",
      "\n",
      "feature_lists = []\n",
      "for i,j in zip(temp['temperture'],temp['low']):\n",
      "    feature_lists.append([i,j])\n",
      "features = np.array(feature_lists)\n",
      "\n",
      "target=target.astype(np.float32).reshape(len(target_list), 1)\n",
      "feature=features.astype(np.float32)\n",
      "\n",
      "x_train = feature[0:730]\n",
      "x_test = feature[731:1094]\n",
      "y_train = target[0:730]\n",
      "y_test = target[731:1094]\n",
      "N_test = y_test.size  # test data size\n",
      "N = len(x_train)  # train data size\n",
      "in_units = x_train.shape[1]  \n",
      "\n",
      "\n",
      "n_units_2 = 20\n",
      "n_units_3 = 90\n",
      "n_units_4 = 90\n",
      "n_units_5 = 20\n",
      "\n",
      "model = chainer.Chain(\n",
      "    l1=L.Linear(in_units, n_units_2),\n",
      "    l2=L.Linear(n_units_2, n_units_3),\n",
      "#    l3=L.Linear(n_units_3,  1))\n",
      "    l3=L.Linear(n_units_3,  n_units_4),\n",
      "    l4=L.Linear(n_units_4,  n_units_5),\n",
      "    l5=L.Linear(n_units_5,  1))\n",
      "\n",
      "\n",
      "def forward(x):\n",
      "    h1 = F.relu(model.l1(x))\n",
      "    h2 = F.relu(model.l2(h1))\n",
      "    h3 = F.relu(model.l3(h2))\n",
      "    h4 = F.relu(model.l4(h3))\n",
      "#    y=model.l3(h2)\n",
      "    y = model.l5(h4)\n",
      "    return y\n",
      "    #return F.tanh(model.l5(h4))\n",
      "\n",
      "# Setup optimizer\u6700\u9069\u5316\u306e\u30bb\u30c3\u30c8\u30a2\u30c3\u30d7\n",
      "optimizer = optimizers.Adam()#\u52fe\u914d\u6cd5\u306e\u30a2\u30eb\u30b4\u30ea\u30ba\u30e0:Adam\n",
      "optimizer.setup(model)\n",
      "#optimizer.add_hokk(optimizer.WeightDecay())#\u6b63\u5247\u5316\u3092hook\u95a2\u6570\u3068\u3057\u3066\u767b\u9332\n",
      "\n",
      "# Learning loop\n",
      "LOSS = []\n",
      "Ylist = []\n",
      "for epoch in six.moves.range(1, n_epoch + 1):\n",
      "    print('epoch', epoch)\n",
      "    # training\n",
      "    perm = np.random.permutation(N)\n",
      "    sum_loss = 0.0\n",
      "    for i in six.moves.range(0, N, batchsize):\n",
      "        x = chainer.Variable(np.asarray(x_train[perm[i:i + batchsize]]))\n",
      "        t = chainer.Variable(np.asarray(y_train[perm[i:i + batchsize]]))\n",
      "        model.zerograds()#\u52fe\u914d\u3092\u30bc\u30ed\u521d\u671f\u5316\n",
      "        y = forward(x)\n",
      "        loss = F.mean_squared_error(y, t)#\u5e73\u57472\u4e57\u8aa4\u5dee\n",
      "        sum_loss += loss.data\n",
      "        loss.backward()#\u52fe\u914d\u8a08\u7b97\n",
      "        optimizer.update()#\u6700\u9069\u5316\u30eb\u30fc\u30c1\u30f3\u3092\u5b9f\u884c\n",
      "    print('train mean loss={}'.format(sum_loss / N))\n",
      "    # all test data\n",
      "    x = chainer.Variable(np.asarray(x_test))#\u7279\u5fb4\u91cf\n",
      "    t = chainer.Variable(np.asarray((y_test)))#\u6559\u5e2b\u30c7\u30fc\u30bf\n",
      "    y = forward(x)#\u51fa\u529b\n",
      "    loss = F.mean_squared_error(y, t)\n",
      "    LOSS.append(loss.data/N_test)\n",
      "    print(' test mean loss={}'.format(loss.data / N_test))\n",
      "Ylist.append(y.data)\n",
      "#print(\"Y = \", Ylist)\n",
      "pyplot.plot((LOSS)) #\u8aa4\u5dee\u95a2\u6570\u306e\u5024"
     ],
     "language": "python",
     "metadata": {},
     "outputs": [
      {
       "output_type": "stream",
       "stream": "stdout",
       "text": [
        "epoch 1\n",
        "train mean loss=102.32551871521832"
       ]
      },
      {
       "output_type": "stream",
       "stream": "stdout",
       "text": [
        "\n",
        " test mean loss=18.744435207902892\n",
        "epoch 2\n",
        "train mean loss=97.2082412510702"
       ]
      },
      {
       "output_type": "stream",
       "stream": "stdout",
       "text": [
        "\n",
        " test mean loss=18.345092437155646\n",
        "epoch 3\n",
        "train mean loss=95.01402838720034"
       ]
      },
      {
       "output_type": "stream",
       "stream": "stdout",
       "text": [
        "\n",
        " test mean loss=18.292423973398762\n",
        "epoch 4\n",
        "train mean loss=93.34159788366867"
       ]
      },
      {
       "output_type": "stream",
       "stream": "stdout",
       "text": [
        "\n",
        " test mean loss=17.767771823347108\n",
        "epoch 5\n",
        "train mean loss=89.3975748140518"
       ]
      },
      {
       "output_type": "stream",
       "stream": "stdout",
       "text": [
        "\n",
        " test mean loss=17.387098075929753\n",
        "epoch 6\n",
        "train mean loss=86.43969107849958"
       ]
      },
      {
       "output_type": "stream",
       "stream": "stdout",
       "text": [
        "\n",
        " test mean loss=16.381077285640497\n",
        "epoch 7\n",
        "train mean loss=74.79551140772153"
       ]
      },
      {
       "output_type": "stream",
       "stream": "stdout",
       "text": [
        "\n",
        " test mean loss=14.35807964230372\n",
        "epoch 8\n",
        "train mean loss=64.30150597977311"
       ]
      },
      {
       "output_type": "stream",
       "stream": "stdout",
       "text": [
        "\n",
        " test mean loss=13.688940631456612\n",
        "epoch 9\n",
        "train mean loss=59.17764106645976"
       ]
      },
      {
       "output_type": "stream",
       "stream": "stdout",
       "text": [
        "\n",
        " test mean loss=12.462714413309229\n",
        "epoch 10\n",
        "train mean loss=56.144796460295375"
       ]
      },
      {
       "output_type": "stream",
       "stream": "stdout",
       "text": [
        "\n",
        " test mean loss=12.175369641012397\n",
        "epoch 11\n",
        "train mean loss=57.00283587730094"
       ]
      },
      {
       "output_type": "stream",
       "stream": "stdout",
       "text": [
        "\n",
        " test mean loss=12.650849313446969\n",
        "epoch 12\n",
        "train mean loss=57.60587241812928"
       ]
      },
      {
       "output_type": "stream",
       "stream": "stdout",
       "text": [
        "\n",
        " test mean loss=11.850981404958677\n",
        "epoch 13\n",
        "train mean loss=56.755158808459974"
       ]
      },
      {
       "output_type": "stream",
       "stream": "stdout",
       "text": [
        "\n",
        " test mean loss=12.251556312413912\n",
        "epoch 14\n",
        "train mean loss=56.32457492776113"
       ]
      },
      {
       "output_type": "stream",
       "stream": "stdout",
       "text": [
        "\n",
        " test mean loss=12.336758027720386\n",
        "epoch 15\n",
        "train mean loss=54.33488364023705"
       ]
      },
      {
       "output_type": "stream",
       "stream": "stdout",
       "text": [
        "\n",
        " test mean loss=12.556333935950413\n",
        "epoch 16\n",
        "train mean loss=56.96184684021832"
       ]
      },
      {
       "output_type": "stream",
       "stream": "stdout",
       "text": [
        "\n",
        " test mean loss=11.74686719826102\n",
        "epoch 17\n",
        "train mean loss=54.79150691620291"
       ]
      },
      {
       "output_type": "stream",
       "stream": "stdout",
       "text": [
        "\n",
        " test mean loss=11.71843389505854\n",
        "epoch 18\n",
        "train mean loss=64.24788233090753"
       ]
      },
      {
       "output_type": "stream",
       "stream": "stdout",
       "text": [
        "\n",
        " test mean loss=11.915821926652892\n",
        "epoch 19\n",
        "train mean loss=53.64698406898812"
       ]
      },
      {
       "output_type": "stream",
       "stream": "stdout",
       "text": [
        "\n",
        " test mean loss=12.317502528839531\n",
        "epoch 20\n",
        "train mean loss=53.726297122485015"
       ]
      },
      {
       "output_type": "stream",
       "stream": "stdout",
       "text": [
        "\n",
        " test mean loss=12.249361064480027\n",
        "epoch 21\n",
        "train mean loss=55.37215032708155"
       ]
      },
      {
       "output_type": "stream",
       "stream": "stdout",
       "text": [
        "\n",
        " test mean loss=11.728445678374655\n",
        "epoch 22\n",
        "train mean loss=53.29433944911173"
       ]
      },
      {
       "output_type": "stream",
       "stream": "stdout",
       "text": [
        "\n",
        " test mean loss=11.944700467028238\n",
        "epoch 23\n",
        "train mean loss=55.22142810560253"
       ]
      },
      {
       "output_type": "stream",
       "stream": "stdout",
       "text": [
        "\n",
        " test mean loss=11.751388171487603\n",
        "epoch 24\n",
        "train mean loss=55.858003882839256"
       ]
      },
      {
       "output_type": "stream",
       "stream": "stdout",
       "text": [
        "\n",
        " test mean loss=11.688880100723141\n",
        "epoch 25\n",
        "train mean loss=60.325398317101886"
       ]
      },
      {
       "output_type": "stream",
       "stream": "stdout",
       "text": [
        "\n",
        " test mean loss=12.109419389204545\n",
        "epoch 26\n",
        "train mean loss=52.3374837796982"
       ]
      },
      {
       "output_type": "stream",
       "stream": "stdout",
       "text": [
        "\n",
        " test mean loss=11.881082666150137\n",
        "epoch 27\n",
        "train mean loss=51.40933511812393"
       ]
      },
      {
       "output_type": "stream",
       "stream": "stdout",
       "text": [
        "\n",
        " test mean loss=11.506647619662534\n",
        "epoch 28\n",
        "train mean loss=51.63064675527076"
       ]
      },
      {
       "output_type": "stream",
       "stream": "stdout",
       "text": [
        "\n",
        " test mean loss=11.51832601584022\n",
        "epoch 29\n",
        "train mean loss=51.30429478475492"
       ]
      },
      {
       "output_type": "stream",
       "stream": "stdout",
       "text": [
        "\n",
        " test mean loss=11.845951973570937\n",
        "epoch 30\n",
        "train mean loss=52.71092428965111"
       ]
      },
      {
       "output_type": "stream",
       "stream": "stdout",
       "text": [
        "\n",
        " test mean loss=11.650174059486915\n",
        "epoch 31\n",
        "train mean loss=51.55802612304687"
       ]
      },
      {
       "output_type": "stream",
       "stream": "stdout",
       "text": [
        "\n",
        " test mean loss=11.961135233729339\n",
        "epoch 32\n",
        "train mean loss=50.989977358465325"
       ]
      },
      {
       "output_type": "stream",
       "stream": "stdout",
       "text": [
        "\n",
        " test mean loss=11.30609853865358\n",
        "epoch 33\n",
        "train mean loss=50.23446638551477"
       ]
      },
      {
       "output_type": "stream",
       "stream": "stdout",
       "text": [
        "\n",
        " test mean loss=11.241305768982437\n",
        "epoch 34\n",
        "train mean loss=51.70730189493258"
       ]
      },
      {
       "output_type": "stream",
       "stream": "stdout",
       "text": [
        "\n",
        " test mean loss=11.272789821151859\n",
        "epoch 35\n",
        "train mean loss=50.88993664049122"
       ]
      },
      {
       "output_type": "stream",
       "stream": "stdout",
       "text": [
        "\n",
        " test mean loss=12.029446184142563\n",
        "epoch 36\n",
        "train mean loss=49.85020860645869"
       ]
      },
      {
       "output_type": "stream",
       "stream": "stdout",
       "text": [
        "\n",
        " test mean loss=11.109707246470386\n",
        "epoch 37\n",
        "train mean loss=57.76285375307684"
       ]
      },
      {
       "output_type": "stream",
       "stream": "stdout",
       "text": [
        "\n",
        " test mean loss=10.749101454889807\n",
        "epoch 38\n",
        "train mean loss=49.25236247859589"
       ]
      },
      {
       "output_type": "stream",
       "stream": "stdout",
       "text": [
        "\n",
        " test mean loss=11.162136277548209\n",
        "epoch 39\n",
        "train mean loss=49.1894856492134"
       ]
      },
      {
       "output_type": "stream",
       "stream": "stdout",
       "text": [
        "\n",
        " test mean loss=11.165029646608128\n",
        "epoch 40\n",
        "train mean loss=49.27587957512843"
       ]
      },
      {
       "output_type": "stream",
       "stream": "stdout",
       "text": [
        "\n",
        " test mean loss=11.295757199121901\n",
        "epoch 41\n",
        "train mean loss=48.05931367220944"
       ]
      },
      {
       "output_type": "stream",
       "stream": "stdout",
       "text": [
        "\n",
        " test mean loss=11.389687446194904\n",
        "epoch 42\n",
        "train mean loss=50.609881675406676"
       ]
      },
      {
       "output_type": "stream",
       "stream": "stdout",
       "text": [
        "\n",
        " test mean loss=10.650441067277892\n",
        "epoch 43\n",
        "train mean loss=47.522949553189214"
       ]
      },
      {
       "output_type": "stream",
       "stream": "stdout",
       "text": [
        "\n",
        " test mean loss=11.097460533961776\n",
        "epoch 44\n",
        "train mean loss=47.272271812125425"
       ]
      },
      {
       "output_type": "stream",
       "stream": "stdout",
       "text": [
        "\n",
        " test mean loss=10.663141760287534\n",
        "epoch 45\n",
        "train mean loss=49.413409507437926"
       ]
      },
      {
       "output_type": "stream",
       "stream": "stdout",
       "text": [
        "\n",
        " test mean loss=10.570629277505166\n",
        "epoch 46\n",
        "train mean loss=47.201240936697346"
       ]
      },
      {
       "output_type": "stream",
       "stream": "stdout",
       "text": [
        "\n",
        " test mean loss=11.543964144283747\n",
        "epoch 47\n",
        "train mean loss=49.15013870866331"
       ]
      },
      {
       "output_type": "stream",
       "stream": "stdout",
       "text": [
        "\n",
        " test mean loss=10.384001592630854\n",
        "epoch 48\n",
        "train mean loss=46.82267456054687"
       ]
      },
      {
       "output_type": "stream",
       "stream": "stdout",
       "text": [
        "\n",
        " test mean loss=10.268282299199381\n",
        "epoch 49\n",
        "train mean loss=46.855161065924655"
       ]
      },
      {
       "output_type": "stream",
       "stream": "stdout",
       "text": [
        "\n",
        " test mean loss=10.312884033875688\n",
        "epoch 50\n",
        "train mean loss=46.72804941673802"
       ]
      },
      {
       "output_type": "stream",
       "stream": "stdout",
       "text": [
        "\n",
        " test mean loss=10.458740234375\n",
        "epoch 51\n",
        "train mean loss=45.10093718228275"
       ]
      },
      {
       "output_type": "stream",
       "stream": "stdout",
       "text": [
        "\n",
        " test mean loss=10.730742483428031\n",
        "epoch 52\n",
        "train mean loss=45.02760252234054"
       ]
      },
      {
       "output_type": "stream",
       "stream": "stdout",
       "text": [
        "\n",
        " test mean loss=10.77727313081095\n",
        "epoch 53\n",
        "train mean loss=46.31724970569349"
       ]
      },
      {
       "output_type": "stream",
       "stream": "stdout",
       "text": [
        "\n",
        " test mean loss=10.126702931301653\n",
        "epoch 54\n",
        "train mean loss=44.308637310707404"
       ]
      },
      {
       "output_type": "stream",
       "stream": "stdout",
       "text": [
        "\n",
        " test mean loss=10.000570334022038\n",
        "epoch 55\n",
        "train mean loss=43.18190257451305"
       ]
      },
      {
       "output_type": "stream",
       "stream": "stdout",
       "text": [
        "\n",
        " test mean loss=10.722576214919076\n",
        "epoch 56\n",
        "train mean loss=44.21664353462115"
       ]
      },
      {
       "output_type": "stream",
       "stream": "stdout",
       "text": [
        "\n",
        " test mean loss=10.206406438317838\n",
        "epoch 57\n",
        "train mean loss=45.02176781223245"
       ]
      },
      {
       "output_type": "stream",
       "stream": "stdout",
       "text": [
        "\n",
        " test mean loss=9.723669130940083\n",
        "epoch 58\n",
        "train mean loss=44.614182271042914"
       ]
      },
      {
       "output_type": "stream",
       "stream": "stdout",
       "text": [
        "\n",
        " test mean loss=9.87693631090737\n",
        "epoch 59\n",
        "train mean loss=43.92188453151755"
       ]
      },
      {
       "output_type": "stream",
       "stream": "stdout",
       "text": [
        "\n",
        " test mean loss=10.251088880638774\n",
        "epoch 60\n",
        "train mean loss=41.46482234589041"
       ]
      },
      {
       "output_type": "stream",
       "stream": "stdout",
       "text": [
        "\n",
        " test mean loss=9.73697445872073\n",
        "epoch 61\n",
        "train mean loss=41.61723507397795"
       ]
      },
      {
       "output_type": "stream",
       "stream": "stdout",
       "text": [
        "\n",
        " test mean loss=9.76682888903237\n",
        "epoch 62\n",
        "train mean loss=41.421447670296445"
       ]
      },
      {
       "output_type": "stream",
       "stream": "stdout",
       "text": [
        "\n",
        " test mean loss=9.490358126721762\n",
        "epoch 63\n",
        "train mean loss=47.13052167500535"
       ]
      },
      {
       "output_type": "stream",
       "stream": "stdout",
       "text": [
        "\n",
        " test mean loss=9.282606560993457\n",
        "epoch 64\n",
        "train mean loss=40.929178149079625"
       ]
      },
      {
       "output_type": "stream",
       "stream": "stdout",
       "text": [
        "\n",
        " test mean loss=9.332915671272383\n",
        "epoch 65\n",
        "train mean loss=41.179988704315605"
       ]
      },
      {
       "output_type": "stream",
       "stream": "stdout",
       "text": [
        "\n",
        " test mean loss=9.142910371470386\n",
        "epoch 66\n",
        "train mean loss=39.952528318640304"
       ]
      },
      {
       "output_type": "stream",
       "stream": "stdout",
       "text": [
        "\n",
        " test mean loss=9.372064931990359\n",
        "epoch 67\n",
        "train mean loss=41.28763486261237"
       ]
      },
      {
       "output_type": "stream",
       "stream": "stdout",
       "text": [
        "\n",
        " test mean loss=9.468471558626034\n",
        "epoch 68\n",
        "train mean loss=47.325646889046446"
       ]
      },
      {
       "output_type": "stream",
       "stream": "stdout",
       "text": [
        "\n",
        " test mean loss=8.951631908574381\n",
        "epoch 69\n",
        "train mean loss=39.26664938730736"
       ]
      },
      {
       "output_type": "stream",
       "stream": "stdout",
       "text": [
        "\n",
        " test mean loss=9.317170282369146\n",
        "epoch 70\n",
        "train mean loss=38.387826078232024"
       ]
      },
      {
       "output_type": "stream",
       "stream": "stdout",
       "text": [
        "\n",
        " test mean loss=10.271084872159092\n",
        "epoch 71\n",
        "train mean loss=40.49561316085188"
       ]
      },
      {
       "output_type": "stream",
       "stream": "stdout",
       "text": [
        "\n",
        " test mean loss=10.98951607696281\n",
        "epoch 72\n",
        "train mean loss=40.73545707807149"
       ]
      },
      {
       "output_type": "stream",
       "stream": "stdout",
       "text": [
        "\n",
        " test mean loss=9.221730802341598\n",
        "epoch 73\n",
        "train mean loss=41.68935178991867"
       ]
      },
      {
       "output_type": "stream",
       "stream": "stdout",
       "text": [
        "\n",
        " test mean loss=9.119871029183884\n",
        "epoch 74\n",
        "train mean loss=38.09500991612265"
       ]
      },
      {
       "output_type": "stream",
       "stream": "stdout",
       "text": [
        "\n",
        " test mean loss=9.729248046875\n",
        "epoch 75\n",
        "train mean loss=39.828185575302335"
       ]
      },
      {
       "output_type": "stream",
       "stream": "stdout",
       "text": [
        "\n",
        " test mean loss=8.951724049801998\n",
        "epoch 76\n",
        "train mean loss=38.62827579027986"
       ]
      },
      {
       "output_type": "stream",
       "stream": "stdout",
       "text": [
        "\n",
        " test mean loss=9.99394020101584\n",
        "epoch 77\n",
        "train mean loss=45.87968097843536"
       ]
      },
      {
       "output_type": "stream",
       "stream": "stdout",
       "text": [
        "\n",
        " test mean loss=8.82710472085916\n",
        "epoch 78\n",
        "train mean loss=38.87806990113977"
       ]
      },
      {
       "output_type": "stream",
       "stream": "stdout",
       "text": [
        "\n",
        " test mean loss=9.549515485106749\n",
        "epoch 79\n",
        "train mean loss=37.86398440844392"
       ]
      },
      {
       "output_type": "stream",
       "stream": "stdout",
       "text": [
        "\n",
        " test mean loss=9.202632683367769\n",
        "epoch 80\n",
        "train mean loss=39.055490070499786"
       ]
      },
      {
       "output_type": "stream",
       "stream": "stdout",
       "text": [
        "\n",
        " test mean loss=9.89203334839876\n",
        "epoch 81\n",
        "train mean loss=38.94853398571276"
       ]
      },
      {
       "output_type": "stream",
       "stream": "stdout",
       "text": [
        "\n",
        " test mean loss=9.674872616434229\n",
        "epoch 82\n",
        "train mean loss=40.02635857569028"
       ]
      },
      {
       "output_type": "stream",
       "stream": "stdout",
       "text": [
        "\n",
        " test mean loss=10.281247982308884\n",
        "epoch 83\n",
        "train mean loss=45.34549869903147"
       ]
      },
      {
       "output_type": "stream",
       "stream": "stdout",
       "text": [
        "\n",
        " test mean loss=8.728936649879477\n",
        "epoch 84\n",
        "train mean loss=38.28431074586633"
       ]
      },
      {
       "output_type": "stream",
       "stream": "stdout",
       "text": [
        "\n",
        " test mean loss=9.630440367811639\n",
        "epoch 85\n",
        "train mean loss=46.72163010688677"
       ]
      },
      {
       "output_type": "stream",
       "stream": "stdout",
       "text": [
        "\n",
        " test mean loss=8.823452699939738\n",
        "epoch 86\n",
        "train mean loss=42.39189068519906"
       ]
      },
      {
       "output_type": "stream",
       "stream": "stdout",
       "text": [
        "\n",
        " test mean loss=8.5804379465823\n",
        "epoch 87\n",
        "train mean loss=40.183825850813356"
       ]
      },
      {
       "output_type": "stream",
       "stream": "stdout",
       "text": [
        "\n",
        " test mean loss=9.220497320506198\n",
        "epoch 88\n",
        "train mean loss=38.67685760079998"
       ]
      },
      {
       "output_type": "stream",
       "stream": "stdout",
       "text": [
        "\n",
        " test mean loss=8.342037652806473\n",
        "epoch 89\n",
        "train mean loss=38.12977207131582"
       ]
      },
      {
       "output_type": "stream",
       "stream": "stdout",
       "text": [
        "\n",
        " test mean loss=8.713753524233816\n",
        "epoch 90\n",
        "train mean loss=38.12924127448095"
       ]
      },
      {
       "output_type": "stream",
       "stream": "stdout",
       "text": [
        "\n",
        " test mean loss=8.504612441890496\n",
        "epoch 91\n",
        "train mean loss=37.799373846184714"
       ]
      },
      {
       "output_type": "stream",
       "stream": "stdout",
       "text": [
        "\n",
        " test mean loss=9.67840895639635\n",
        "epoch 92\n",
        "train mean loss=38.288801344780076"
       ]
      },
      {
       "output_type": "stream",
       "stream": "stdout",
       "text": [
        "\n",
        " test mean loss=8.911376953125\n",
        "epoch 93\n",
        "train mean loss=38.95207231077429"
       ]
      },
      {
       "output_type": "stream",
       "stream": "stdout",
       "text": [
        "\n",
        " test mean loss=8.73737934207128\n",
        "epoch 94\n",
        "train mean loss=38.163577395922516"
       ]
      },
      {
       "output_type": "stream",
       "stream": "stdout",
       "text": [
        "\n",
        " test mean loss=8.945165208548554\n",
        "epoch 95\n",
        "train mean loss=37.31129518273759"
       ]
      },
      {
       "output_type": "stream",
       "stream": "stdout",
       "text": [
        "\n",
        " test mean loss=8.967930817407025\n",
        "epoch 96\n",
        "train mean loss=39.228009618471745"
       ]
      },
      {
       "output_type": "stream",
       "stream": "stdout",
       "text": [
        "\n",
        " test mean loss=9.715472597064394\n",
        "epoch 97\n",
        "train mean loss=37.60094571048266"
       ]
      },
      {
       "output_type": "stream",
       "stream": "stdout",
       "text": [
        "\n",
        " test mean loss=9.991077097322659\n",
        "epoch 98\n",
        "train mean loss=37.690120289423696"
       ]
      },
      {
       "output_type": "stream",
       "stream": "stdout",
       "text": [
        "\n",
        " test mean loss=9.314615212852962\n",
        "epoch 99\n",
        "train mean loss=37.82149641481164"
       ]
      },
      {
       "output_type": "stream",
       "stream": "stdout",
       "text": [
        "\n",
        " test mean loss=8.837896005509641\n",
        "epoch 100\n",
        "train mean loss=38.20368217572774"
       ]
      },
      {
       "output_type": "stream",
       "stream": "stdout",
       "text": [
        "\n",
        " test mean loss=9.12791152827996\n",
        "epoch 101\n",
        "train mean loss=37.874433668998826"
       ]
      },
      {
       "output_type": "stream",
       "stream": "stdout",
       "text": [
        "\n",
        " test mean loss=8.859006435089531\n",
        "epoch 102\n",
        "train mean loss=36.56832848117776"
       ]
      },
      {
       "output_type": "stream",
       "stream": "stdout",
       "text": [
        "\n",
        " test mean loss=8.541006209108128\n",
        "epoch 103\n",
        "train mean loss=36.92884630177119"
       ]
      },
      {
       "output_type": "stream",
       "stream": "stdout",
       "text": [
        "\n",
        " test mean loss=8.591745087594697\n",
        "epoch 104\n",
        "train mean loss=36.89825886765571"
       ]
      },
      {
       "output_type": "stream",
       "stream": "stdout",
       "text": [
        "\n",
        " test mean loss=9.035452850594009\n",
        "epoch 105\n",
        "train mean loss=36.97848828459439"
       ]
      },
      {
       "output_type": "stream",
       "stream": "stdout",
       "text": [
        "\n",
        " test mean loss=10.135749585700758\n",
        "epoch 106\n",
        "train mean loss=37.86036853529003"
       ]
      },
      {
       "output_type": "stream",
       "stream": "stdout",
       "text": [
        "\n",
        " test mean loss=9.700432054924242\n",
        "epoch 107\n",
        "train mean loss=37.82605992147367"
       ]
      },
      {
       "output_type": "stream",
       "stream": "stdout",
       "text": [
        "\n",
        " test mean loss=8.896968620867769\n",
        "epoch 108\n",
        "train mean loss=39.35943427935039"
       ]
      },
      {
       "output_type": "stream",
       "stream": "stdout",
       "text": [
        "\n",
        " test mean loss=8.826998455793733\n",
        "epoch 109\n",
        "train mean loss=38.0587104692851"
       ]
      },
      {
       "output_type": "stream",
       "stream": "stdout",
       "text": [
        "\n",
        " test mean loss=8.712149459796832\n",
        "epoch 110\n",
        "train mean loss=37.698297913433755"
       ]
      },
      {
       "output_type": "stream",
       "stream": "stdout",
       "text": [
        "\n",
        " test mean loss=8.535483788524449\n",
        "epoch 111\n",
        "train mean loss=37.200770297115795"
       ]
      },
      {
       "output_type": "stream",
       "stream": "stdout",
       "text": [
        "\n",
        " test mean loss=8.772131381284435\n",
        "epoch 112\n",
        "train mean loss=37.58362690128692"
       ]
      },
      {
       "output_type": "stream",
       "stream": "stdout",
       "text": [
        "\n",
        " test mean loss=8.71362573712982\n",
        "epoch 113\n",
        "train mean loss=42.68665746401434"
       ]
      },
      {
       "output_type": "stream",
       "stream": "stdout",
       "text": [
        "\n",
        " test mean loss=8.655446286372245\n",
        "epoch 114\n",
        "train mean loss=39.36130262401006"
       ]
      },
      {
       "output_type": "stream",
       "stream": "stdout",
       "text": [
        "\n",
        " test mean loss=9.32910425275482\n",
        "epoch 115\n",
        "train mean loss=36.84043863374893"
       ]
      },
      {
       "output_type": "stream",
       "stream": "stdout",
       "text": [
        "\n",
        " test mean loss=9.563716667742769\n",
        "epoch 116\n",
        "train mean loss=37.66600254006582"
       ]
      },
      {
       "output_type": "stream",
       "stream": "stdout",
       "text": [
        "\n",
        " test mean loss=8.74394020101584\n",
        "epoch 117\n",
        "train mean loss=38.21258762307363"
       ]
      },
      {
       "output_type": "stream",
       "stream": "stdout",
       "text": [
        "\n",
        " test mean loss=8.51326968190427\n",
        "epoch 118\n",
        "train mean loss=38.96721040908604"
       ]
      },
      {
       "output_type": "stream",
       "stream": "stdout",
       "text": [
        "\n",
        " test mean loss=9.157182173295455\n",
        "epoch 119\n",
        "train mean loss=37.45570582559664"
       ]
      },
      {
       "output_type": "stream",
       "stream": "stdout",
       "text": [
        "\n",
        " test mean loss=8.702797461475551\n",
        "epoch 120\n",
        "train mean loss=36.983725769879065"
       ]
      },
      {
       "output_type": "stream",
       "stream": "stdout",
       "text": [
        "\n",
        " test mean loss=8.51628411243113\n",
        "epoch 121\n",
        "train mean loss=37.24375719044306"
       ]
      },
      {
       "output_type": "stream",
       "stream": "stdout",
       "text": [
        "\n",
        " test mean loss=9.394588417914944\n",
        "epoch 122\n",
        "train mean loss=37.507646409126174"
       ]
      },
      {
       "output_type": "stream",
       "stream": "stdout",
       "text": [
        "\n",
        " test mean loss=9.094918915719697\n",
        "epoch 123\n",
        "train mean loss=37.29618889795591"
       ]
      },
      {
       "output_type": "stream",
       "stream": "stdout",
       "text": [
        "\n",
        " test mean loss=9.1730829244146\n",
        "epoch 124\n",
        "train mean loss=39.665548998689"
       ]
      },
      {
       "output_type": "stream",
       "stream": "stdout",
       "text": [
        "\n",
        " test mean loss=10.297712341813016\n",
        "epoch 125\n",
        "train mean loss=37.69053156604505"
       ]
      },
      {
       "output_type": "stream",
       "stream": "stdout",
       "text": [
        "\n",
        " test mean loss=10.208070360924587\n",
        "epoch 126\n",
        "train mean loss=38.316026786908715"
       ]
      },
      {
       "output_type": "stream",
       "stream": "stdout",
       "text": [
        "\n",
        " test mean loss=8.457711884469697\n",
        "epoch 127\n",
        "train mean loss=37.869526818680434"
       ]
      },
      {
       "output_type": "stream",
       "stream": "stdout",
       "text": [
        "\n",
        " test mean loss=8.199202608471074\n",
        "epoch 128\n",
        "train mean loss=37.891433464990904"
       ]
      },
      {
       "output_type": "stream",
       "stream": "stdout",
       "text": [
        "\n",
        " test mean loss=8.666501888558884\n",
        "epoch 129\n",
        "train mean loss=36.443169005929605"
       ]
      },
      {
       "output_type": "stream",
       "stream": "stdout",
       "text": [
        "\n",
        " test mean loss=9.047626926222451\n",
        "epoch 130\n",
        "train mean loss=37.71969056847977"
       ]
      },
      {
       "output_type": "stream",
       "stream": "stdout",
       "text": [
        "\n",
        " test mean loss=9.424143557377755\n",
        "epoch 131\n",
        "train mean loss=36.57154478308273"
       ]
      },
      {
       "output_type": "stream",
       "stream": "stdout",
       "text": [
        "\n",
        " test mean loss=8.703926023372935\n",
        "epoch 132\n",
        "train mean loss=38.191986878277504"
       ]
      },
      {
       "output_type": "stream",
       "stream": "stdout",
       "text": [
        "\n",
        " test mean loss=8.451078388644973\n",
        "epoch 133\n",
        "train mean loss=38.33337912363549"
       ]
      },
      {
       "output_type": "stream",
       "stream": "stdout",
       "text": [
        "\n",
        " test mean loss=8.855399475938361\n",
        "epoch 134\n",
        "train mean loss=38.17326986234482"
       ]
      },
      {
       "output_type": "stream",
       "stream": "stdout",
       "text": [
        "\n",
        " test mean loss=9.13340099324208\n",
        "epoch 135\n",
        "train mean loss=37.57270160831817"
       ]
      },
      {
       "output_type": "stream",
       "stream": "stdout",
       "text": [
        "\n",
        " test mean loss=8.270911350723141\n",
        "epoch 136\n",
        "train mean loss=37.55207440101937"
       ]
      },
      {
       "output_type": "stream",
       "stream": "stdout",
       "text": [
        "\n",
        " test mean loss=8.36296110967631\n",
        "epoch 137\n",
        "train mean loss=36.9138969943948"
       ]
      },
      {
       "output_type": "stream",
       "stream": "stdout",
       "text": [
        "\n",
        " test mean loss=9.28998122202135\n",
        "epoch 138\n",
        "train mean loss=37.04113008682042"
       ]
      },
      {
       "output_type": "stream",
       "stream": "stdout",
       "text": [
        "\n",
        " test mean loss=8.702449746039944\n",
        "epoch 139\n",
        "train mean loss=37.75064254133669"
       ]
      },
      {
       "output_type": "stream",
       "stream": "stdout",
       "text": [
        "\n",
        " test mean loss=8.533944962766872\n",
        "epoch 140\n",
        "train mean loss=37.53878779999197"
       ]
      },
      {
       "output_type": "stream",
       "stream": "stdout",
       "text": [
        "\n",
        " test mean loss=8.405740196711433\n",
        "epoch 141\n",
        "train mean loss=37.385473298373284"
       ]
      },
      {
       "output_type": "stream",
       "stream": "stdout",
       "text": [
        "\n",
        " test mean loss=8.548949186466942\n",
        "epoch 142\n",
        "train mean loss=38.493302102284886"
       ]
      },
      {
       "output_type": "stream",
       "stream": "stdout",
       "text": [
        "\n",
        " test mean loss=8.521624940814394\n",
        "epoch 143\n",
        "train mean loss=37.523598574285636"
       ]
      },
      {
       "output_type": "stream",
       "stream": "stdout",
       "text": [
        "\n",
        " test mean loss=8.329764710313361\n",
        "epoch 144\n",
        "train mean loss=37.387860692690495"
       ]
      },
      {
       "output_type": "stream",
       "stream": "stdout",
       "text": [
        "\n",
        " test mean loss=8.47773948648416\n",
        "epoch 145\n",
        "train mean loss=37.56065598579302"
       ]
      },
      {
       "output_type": "stream",
       "stream": "stdout",
       "text": [
        "\n",
        " test mean loss=8.211947690685262\n",
        "epoch 146\n",
        "train mean loss=38.35062862030448"
       ]
      },
      {
       "output_type": "stream",
       "stream": "stdout",
       "text": [
        "\n",
        " test mean loss=8.375632882446626\n",
        "epoch 147\n",
        "train mean loss=39.13628623648866"
       ]
      },
      {
       "output_type": "stream",
       "stream": "stdout",
       "text": [
        "\n",
        " test mean loss=9.446236602530991\n",
        "epoch 148\n",
        "train mean loss=37.89994966689854"
       ]
      },
      {
       "output_type": "stream",
       "stream": "stdout",
       "text": [
        "\n",
        " test mean loss=9.177029528236915\n",
        "epoch 149\n",
        "train mean loss=48.36521899079623"
       ]
      },
      {
       "output_type": "stream",
       "stream": "stdout",
       "text": [
        "\n",
        " test mean loss=9.40947763322142\n",
        "epoch 150\n",
        "train mean loss=37.338794112532106"
       ]
      },
      {
       "output_type": "stream",
       "stream": "stdout",
       "text": [
        "\n",
        " test mean loss=9.166017642691116\n",
        "epoch 151\n",
        "train mean loss=36.53672807249304"
       ]
      },
      {
       "output_type": "stream",
       "stream": "stdout",
       "text": [
        "\n",
        " test mean loss=8.758251011535812\n",
        "epoch 152\n",
        "train mean loss=36.76322460435841"
       ]
      },
      {
       "output_type": "stream",
       "stream": "stdout",
       "text": [
        "\n",
        " test mean loss=8.293374978477962\n",
        "epoch 153\n",
        "train mean loss=37.89903447399401"
       ]
      },
      {
       "output_type": "stream",
       "stream": "stdout",
       "text": [
        "\n",
        " test mean loss=8.599076704545455\n",
        "epoch 154\n",
        "train mean loss=36.803717208235234"
       ]
      },
      {
       "output_type": "stream",
       "stream": "stdout",
       "text": [
        "\n",
        " test mean loss=8.64246647942493\n",
        "epoch 155\n",
        "train mean loss=39.37888860833155"
       ]
      },
      {
       "output_type": "stream",
       "stream": "stdout",
       "text": [
        "\n",
        " test mean loss=8.648247837035123\n",
        "epoch 156\n",
        "train mean loss=37.23693496495077"
       ]
      },
      {
       "output_type": "stream",
       "stream": "stdout",
       "text": [
        "\n",
        " test mean loss=8.607088955965908\n",
        "epoch 157\n",
        "train mean loss=36.935852134391055"
       ]
      },
      {
       "output_type": "stream",
       "stream": "stdout",
       "text": [
        "\n",
        " test mean loss=9.160100427212466\n",
        "epoch 158\n",
        "train mean loss=36.896933485057254"
       ]
      },
      {
       "output_type": "stream",
       "stream": "stdout",
       "text": [
        "\n",
        " test mean loss=9.034945737560262\n",
        "epoch 159\n",
        "train mean loss=37.035541105923585"
       ]
      },
      {
       "output_type": "stream",
       "stream": "stdout",
       "text": [
        "\n",
        " test mean loss=8.503868586432507\n",
        "epoch 160\n",
        "train mean loss=36.643589636397685"
       ]
      },
      {
       "output_type": "stream",
       "stream": "stdout",
       "text": [
        "\n",
        " test mean loss=9.009497944645316\n",
        "epoch 161\n",
        "train mean loss=36.68341511765571"
       ]
      },
      {
       "output_type": "stream",
       "stream": "stdout",
       "text": [
        "\n",
        " test mean loss=8.813427465349518\n",
        "epoch 162\n",
        "train mean loss=41.90369028587864"
       ]
      },
      {
       "output_type": "stream",
       "stream": "stdout",
       "text": [
        "\n",
        " test mean loss=9.251560347796143\n",
        "epoch 163\n",
        "train mean loss=36.768231661025794"
       ]
      },
      {
       "output_type": "stream",
       "stream": "stdout",
       "text": [
        "\n",
        " test mean loss=9.046445231792354\n",
        "epoch 164\n",
        "train mean loss=36.38333226034086"
       ]
      },
      {
       "output_type": "stream",
       "stream": "stdout",
       "text": [
        "\n",
        " test mean loss=8.592189652203857\n",
        "epoch 165\n",
        "train mean loss=37.60779711579623"
       ]
      },
      {
       "output_type": "stream",
       "stream": "stdout",
       "text": [
        "\n",
        " test mean loss=9.783681990358128\n",
        "epoch 166\n",
        "train mean loss=37.60729834151594"
       ]
      },
      {
       "output_type": "stream",
       "stream": "stdout",
       "text": [
        "\n",
        " test mean loss=8.754555273975551\n",
        "epoch 167\n",
        "train mean loss=37.19705476107663"
       ]
      },
      {
       "output_type": "stream",
       "stream": "stdout",
       "text": [
        "\n",
        " test mean loss=8.406645467458677\n",
        "epoch 168\n",
        "train mean loss=36.664579124973244"
       ]
      },
      {
       "output_type": "stream",
       "stream": "stdout",
       "text": [
        "\n",
        " test mean loss=9.025022732653238\n",
        "epoch 169\n",
        "train mean loss=38.89521668316567"
       ]
      },
      {
       "output_type": "stream",
       "stream": "stdout",
       "text": [
        "\n",
        " test mean loss=8.488361957644628\n",
        "epoch 170\n",
        "train mean loss=37.02109517136665"
       ]
      },
      {
       "output_type": "stream",
       "stream": "stdout",
       "text": [
        "\n",
        " test mean loss=8.483448207214188\n",
        "epoch 171\n",
        "train mean loss=37.76702922664276"
       ]
      },
      {
       "output_type": "stream",
       "stream": "stdout",
       "text": [
        "\n",
        " test mean loss=9.091660344567838\n",
        "epoch 172\n",
        "train mean loss=38.63733796420163"
       ]
      },
      {
       "output_type": "stream",
       "stream": "stdout",
       "text": [
        "\n",
        " test mean loss=9.686380853994491\n",
        "epoch 173\n",
        "train mean loss=46.8407036768247"
       ]
      },
      {
       "output_type": "stream",
       "stream": "stdout",
       "text": [
        "\n",
        " test mean loss=9.05402838756887\n",
        "epoch 174\n",
        "train mean loss=36.85685516775471"
       ]
      },
      {
       "output_type": "stream",
       "stream": "stdout",
       "text": [
        "\n",
        " test mean loss=8.434133146091598\n",
        "epoch 175\n",
        "train mean loss=37.602803353087545"
       ]
      },
      {
       "output_type": "stream",
       "stream": "stdout",
       "text": [
        "\n",
        " test mean loss=9.414484197443182\n",
        "epoch 176\n",
        "train mean loss=36.57723342686484"
       ]
      },
      {
       "output_type": "stream",
       "stream": "stdout",
       "text": [
        "\n",
        " test mean loss=8.586263020833334\n",
        "epoch 177\n",
        "train mean loss=36.63965738374893"
       ]
      },
      {
       "output_type": "stream",
       "stream": "stdout",
       "text": [
        "\n",
        " test mean loss=9.078371158316116\n",
        "epoch 178\n",
        "train mean loss=39.26138949459546"
       ]
      },
      {
       "output_type": "stream",
       "stream": "stdout",
       "text": [
        "\n",
        " test mean loss=9.942968615487258\n",
        "epoch 179\n",
        "train mean loss=37.65172319804152"
       ]
      },
      {
       "output_type": "stream",
       "stream": "stdout",
       "text": [
        "\n",
        " test mean loss=9.30204163438361\n",
        "epoch 180\n",
        "train mean loss=36.44687863702644"
       ]
      },
      {
       "output_type": "stream",
       "stream": "stdout",
       "text": [
        "\n",
        " test mean loss=8.52718569752927\n",
        "epoch 181\n",
        "train mean loss=46.068647243552014"
       ]
      },
      {
       "output_type": "stream",
       "stream": "stdout",
       "text": [
        "\n",
        " test mean loss=8.4826787943354\n",
        "epoch 182\n",
        "train mean loss=38.422796254615264"
       ]
      },
      {
       "output_type": "stream",
       "stream": "stdout",
       "text": [
        "\n",
        " test mean loss=10.616332671530648\n",
        "epoch 183\n",
        "train mean loss=38.718258541577484"
       ]
      },
      {
       "output_type": "stream",
       "stream": "stdout",
       "text": [
        "\n",
        " test mean loss=8.806972871470386\n",
        "epoch 184\n",
        "train mean loss=37.32664289082566"
       ]
      },
      {
       "output_type": "stream",
       "stream": "stdout",
       "text": [
        "\n",
        " test mean loss=8.796792274664256\n",
        "epoch 185\n",
        "train mean loss=36.67918508869328"
       ]
      },
      {
       "output_type": "stream",
       "stream": "stdout",
       "text": [
        "\n",
        " test mean loss=8.33511898997073\n",
        "epoch 186\n",
        "train mean loss=39.158572763939425"
       ]
      },
      {
       "output_type": "stream",
       "stream": "stdout",
       "text": [
        "\n",
        " test mean loss=8.402467501721762\n",
        "epoch 187\n",
        "train mean loss=38.65984400919039"
       ]
      },
      {
       "output_type": "stream",
       "stream": "stdout",
       "text": [
        "\n",
        " test mean loss=8.493787529054751\n",
        "epoch 188\n",
        "train mean loss=36.84325820713827"
       ]
      },
      {
       "output_type": "stream",
       "stream": "stdout",
       "text": [
        "\n",
        " test mean loss=8.412014543517563\n",
        "epoch 189\n",
        "train mean loss=36.34534431353007"
       ]
      },
      {
       "output_type": "stream",
       "stream": "stdout",
       "text": [
        "\n",
        " test mean loss=8.780369614109848\n",
        "epoch 190\n",
        "train mean loss=37.321274723418774"
       ]
      },
      {
       "output_type": "stream",
       "stream": "stdout",
       "text": [
        "\n",
        " test mean loss=8.834477364195937\n",
        "epoch 191\n",
        "train mean loss=36.221564264166844"
       ]
      },
      {
       "output_type": "stream",
       "stream": "stdout",
       "text": [
        "\n",
        " test mean loss=8.119904657369146\n",
        "epoch 192\n",
        "train mean loss=38.11590484201091"
       ]
      },
      {
       "output_type": "stream",
       "stream": "stdout",
       "text": [
        "\n",
        " test mean loss=9.340969621642563\n",
        "epoch 193\n",
        "train mean loss=48.091279163099315"
       ]
      },
      {
       "output_type": "stream",
       "stream": "stdout",
       "text": [
        "\n",
        " test mean loss=9.256218524018594\n",
        "epoch 194\n",
        "train mean loss=37.09393339810306"
       ]
      },
      {
       "output_type": "stream",
       "stream": "stdout",
       "text": [
        "\n",
        " test mean loss=10.247376328985881\n",
        "epoch 195\n",
        "train mean loss=37.73072518126605"
       ]
      },
      {
       "output_type": "stream",
       "stream": "stdout",
       "text": [
        "\n",
        " test mean loss=8.2857729909177\n",
        "epoch 196\n",
        "train mean loss=37.306984971973996"
       ]
      },
      {
       "output_type": "stream",
       "stream": "stdout",
       "text": [
        "\n",
        " test mean loss=8.741216318009641\n",
        "epoch 197\n",
        "train mean loss=36.99062090311965"
       ]
      },
      {
       "output_type": "stream",
       "stream": "stdout",
       "text": [
        "\n",
        " test mean loss=8.216703388644973\n",
        "epoch 198\n",
        "train mean loss=38.3274225104345"
       ]
      },
      {
       "output_type": "stream",
       "stream": "stdout",
       "text": [
        "\n",
        " test mean loss=8.667940502324381\n",
        "epoch 199\n",
        "train mean loss=38.68764431052012"
       ]
      },
      {
       "output_type": "stream",
       "stream": "stdout",
       "text": [
        "\n",
        " test mean loss=8.790230743155991\n",
        "epoch 200\n",
        "train mean loss=37.546709368980096"
       ]
      },
      {
       "output_type": "stream",
       "stream": "stdout",
       "text": [
        "\n",
        " test mean loss=8.66327089251894\n"
       ]
      },
      {
       "metadata": {},
       "output_type": "pyout",
       "prompt_number": 1,
       "text": [
        "[<matplotlib.lines.Line2D at 0x14c74d1fd30>]"
       ]
      },
      {
       "metadata": {},
       "output_type": "display_data",
       "png": "[encoded data removed]",
       "text": [
        "<matplotlib.figure.Figure at 0x14c74c89908>"
       ]
      }
     ],
     "prompt_number": 1
    },
    {
     "cell_type": "code",
     "collapsed": false,
     "input": [
      "pyplot.plot(Ylist[0])#\u51fa\u529b(\u9752)\n",
      "pyplot.plot(y_test)#\u6b63\u89e3\u30c7\u30fc\u30bf(\u7dd1)\n",
      "pyplot.ylim=30"
     ],
     "language": "python",
     "metadata": {},
     "outputs": [
      {
       "metadata": {},
       "output_type": "display_data",
       "png": "[encoded data removed]",
       "text": [
        "<matplotlib.figure.Figure at 0x14c74ddd4e0>"
       ]
      }
     ],
     "prompt_number": 3
    },
    {
     "cell_type": "code",
     "collapsed": false,
     "input": [
      "MAPE= sum(abs(Ylist[0]-y_test)/(y_test))*1/365*100\n",
      "print(MAPE)"
     ],
     "language": "python",
     "metadata": {},
     "outputs": [
      {
       "output_type": "stream",
       "stream": "stdout",
       "text": [
        "[ 149.75378418]\n"
       ]
      }
     ],
     "prompt_number": 4
    },
    {
     "cell_type": "code",
     "collapsed": false,
     "input": [
      "pearson = np.corrcoef(np.asarray(Ylist[0]).reshape(len(Ylist[0]),), np.asarray(y_test).reshape(len(Ylist[0]),))\n",
      "pearson"
     ],
     "language": "python",
     "metadata": {},
     "outputs": [
      {
       "metadata": {},
       "output_type": "pyout",
       "prompt_number": 5,
       "text": [
        "array([[ 1.        ,  0.58879142],\n",
        "       [ 0.58879142,  1.        ]])"
       ]
      }
     ],
     "prompt_number": 5
    },
    {
     "cell_type": "code",
     "collapsed": false,
     "input": [
      "pyplot.plot(np.log(y_train))"
     ],
     "language": "python",
     "metadata": {},
     "outputs": [
      {
       "metadata": {},
       "output_type": "pyout",
       "prompt_number": 6,
       "text": [
        "[<matplotlib.lines.Line2D at 0x14c77ed26a0>]"
       ]
      },
      {
       "metadata": {},
       "output_type": "display_data",
       "png": "[encoded data removed]",
       "text": [
        "<matplotlib.figure.Figure at 0x14c77e97e10>"
       ]
      }
     ],
     "prompt_number": 6
    },
    {
     "cell_type": "code",
     "collapsed": false,
     "input": [
      "np.mean(abs(Ylist[0]-y_test))"
     ],
     "language": "python",
     "metadata": {},
     "outputs": [
      {
       "metadata": {},
       "output_type": "pyout",
       "prompt_number": 215,
       "text": [
        "35.09441"
       ]
      }
     ],
     "prompt_number": 215
    },
    {
     "cell_type": "code",
     "collapsed": false,
     "input": [],
     "language": "python",
     "metadata": {},
     "outputs": []
    }
   ],
   "metadata": {}
  }
 ]
}