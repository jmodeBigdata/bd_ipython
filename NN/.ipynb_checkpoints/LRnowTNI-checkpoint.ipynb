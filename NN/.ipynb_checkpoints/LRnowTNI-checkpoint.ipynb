{
 "metadata": {
  "name": "",
  "signature": "sha256:365cb5b7ceb54539a0d2c2177969d9670bbe2a5ab2e36cf3e9c4bb738113b626"
 },
 "nbformat": 3,
 "nbformat_minor": 0,
 "worksheets": []
}